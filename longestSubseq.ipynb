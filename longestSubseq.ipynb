{
  "nbformat": 4,
  "nbformat_minor": 0,
  "metadata": {
    "colab": {
      "name": "longestSubseq.ipynb",
      "provenance": [],
      "collapsed_sections": []
    },
    "kernelspec": {
      "name": "python3",
      "display_name": "Python 3"
    }
  },
  "cells": [
    {
      "cell_type": "code",
      "metadata": {
        "id": "7uwci3huQ-BG",
        "colab": {
          "base_uri": "https://localhost:8080/"
        },
        "outputId": "61c973e8-8b97-45a4-f31b-1498d0e10966"
      },
      "source": [
        "# força bruta\n",
        "\n",
        "# identifiquem 'combinations' com la funció que necessitem\n",
        "from itertools import combinations\n",
        "\n",
        "def subsequencia_comu_v1(paraula1, paraula2):\n",
        "  seq = []\n",
        "  max_long = 0\n",
        "\n",
        "  # generem totes les subsequencies de la primera paraula i les guardem en una llista\n",
        "  for i in range(1,len(paraula1)+1):\n",
        "    for j in combinations(paraula1,i):\n",
        "      seq.append(j)\n",
        "\n",
        "  # generem totes les de la segona, per cada una mirem si estava a la llista anterior\n",
        "  # i guardem la llargada si hi era\n",
        "  for i in range(1,len(paraula2)+1):\n",
        "    for j in combinations(paraula2,i):\n",
        "      if j in seq:\n",
        "        max_long = i\n",
        "  return max_long\n",
        "\n",
        "print(subsequencia_comu_v1('STUTVST', 'TVUSTS'))\n",
        "print(subsequencia_comu_v1('atatata', 'atatat'))\n",
        "print(subsequencia_comu_v1('atatatatatatatatatatat', 'atatatatata'))\n",
        "%timeit subsequencia_comu_v1('STUTVST', 'TVUSTS')\n",
        "%timeit subsequencia_comu_v1('atatata', 'atatat')\n",
        "%timeit subsequencia_comu_v1('atatatatatatatatatatat', 'atatatatata')"
      ],
      "execution_count": null,
      "outputs": [
        {
          "output_type": "stream",
          "text": [
            "4\n",
            "6\n",
            "11\n",
            "10000 loops, best of 3: 121 µs per loop\n",
            "10000 loops, best of 3: 72.4 µs per loop\n",
            "1 loop, best of 3: 4.96 s per loop\n"
          ],
          "name": "stdout"
        }
      ]
    },
    {
      "cell_type": "code",
      "metadata": {
        "id": "YQpB-H0uSa40",
        "colab": {
          "base_uri": "https://localhost:8080/"
        },
        "outputId": "3dc310c9-213e-4a72-9176-2b896fca31ce"
      },
      "source": [
        "# versió amb dues funcions i usant un conjunt\n",
        "\n",
        "from itertools import combinations\n",
        "\n",
        "def subsequencia_comu_v2(paraula1, paraula2):\n",
        "  seq = set()\n",
        "  max_long = 0\n",
        "\n",
        "  # generem totes les de la primera paraula i les guardem en una llista\n",
        "  for i in range(1,len(paraula1)+1):\n",
        "    for j in combinations(paraula1,i):\n",
        "      seq.add(j)\n",
        "\n",
        "  # generem totes les de la segona, mirem si estava a la llista anterior\n",
        "  # i comprovem quina és la més llarga\n",
        "  for i in range(1,len(paraula2)+1):\n",
        "    for j in combinations(paraula2,i):\n",
        "      if j in seq:\n",
        "        max_long = i\n",
        "  return max_long\n",
        "\n",
        "%timeit subsequencia_comu_v2('STUTVST', 'TVUSTS')\n",
        "%timeit subsequencia_comu_v2('atatata', 'atatata')\n",
        "%timeit subsequencia_comu_v2('atatatatatatatatatatat', 'ata')"
      ],
      "execution_count": null,
      "outputs": [
        {
          "output_type": "stream",
          "text": [
            "10000 loops, best of 3: 26.4 µs per loop\n",
            "10000 loops, best of 3: 34 µs per loop\n",
            "1 loop, best of 3: 911 ms per loop\n"
          ],
          "name": "stdout"
        }
      ]
    },
    {
      "cell_type": "code",
      "metadata": {
        "id": "nZMwTq_wRGWT",
        "colab": {
          "base_uri": "https://localhost:8080/"
        },
        "outputId": "ac7db4a9-43f9-4659-cf9f-1d411e1343df"
      },
      "source": [
        "# no hem de fer càlculs innecessaris!\n",
        "# 1) només arribarem fins a la longitud de la parala més curta!\n",
        "# 2) fem servir un set per no repetir elements de la primera llista\n",
        "\n",
        "def extreure_sub_sequencies_long_j(paraula,i):\n",
        "    seq = set()\n",
        "    for j in combinations(paraula,i):\n",
        "        seq.add(j)\n",
        "    return seq\n",
        "\n",
        "def subsequencia_comu_v2(paraula1, paraula2):\n",
        "    maxlen = 0\n",
        "    seq1 = set()\n",
        "    seq2 = set()\n",
        "    for i in range(1,min(len(paraula1)+1, len(paraula2)+1)):\n",
        "        seq1 = extreure_sub_sequencies_long_j(paraula1,i)\n",
        "        seq2 = extreure_sub_sequencies_long_j(paraula2,i)\n",
        "        intersect = seq1.intersection(seq2)\n",
        "        if len(intersect):\n",
        "            for i in intersect:\n",
        "                if len(i)>maxlen:\n",
        "                    maxlen = len(i)\n",
        "    return maxlen\n",
        "        \n",
        "%timeit subsequencia_comu_v2('STUTVST', 'TVUSTS')\n",
        "%timeit subsequencia_comu_v2('atatata', 'atatata')\n",
        "%timeit subsequencia_comu_v2('atatatatatatatatatatat', 'atatatatata')"
      ],
      "execution_count": null,
      "outputs": [
        {
          "output_type": "stream",
          "text": [
            "10000 loops, best of 3: 39.2 µs per loop\n",
            "10000 loops, best of 3: 45 µs per loop\n",
            "1 loop, best of 3: 376 ms per loop\n"
          ],
          "name": "stdout"
        }
      ]
    },
    {
      "cell_type": "code",
      "metadata": {
        "id": "l7khShFzVm66",
        "colab": {
          "base_uri": "https://localhost:8080/"
        },
        "outputId": "d3374a63-896e-41cb-c3d0-147aef0ed693"
      },
      "source": [
        "def subsequencia_comu_v3(cadena1, cadena2):\n",
        "    \"\"\"\n",
        "    En aquest algorisme s'optimitzen els càlculs amb una taula on es guarden\n",
        "    les solucions parcials\n",
        "    \"\"\"\n",
        "    \n",
        "    longcad1 = len(cadena1)\n",
        "    longcad2 = len(cadena2)\n",
        "    \n",
        "    # Cal definir fila dins el bucle perquè altrament totes les files són la mateixa\n",
        "    taula_solucions=[[0] * (longcad1 + 1) for i in range(longcad2 + 1)]\n",
        "        \n",
        "    # La casella[i][j] guarda el valor de longitud de la\n",
        "    # subseqüència més llarga entre cadena1[0:j] i cadena2[0:i]\n",
        "    \n",
        "    for j in range(1, longcad1+1):\n",
        "        for i in range(1, longcad2+1):\n",
        "            temp = max(taula_solucions[i-1][j],  taula_solucions[i][j-1])\n",
        "            if cadena1[j-1] == cadena2[i-1]:\n",
        "                taula_solucions[i][j] = taula_solucions[i-1][j-1]+1\n",
        "            else:\n",
        "                taula_solucions[i][j] = temp\n",
        "\n",
        "    return taula_solucions[longcad2][longcad1]\n",
        "print(subsequencia_comu_v3('STUTVST', 'TVUSTS'))\n",
        "print(subsequencia_comu_v3('atatata', 'atatat'))\n",
        "print(subsequencia_comu_v3('atatatatatatatatatatat', 'atatatatata'))\n",
        "%timeit subsequencia_comu_v3('STUTVST', 'TVUSTS')\n",
        "%timeit subsequencia_comu_v3('atatata', 'atatat')\n",
        "%timeit subsequencia_comu_v3('atatatatatatatatatatat', 'atatatatata')"
      ],
      "execution_count": null,
      "outputs": [
        {
          "output_type": "stream",
          "text": [
            "4\n",
            "6\n",
            "11\n",
            "10000 loops, best of 3: 22.4 µs per loop\n",
            "100000 loops, best of 3: 20.5 µs per loop\n",
            "10000 loops, best of 3: 106 µs per loop\n"
          ],
          "name": "stdout"
        }
      ]
    },
    {
      "cell_type": "code",
      "metadata": {
        "colab": {
          "base_uri": "https://localhost:8080/"
        },
        "id": "S4uybckKVz--",
        "outputId": "76e625bc-3304-488e-a35a-90e2d1a32a1a"
      },
      "source": [
        "[1,1,1,1,2,3,3]\n"
      ],
      "execution_count": null,
      "outputs": [
        {
          "output_type": "execute_result",
          "data": {
            "text/plain": [
              "[1, 1, 1, 1, 2, 3, 3]"
            ]
          },
          "metadata": {
            "tags": []
          },
          "execution_count": 16
        }
      ]
    },
    {
      "cell_type": "code",
      "metadata": {
        "colab": {
          "base_uri": "https://localhost:8080/"
        },
        "id": "1Ec_SvSlX56I",
        "outputId": "95085b8d-c9e3-43af-87ba-5029df99771a"
      },
      "source": [
        "[1,2,3]"
      ],
      "execution_count": null,
      "outputs": [
        {
          "output_type": "execute_result",
          "data": {
            "text/plain": [
              "[1, 2, 3]"
            ]
          },
          "metadata": {
            "tags": []
          },
          "execution_count": 17
        }
      ]
    },
    {
      "cell_type": "code",
      "metadata": {
        "id": "xJeqjwlQX-Aq"
      },
      "source": [
        "f = set()\n",
        "f.add(1)\n",
        "f.add(1)"
      ],
      "execution_count": null,
      "outputs": []
    },
    {
      "cell_type": "code",
      "metadata": {
        "colab": {
          "base_uri": "https://localhost:8080/"
        },
        "id": "mIn4hek7YH62",
        "outputId": "db5840f8-891c-44fa-aaa6-52ac3b1181e7"
      },
      "source": [
        "f"
      ],
      "execution_count": null,
      "outputs": [
        {
          "output_type": "execute_result",
          "data": {
            "text/plain": [
              "{1}"
            ]
          },
          "metadata": {
            "tags": []
          },
          "execution_count": 22
        }
      ]
    },
    {
      "cell_type": "code",
      "metadata": {
        "colab": {
          "base_uri": "https://localhost:8080/"
        },
        "id": "N5SskUxHYKl4",
        "outputId": "efeb4858-d295-4fa4-9623-0f8a13df86fd"
      },
      "source": [
        "1 in f"
      ],
      "execution_count": null,
      "outputs": [
        {
          "output_type": "execute_result",
          "data": {
            "text/plain": [
              "True"
            ]
          },
          "metadata": {
            "tags": []
          },
          "execution_count": 23
        }
      ]
    },
    {
      "cell_type": "code",
      "metadata": {
        "colab": {
          "base_uri": "https://localhost:8080/"
        },
        "id": "EwCOVrQJYTiv",
        "outputId": "5908c0f2-2cbd-4912-9e7a-600bdb518326"
      },
      "source": [
        "l = [1,1,1,1,2,3,3]\n",
        "9 in l"
      ],
      "execution_count": null,
      "outputs": [
        {
          "output_type": "execute_result",
          "data": {
            "text/plain": [
              "False"
            ]
          },
          "metadata": {
            "tags": []
          },
          "execution_count": 26
        }
      ]
    },
    {
      "cell_type": "code",
      "metadata": {
        "colab": {
          "base_uri": "https://localhost:8080/"
        },
        "id": "GzOGiyfPYebK",
        "outputId": "6d2e963b-2e07-4dfa-f180-4ab9ad0667b0"
      },
      "source": [
        "j = set(l)\n",
        "type(j)"
      ],
      "execution_count": null,
      "outputs": [
        {
          "output_type": "execute_result",
          "data": {
            "text/plain": [
              "set"
            ]
          },
          "metadata": {
            "tags": []
          },
          "execution_count": 29
        }
      ]
    },
    {
      "cell_type": "code",
      "metadata": {
        "id": "d9Fv3DPkYkJH"
      },
      "source": [
        ""
      ],
      "execution_count": null,
      "outputs": []
    }
  ]
}