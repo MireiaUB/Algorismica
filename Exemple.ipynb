{
  "nbformat": 4,
  "nbformat_minor": 0,
  "metadata": {
    "colab": {
      "name": "Exemple.ipynb",
      "provenance": [],
      "collapsed_sections": []
    },
    "kernelspec": {
      "display_name": "Python 3",
      "language": "python",
      "name": "python3"
    },
    "language_info": {
      "codemirror_mode": {
        "name": "ipython",
        "version": 3
      },
      "file_extension": ".py",
      "mimetype": "text/x-python",
      "name": "python",
      "nbconvert_exporter": "python",
      "pygments_lexer": "ipython3",
      "version": "3.7.6"
    }
  },
  "cells": [
    {
      "cell_type": "markdown",
      "metadata": {
        "id": "t0YAlIry50Lm"
      },
      "source": [
        "\n",
        "<div id=\"capcalera\">\n",
        "<p><a href=\"https://colab.research.google.com/github/algorismica2020/algorismica2020.github.io/blob/master/notebookscolab/Exemple.ipynb\"><img style=\"margin:-10px 10px 20px 0\" width=\"150px\" align=\"right\" src=\"https://raw.githubusercontent.com/algorismica2019/problemes/master/assets/colab-badge.png?raw=1\" alt=\"Obrir a Colab\" title=\"Obrir i executar a Google Colaboratory\"></a></p>\n",
        "<p style=\"clear:both\"><img align='left' width=\"300px\" style=\"padding-right:10px;float=left\" src=\"https://raw.githubusercontent.com/algorismica2019/problemes/master/assets/al-khwarizmi.png\" >Aquest notebook complementa la teoria de l'assignatura d'<strong>Algorísmica</strong> del Grau d'Enginyeria Informàtica a la <a href=\"https://mat.ub.edu\">Facultat de Matemàtiques i Informàtica</a> de la <a href=\"https://www.ub.edu\">Universitat de Barcelona</a> impartida per <em>Jordi Vitrià</em> i <em>Mireia Ribera</em></p>\n",
        "\n",
        "<p>Els problemes s'ofereixen sota llicència <a href=\"https://creativecommons.org/licenses/by-nc-nd/3.0/us/legalcode\">CC-BY-NC-ND license</a>, i el codi sota <a href=\"https://opensource.org/licenses/MIT\">Llicència MIT</a>.</p>\n",
        "\n",
        "</div>"
      ]
    },
    {
      "cell_type": "markdown",
      "metadata": {
        "id": "B7NjZ5JB50Ln"
      },
      "source": [
        "# <span class=\"tema\">(Cerca)</span> Cerca líneal (força bruta)"
      ]
    },
    {
      "cell_type": "markdown",
      "metadata": {
        "id": "0lGFKFwi50Lo"
      },
      "source": [
        "Aquest algorisme implementa la cerca per força bruta, recorrent els elements un a un."
      ]
    },
    {
      "cell_type": "code",
      "metadata": {
        "id": "Z44SQOeH50Lp"
      },
      "source": [
        "def linsearch(list,ele):\n",
        "  i=0\n",
        "  while i < len(list) and list[i] != ele:  # a cada iteració fa dues comparacions\n",
        "    i += 1\n",
        "  if i < len(list):\n",
        "      return i\n",
        "  else:\n",
        "        return -1"
      ],
      "execution_count": null,
      "outputs": []
    },
    {
      "cell_type": "code",
      "metadata": {
        "id": "BMQxnaXX-74a"
      },
      "source": [
        "k = 5\n",
        "list1 = [5,9,1,4,8,12,56]   # l'element buscat es troba a l'inici\n",
        "list2 = [12,34,3,1,9,6,2,5] # l'element buscat es troba al final\n",
        "list3 = [9,4,3,5,12,3,1,8]  # l'element buscat es troba al mig\n",
        "list4 = [9,1,4,8,12,56,7]   # l'element buscat no hi és"
      ],
      "execution_count": null,
      "outputs": []
    },
    {
      "cell_type": "code",
      "metadata": {
        "id": "_Ys7_D4k-74b",
        "outputId": "972401c4-6643-4665-a1ca-3e026f4ee070"
      },
      "source": [
        "linsearch(list1,k)"
      ],
      "execution_count": null,
      "outputs": [
        {
          "output_type": "execute_result",
          "data": {
            "text/plain": [
              "0"
            ]
          },
          "metadata": {
            "tags": []
          },
          "execution_count": 9
        }
      ]
    },
    {
      "cell_type": "markdown",
      "metadata": {
        "id": "G91KZzwB-74d"
      },
      "source": [
        "Ha recorregut **1** element, i ha fet 2 comparacions"
      ]
    },
    {
      "cell_type": "code",
      "metadata": {
        "id": "yHzuB8lg-74d",
        "outputId": "5b8d789d-c11b-4686-f2db-aebfe1c194f2"
      },
      "source": [
        "linsearch(list2,k)"
      ],
      "execution_count": null,
      "outputs": [
        {
          "output_type": "execute_result",
          "data": {
            "text/plain": [
              "7"
            ]
          },
          "metadata": {
            "tags": []
          },
          "execution_count": 5
        }
      ]
    },
    {
      "cell_type": "markdown",
      "metadata": {
        "id": "Lkq49PNW-74e"
      },
      "source": [
        "Ha recorregut **8** , i ha fet 16 comparacions"
      ]
    },
    {
      "cell_type": "code",
      "metadata": {
        "id": "YQFtinn3-74f",
        "outputId": "f94dcb45-40e2-456d-b5f1-e46fd164bc7e"
      },
      "source": [
        "linsearch(list3,k)"
      ],
      "execution_count": null,
      "outputs": [
        {
          "output_type": "execute_result",
          "data": {
            "text/plain": [
              "3"
            ]
          },
          "metadata": {
            "tags": []
          },
          "execution_count": 6
        }
      ]
    },
    {
      "cell_type": "markdown",
      "metadata": {
        "id": "GUD-bMUX-74f"
      },
      "source": [
        "Ha recorregut **4** elements, i ha fet 8 comparacions"
      ]
    },
    {
      "cell_type": "code",
      "metadata": {
        "id": "CrtbpbTC-74g",
        "outputId": "2303b441-cd79-4b75-c4a0-5060ebd04acc"
      },
      "source": [
        "linsearch(list4,k)"
      ],
      "execution_count": null,
      "outputs": [
        {
          "output_type": "execute_result",
          "data": {
            "text/plain": [
              "-1"
            ]
          },
          "metadata": {
            "tags": []
          },
          "execution_count": 7
        }
      ]
    },
    {
      "cell_type": "markdown",
      "metadata": {
        "id": "wFtYwTJg-74g"
      },
      "source": [
        "Ha recorregut **n** elements, i ha fet 2n comparacions"
      ]
    },
    {
      "cell_type": "code",
      "metadata": {
        "id": "zh6fVEMV-74g"
      },
      "source": [
        "def linsearchOpt(list,ele):\n",
        "  list.append(ele)  # cost O(1)\n",
        "  i=0\n",
        "  while list[i] != ele:  # a cada iteració fem només una comparació\n",
        "    i += 1\n",
        "  if i < len(list)-1: \n",
        "      return i\n",
        "  else: \n",
        "      return -1"
      ],
      "execution_count": null,
      "outputs": []
    },
    {
      "cell_type": "code",
      "metadata": {
        "id": "IxI15V9H-74h"
      },
      "source": [
        "k = 5\n",
        "list1 = [5,9,1,4,8,12,56]   # l'element buscat es troba a l'inici\n",
        "list2 = [12,34,3,1,9,6,2,5] # l'element buscat es troba al final\n",
        "list3 = [9,4,3,5,12,3,1,8]  # l'element buscat es troba al mig\n",
        "list4 = [9,1,4,8,12,56,7]   # l'element buscat no hi és"
      ],
      "execution_count": null,
      "outputs": []
    },
    {
      "cell_type": "code",
      "metadata": {
        "id": "3HQ0Qqde-74h",
        "outputId": "556f88ec-b918-4285-d005-9d7a78f94d30"
      },
      "source": [
        "linsearchOpt(list1,k)"
      ],
      "execution_count": null,
      "outputs": [
        {
          "output_type": "execute_result",
          "data": {
            "text/plain": [
              "0"
            ]
          },
          "metadata": {
            "tags": []
          },
          "execution_count": 12
        }
      ]
    },
    {
      "cell_type": "markdown",
      "metadata": {
        "id": "mh6dSG8c-74h"
      },
      "source": [
        "Ha recorregut **1** element, i ha fet 1 comparació"
      ]
    },
    {
      "cell_type": "code",
      "metadata": {
        "id": "c4jE2gvG-74i",
        "outputId": "fa7c6c68-b973-465c-f01d-bf000cc554cb"
      },
      "source": [
        "linsearchOpt(list2,k)"
      ],
      "execution_count": null,
      "outputs": [
        {
          "output_type": "execute_result",
          "data": {
            "text/plain": [
              "7"
            ]
          },
          "metadata": {
            "tags": []
          },
          "execution_count": 16
        }
      ]
    },
    {
      "cell_type": "markdown",
      "metadata": {
        "id": "SnBNL029-74j"
      },
      "source": [
        "Ha recorregut **8** elements, i ha fet 8 comparacions"
      ]
    },
    {
      "cell_type": "code",
      "metadata": {
        "id": "FuiuF8HZ-74k",
        "outputId": "9b01e0c2-dd5c-4e41-a999-09aeadc9c536"
      },
      "source": [
        "linsearchOpt(list3,k)"
      ],
      "execution_count": null,
      "outputs": [
        {
          "output_type": "execute_result",
          "data": {
            "text/plain": [
              "3"
            ]
          },
          "metadata": {
            "tags": []
          },
          "execution_count": 17
        }
      ]
    },
    {
      "cell_type": "markdown",
      "metadata": {
        "id": "mimS5y27-74k"
      },
      "source": [
        "Ha recorregut **4** elements, i ha fet 4 comparacions"
      ]
    },
    {
      "cell_type": "code",
      "metadata": {
        "id": "BCOoCx-9-74k",
        "outputId": "de6e0e28-cb70-42f8-dcd8-f37f1cb34448"
      },
      "source": [
        "linsearchOpt(list4,k)"
      ],
      "execution_count": null,
      "outputs": [
        {
          "output_type": "execute_result",
          "data": {
            "text/plain": [
              "7"
            ]
          },
          "metadata": {
            "tags": []
          },
          "execution_count": 18
        }
      ]
    },
    {
      "cell_type": "markdown",
      "metadata": {
        "id": "wjur8qQl-74k"
      },
      "source": [
        "Ha recorregut **n** elements, i ha fet n comparacions"
      ]
    }
  ]
}