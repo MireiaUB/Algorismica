{
  "nbformat": 4,
  "nbformat_minor": 0,
  "metadata": {
    "colab": {
      "name": "Exemple.ipynb",
      "provenance": [],
      "collapsed_sections": []
    },
    "kernelspec": {
      "display_name": "Python 3",
      "language": "python",
      "name": "python3"
    },
    "language_info": {
      "codemirror_mode": {
        "name": "ipython",
        "version": 3
      },
      "file_extension": ".py",
      "mimetype": "text/x-python",
      "name": "python",
      "nbconvert_exporter": "python",
      "pygments_lexer": "ipython3",
      "version": "3.7.6"
    }
  },
  "cells": [
    {
      "cell_type": "markdown",
      "metadata": {
        "id": "t0YAlIry50Lm"
      },
      "source": [
        "\n",
        "<div id=\"capcalera\">\n",
        "<p><a href=\"https://colab.research.google.com/github/algorismica2020/algorismica2020.github.io/blob/master/notebookscolab/Exemple.ipynb\"><img style=\"margin:-10px 10px 20px 0\" width=\"150px\" align=\"right\" src=\"https://raw.githubusercontent.com/algorismica2019/problemes/master/assets/colab-badge.png?raw=1\" alt=\"Obrir a Colab\" title=\"Obrir i executar a Google Colaboratory\"></a></p>\n",
        "<p style=\"clear:both\"><img align='left' width=\"300px\" style=\"padding-right:10px;float=left\" src=\"https://raw.githubusercontent.com/algorismica2019/problemes/master/assets/al-khwarizmi.png\" >Aquest notebook complementa la teoria de l'assignatura d'<strong>Algorísmica</strong> del Grau d'Enginyeria Informàtica a la <a href=\"https://mat.ub.edu\">Facultat de Matemàtiques i Informàtica</a> de la <a href=\"https://www.ub.edu\">Universitat de Barcelona</a> impartida per <em>Jordi Vitrià</em> i <em>Mireia Ribera</em></p>\n",
        "\n",
        "<p>Els problemes s'ofereixen sota llicència <a href=\"https://creativecommons.org/licenses/by-nc-nd/3.0/us/legalcode\">CC-BY-NC-ND license</a>, i el codi sota <a href=\"https://opensource.org/licenses/MIT\">Llicència MIT</a>.</p>\n",
        "\n",
        "</div>"
      ]
    },
    {
      "cell_type": "markdown",
      "metadata": {
        "id": "B7NjZ5JB50Ln"
      },
      "source": [
        "# <span class=\"tema\">(Cerca)</span> Cerca exhaustiva i aleatòria"
      ]
    },
    {
      "cell_type": "markdown",
      "metadata": {
        "id": "bBpKx5rx--GP"
      },
      "source": [
        "## Cerca exhaustiva"
      ]
    },
    {
      "cell_type": "markdown",
      "metadata": {
        "id": "0lGFKFwi50Lo"
      },
      "source": [
        "Aquest algorisme implementa la cerca exhaustiva"
      ]
    },
    {
      "cell_type": "code",
      "metadata": {
        "id": "0sn07_ar--GR"
      },
      "source": [
        "# Funció multimodal. Hem de buscar el valor de x que maximitza la funció\n",
        "\n",
        "def func1d(x): # funció multimodal de la que buscarem max\n",
        "    import math\n",
        "    y = x * math.sin(10*math.pi*(x))+1.0\n",
        "    return y"
      ],
      "execution_count": null,
      "outputs": []
    },
    {
      "cell_type": "code",
      "metadata": {
        "id": "HnLi0FaY--GR"
      },
      "source": [
        "# Creem un range amb valors decimals, per conveniència\n",
        "\n",
        "def frange(start, stop, step): \n",
        "    current = start \n",
        "    while current < stop:\n",
        "        yield current   #yield proveeix un resultat i segueix\n",
        "        current += step"
      ],
      "execution_count": null,
      "outputs": []
    },
    {
      "cell_type": "code",
      "metadata": {
        "id": "E6HcsDZE--GS",
        "outputId": "ed703415-fb93-482c-ffbf-45cf4f948280"
      },
      "source": [
        "# Provem el frange\n",
        "\n",
        "for i in frange(0.1,1,0.2):\n",
        "    print(i, end=\",\")"
      ],
      "execution_count": null,
      "outputs": [
        {
          "output_type": "stream",
          "text": [
            "0.1,0.30000000000000004,0.5,0.7,0.8999999999999999,"
          ],
          "name": "stdout"
        }
      ]
    },
    {
      "cell_type": "code",
      "metadata": {
        "id": "i84_gLNM--GT"
      },
      "source": [
        "def linsearchfunc1d():   # la funció de cerca \n",
        "    x = -1  #valor inicial d'x\n",
        "    maxim=func1d(x)  # valor inicial d'y \n",
        "    for i in frange(-1.0,2.0,0.01):\n",
        "        if func1d(i)>maxim: \n",
        "            maxim=func1d(i)\n",
        "            x=i\n",
        "    return x, maxim"
      ],
      "execution_count": null,
      "outputs": []
    },
    {
      "cell_type": "code",
      "metadata": {
        "id": "aUpGultG--GU",
        "outputId": "43bbab99-807b-438a-cccf-71c5b86f43c1"
      },
      "source": [
        "linsearchfunc1d()"
      ],
      "execution_count": null,
      "outputs": [
        {
          "output_type": "execute_result",
          "data": {
            "text/plain": [
              "(1.850000000000002, 2.8500000000000023)"
            ]
          },
          "metadata": {
            "tags": []
          },
          "execution_count": 13
        }
      ]
    },
    {
      "cell_type": "code",
      "metadata": {
        "id": "8hjbgM2T--GV",
        "outputId": "bda77564-b1d7-461f-e8c7-149742c72b83"
      },
      "source": [
        "%timeit linsearchfunc1d()"
      ],
      "execution_count": null,
      "outputs": [
        {
          "output_type": "stream",
          "text": [
            "161 µs ± 12.9 µs per loop (mean ± std. dev. of 7 runs, 10000 loops each)\n"
          ],
          "name": "stdout"
        }
      ]
    },
    {
      "cell_type": "markdown",
      "metadata": {
        "id": "BLb6hT0Q--GV"
      },
      "source": [
        "## Cerca aleatòria"
      ]
    },
    {
      "cell_type": "code",
      "metadata": {
        "id": "YZEtL4W9--GV"
      },
      "source": [
        "def rsearchfunc1d():\n",
        "    import random\n",
        "    x = -1                                 # valor inicial d'x\n",
        "    maxim=func1d(x)                        # valor inicial d'y \n",
        "    for i in range(1000):                  # provem 1000 valors aleatòriament\n",
        "      xtemp = (random.random()*3.0)-1.0    # valors entre -1 i 2\n",
        "      if func1d(xtemp)>maxim:              # apliquem l'algorisme bàsic\n",
        "          maxim=func1d(xtemp)\n",
        "          x=xtemp\n",
        "    return x, maxim"
      ],
      "execution_count": null,
      "outputs": []
    },
    {
      "cell_type": "code",
      "metadata": {
        "id": "T9g5nnO3--GV",
        "outputId": "ef273a0a-c861-4d79-d692-7fd1ee2c2b4e"
      },
      "source": [
        "rsearchfunc1d()"
      ],
      "execution_count": null,
      "outputs": [
        {
          "output_type": "execute_result",
          "data": {
            "text/plain": [
              "(1.8502860462354258, 2.850211336332218)"
            ]
          },
          "metadata": {
            "tags": []
          },
          "execution_count": 20
        }
      ]
    },
    {
      "cell_type": "code",
      "metadata": {
        "id": "xQ7k5iGU--GW",
        "outputId": "1f7b8f10-1867-4e37-e111-b9a9d5e5dc18"
      },
      "source": [
        "%timeit rsearchfunc1d()  "
      ],
      "execution_count": null,
      "outputs": [
        {
          "output_type": "stream",
          "text": [
            "503 µs ± 17.7 µs per loop (mean ± std. dev. of 7 runs, 1000 loops each)\n"
          ],
          "name": "stdout"
        }
      ]
    },
    {
      "cell_type": "markdown",
      "metadata": {
        "id": "RkRi9WA_--GW"
      },
      "source": [
        "tarda molt més i el resultat és pitjor"
      ]
    }
  ]
}