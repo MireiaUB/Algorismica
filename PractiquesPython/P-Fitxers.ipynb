{
 "cells": [
  {
   "cell_type": "markdown",
   "metadata": {
    "id": "dwAKykq7-wwD"
   },
   "source": [
    "# Problemes amb fitxers"
   ]
  },
  {
   "cell_type": "markdown",
   "metadata": {
    "id": "MvCuNBq0_Zyb"
   },
   "source": [
    "**1**. Escriu un programa que llegeixi el contingut d'un fitxer de text anomenat \"fitxer.txt\" i el mostri per pantalla."
   ]
  },
  {
   "cell_type": "code",
   "execution_count": 22,
   "metadata": {
    "cellView": "form",
    "colab": {
     "base_uri": "https://localhost:8080/"
    },
    "executionInfo": {
     "elapsed": 250,
     "status": "ok",
     "timestamp": 1689870043252,
     "user": {
      "displayName": "Mireia Ribera",
      "userId": "13870616405792739474"
     },
     "user_tz": -120
    },
    "id": "QTPMagKU_fCT",
    "outputId": "5b5eb5d1-3578-4820-d7df-cd28d6573621"
   },
   "outputs": [],
   "source": [
    "#@title Solució\n",
    "def llegir_fitxer(nom_fitxer):\n",
    "    with open(nom_fitxer, 'r') as fitxer:\n",
    "        contingut = fitxer.read()\n",
    "    print(contingut)\n",
    "\n",
    "# Comentaris: quan usem with no cal fer el close"
   ]
  },
  {
   "cell_type": "code",
   "execution_count": 23,
   "metadata": {},
   "outputs": [
    {
     "name": "stdout",
     "output_type": "stream",
     "text": [
      "Hola quÃ¨ tal\n",
      "AixÃ² Ã©s un fitxer de text simple\n",
      "1 2 3 4\n",
      "1 2 3 4\n",
      "tralara\n"
     ]
    }
   ],
   "source": [
    "llegir_fitxer(\"fitxer.txt\")"
   ]
  },
  {
   "cell_type": "markdown",
   "metadata": {
    "id": "ZXxxg5vy_4op"
   },
   "source": [
    "**2**. Escriu un programa que compti el nombre de línies que hi ha en un fitxer de text anomenat \"fitxer.txt\" i ho mostri per pantalla."
   ]
  },
  {
   "cell_type": "code",
   "execution_count": 24,
   "metadata": {
    "cellView": "form",
    "colab": {
     "base_uri": "https://localhost:8080/"
    },
    "executionInfo": {
     "elapsed": 236,
     "status": "ok",
     "timestamp": 1689870046201,
     "user": {
      "displayName": "Mireia Ribera",
      "userId": "13870616405792739474"
     },
     "user_tz": -120
    },
    "id": "MS8GI0BH_--D",
    "outputId": "b25677bb-51db-4bdd-848f-20625661a7b6"
   },
   "outputs": [],
   "source": [
    "#@title Solució\n",
    "\n",
    "def comptar_linies(nom_fitxer):\n",
    "    with open(nom_fitxer, 'r') as fitxer:\n",
    "        llistes_de_linies = fitxer.readlines()\n",
    "    num_linies = len(llistes_de_linies)\n",
    "    print(\"Nombre de línies:\", num_linies)"
   ]
  },
  {
   "cell_type": "code",
   "execution_count": 25,
   "metadata": {},
   "outputs": [
    {
     "name": "stdout",
     "output_type": "stream",
     "text": [
      "Nombre de línies: 5\n"
     ]
    }
   ],
   "source": [
    "comptar_linies(\"fitxer.txt\")"
   ]
  },
  {
   "cell_type": "markdown",
   "metadata": {
    "id": "YaKMvi1IADhi"
   },
   "source": [
    "**3**. Escriu un programa que compti el nombre de paraules que hi ha en un fitxer de text anomenat \"fitxer.txt\" i ho mostri per pantalla."
   ]
  },
  {
   "cell_type": "code",
   "execution_count": 26,
   "metadata": {
    "cellView": "form",
    "colab": {
     "base_uri": "https://localhost:8080/"
    },
    "executionInfo": {
     "elapsed": 260,
     "status": "ok",
     "timestamp": 1689870049784,
     "user": {
      "displayName": "Mireia Ribera",
      "userId": "13870616405792739474"
     },
     "user_tz": -120
    },
    "id": "wEQ9VNc0AIol",
    "outputId": "8b341632-06b2-4732-8818-7ddb61544202"
   },
   "outputs": [],
   "source": [
    "#@title Solució\n",
    "def comptar_paraules(nom_fitxer):\n",
    "    with open(nom_fitxer, 'r') as fitxer:\n",
    "        contingut = fitxer.read()\n",
    "        paraules = contingut.split()\n",
    "    num_paraules = len(paraules)\n",
    "    print(\"Nombre de paraules:\", num_paraules)"
   ]
  },
  {
   "cell_type": "code",
   "execution_count": 27,
   "metadata": {},
   "outputs": [
    {
     "name": "stdout",
     "output_type": "stream",
     "text": [
      "Nombre de paraules: 19\n"
     ]
    }
   ],
   "source": [
    "comptar_paraules(\"fitxer.txt\")"
   ]
  },
  {
   "cell_type": "markdown",
   "metadata": {
    "id": "HYj83_rrAaxL"
   },
   "source": [
    "**4**. Escriu un programa que compti el nombre de caràcters que hi ha en un fitxer de text anomenat \"fitxer.txt\" i ho mostri per pantalla."
   ]
  },
  {
   "cell_type": "code",
   "execution_count": 28,
   "metadata": {
    "cellView": "form",
    "colab": {
     "base_uri": "https://localhost:8080/"
    },
    "executionInfo": {
     "elapsed": 252,
     "status": "ok",
     "timestamp": 1689870052939,
     "user": {
      "displayName": "Mireia Ribera",
      "userId": "13870616405792739474"
     },
     "user_tz": -120
    },
    "id": "hyNPhG6IAj3i",
    "outputId": "d6271853-e6dc-4fb4-e72c-5b48bad459da"
   },
   "outputs": [],
   "source": [
    "#@title Solució\n",
    "\n",
    "def comptar_caracters(nom_fitxer):\n",
    "    with open(nom_fitxer, 'r') as fitxer:\n",
    "        contingut = fitxer.read()\n",
    "    num_caracters = len(contingut)\n",
    "    print(\"Nombre de caràcters:\", num_caracters)"
   ]
  },
  {
   "cell_type": "code",
   "execution_count": 29,
   "metadata": {},
   "outputs": [
    {
     "name": "stdout",
     "output_type": "stream",
     "text": [
      "Nombre de caràcters: 72\n"
     ]
    }
   ],
   "source": [
    "comptar_caracters(\"fitxer.txt\")"
   ]
  },
  {
   "cell_type": "markdown",
   "metadata": {
    "id": "0RvqBI98Bjdz"
   },
   "source": [
    "**5**. Escriu un programa que busqui una paraula específica en un fitxer de text anomenat \"fitxer.txt\" i mostri el nombre d'aparicions d'aquesta paraula."
   ]
  },
  {
   "cell_type": "code",
   "execution_count": 30,
   "metadata": {
    "cellView": "form",
    "colab": {
     "base_uri": "https://localhost:8080/"
    },
    "executionInfo": {
     "elapsed": 2505,
     "status": "ok",
     "timestamp": 1689870078292,
     "user": {
      "displayName": "Mireia Ribera",
      "userId": "13870616405792739474"
     },
     "user_tz": -120
    },
    "id": "gV40Ue0LBn80",
    "outputId": "75877524-5846-48dd-d403-7dc3dcac2bf8"
   },
   "outputs": [],
   "source": [
    "#@title Solució\n",
    "\n",
    "def buscar_paraules(nom_fitxer, paraula):\n",
    "    with open(nom_fitxer, 'r') as fitxer:\n",
    "        contingut = fitxer.read()\n",
    "    num_aparicions = contingut.count(paraula)\n",
    "    print(f\"Aparicions de '{paraula}': {num_aparicions}\")\n"
   ]
  },
  {
   "cell_type": "code",
   "execution_count": 31,
   "metadata": {},
   "outputs": [
    {
     "name": "stdout",
     "output_type": "stream",
     "text": [
      "Aparicions de 'Hola': 1\n"
     ]
    }
   ],
   "source": [
    "buscar_paraules(\"fitxer.txt\", \"Hola\")"
   ]
  },
  {
   "cell_type": "markdown",
   "metadata": {
    "id": "U6CpZHsRCG4k"
   },
   "source": [
    "**6**. Escriu un programa que llegeixi un fitxer de text anomenat \"fitxer.txt\" i mostri només les línies úniques, sense repeticions."
   ]
  },
  {
   "cell_type": "code",
   "execution_count": 32,
   "metadata": {
    "cellView": "form",
    "colab": {
     "base_uri": "https://localhost:8080/"
    },
    "executionInfo": {
     "elapsed": 3925,
     "status": "ok",
     "timestamp": 1689870091319,
     "user": {
      "displayName": "Mireia Ribera",
      "userId": "13870616405792739474"
     },
     "user_tz": -120
    },
    "id": "zj161Wo1CJ9y",
    "outputId": "93b9ce19-19a5-4466-e0c5-5e328c55e833"
   },
   "outputs": [],
   "source": [
    "#@title Solució\n",
    "def llistar_linies_uniques(nom_fitxer):\n",
    "    with open(nom_fitxer, 'r') as fitxer:\n",
    "        llistes_de_linies = fitxer.readlines()\n",
    "    linies_uniques = set(llistes_de_linies)\n",
    "    for linia in linies_uniques:\n",
    "        print(linia.strip())  # Eliminar blancs addicionals"
   ]
  },
  {
   "cell_type": "code",
   "execution_count": 33,
   "metadata": {},
   "outputs": [
    {
     "name": "stdout",
     "output_type": "stream",
     "text": [
      "Hola quÃ¨ tal\n",
      "AixÃ² Ã©s un fitxer de text simple\n",
      "1 2 3 4\n",
      "tralara\n"
     ]
    }
   ],
   "source": [
    "llistar_linies_uniques(\"fitxer.txt\")"
   ]
  },
  {
   "cell_type": "markdown",
   "metadata": {
    "id": "LlNWMxTtFU7b"
   },
   "source": [
    "**7**. Escriu un programa que copii el contingut d'un fitxer anomenat \"fitxer.txt\" en un altre fitxer anomenat \"fitxer_copia.txt\"."
   ]
  },
  {
   "cell_type": "code",
   "execution_count": 34,
   "metadata": {
    "cellView": "form",
    "colab": {
     "base_uri": "https://localhost:8080/"
    },
    "executionInfo": {
     "elapsed": 268,
     "status": "ok",
     "timestamp": 1689870097349,
     "user": {
      "displayName": "Mireia Ribera",
      "userId": "13870616405792739474"
     },
     "user_tz": -120
    },
    "id": "qJP3EXqxC4a6",
    "outputId": "7163ea50-cb9c-449e-a9c7-5d3174fe49c1"
   },
   "outputs": [],
   "source": [
    "#@title Solució\n",
    "\n",
    "def copiar_fitxer(original, copia):\n",
    "    with open(original, 'r') as fitxer_original:\n",
    "        contingut = fitxer_original.read()\n",
    "    with open(copia, 'w') as fitxer_copia:\n",
    "        fitxer_copia.write(contingut)"
   ]
  },
  {
   "cell_type": "code",
   "execution_count": 36,
   "metadata": {},
   "outputs": [],
   "source": [
    "copiar_fitxer(\"fitxer.txt\", \"fitxer_copia.txt\")\n"
   ]
  },
  {
   "cell_type": "markdown",
   "metadata": {
    "id": "2L7HH9yOBMnj"
   },
   "source": [
    "**8**. Escriu un programa que concateni el contingut de dos fitxers anomenats \"fitxer1.txt\" i \"fitxer2.txt\" en un nou fitxer anomenat \"fitxer_concatenat.txt\"."
   ]
  },
  {
   "cell_type": "code",
   "execution_count": 37,
   "metadata": {
    "cellView": "form",
    "colab": {
     "base_uri": "https://localhost:8080/"
    },
    "executionInfo": {
     "elapsed": 242,
     "status": "ok",
     "timestamp": 1689870162032,
     "user": {
      "displayName": "Mireia Ribera",
      "userId": "13870616405792739474"
     },
     "user_tz": -120
    },
    "id": "LQgAQpspBQpE",
    "outputId": "816d723c-ad89-48db-8cc4-fe951e1c19c8"
   },
   "outputs": [],
   "source": [
    "#@title Solució\n",
    "\n",
    "def concatenar_fitxers(fitxer1, fitxer2, fitxer_concatenat):\n",
    "    with open(fitxer1, 'r') as f1, open(fitxer2, 'r') as f2:\n",
    "        contingut1 = f1.read()\n",
    "        contingut2 = f2.read()\n",
    "    with open(fitxer_concatenat, 'w') as fitxer_concatenat:\n",
    "        fitxer_concatenat.write(contingut1)\n",
    "        fitxer_concatenat.write(contingut2)"
   ]
  },
  {
   "cell_type": "code",
   "execution_count": 38,
   "metadata": {},
   "outputs": [],
   "source": [
    "concatenar_fitxers(\"fitxer1.txt\", \"fitxer2.txt\", \"fitxer_concatenat.txt\")"
   ]
  },
  {
   "cell_type": "markdown",
   "metadata": {
    "id": "4CiVCce_Ch2j"
   },
   "source": [
    "**9**. Escriu un programa que llegeixi un fitxer de text anomenat \"fitxer.txt\" i reemplaci totes les instàncies d'una paraula específica per una altra."
   ]
  },
  {
   "cell_type": "code",
   "execution_count": 39,
   "metadata": {
    "cellView": "form",
    "colab": {
     "base_uri": "https://localhost:8080/"
    },
    "executionInfo": {
     "elapsed": 270,
     "status": "ok",
     "timestamp": 1689870200465,
     "user": {
      "displayName": "Mireia Ribera",
      "userId": "13870616405792739474"
     },
     "user_tz": -120
    },
    "id": "2M1eT_P_Cn58",
    "outputId": "774d928b-6b23-49b1-c44a-d6b97e8ed9ac"
   },
   "outputs": [],
   "source": [
    "#@title solució\n",
    "def reemplaçar_paraules(nom_fitxer, paraula_antiga, paraula_nova):\n",
    "    with open(nom_fitxer, 'r') as fitxer:\n",
    "        contingut = fitxer.read()\n",
    "    contingut_modificat = contingut.replace(paraula_antiga, paraula_nova)\n",
    "    with open(nom_fitxer, 'w') as fitxer:\n",
    "        fitxer.write(contingut_modificat)"
   ]
  },
  {
   "cell_type": "code",
   "execution_count": 40,
   "metadata": {},
   "outputs": [],
   "source": [
    "reemplaçar_paraules(\"fitxer.txt\", \"Hola\", \"Adéu\")"
   ]
  },
  {
   "cell_type": "markdown",
   "metadata": {
    "id": "j2fPx-yfDGXE"
   },
   "source": [
    "**10**. Escriu un programa que demani a l'usuari que introdueixi una llista de noms i els escrigui en un fitxer anomenat \"noms.txt\", cada nom en una línia nova."
   ]
  },
  {
   "cell_type": "code",
   "execution_count": 41,
   "metadata": {
    "cellView": "form",
    "colab": {
     "base_uri": "https://localhost:8080/"
    },
    "executionInfo": {
     "elapsed": 237,
     "status": "ok",
     "timestamp": 1689870221175,
     "user": {
      "displayName": "Mireia Ribera",
      "userId": "13870616405792739474"
     },
     "user_tz": -120
    },
    "id": "SQpZg74CDI5X",
    "outputId": "9ae2febe-1999-4854-9a0f-b3596b530bf2"
   },
   "outputs": [],
   "source": [
    "#@title Solució\n",
    "def escriure_fitxer_noms():\n",
    "    noms = []\n",
    "    print(\"Introdueix els noms (acaba amb una línia buida):\")\n",
    "    while True:\n",
    "        nom = input()\n",
    "        if nom:\n",
    "            noms.append(nom)\n",
    "        else:\n",
    "            break\n",
    "    with open(\"noms.txt\", 'w') as fitxer:\n",
    "        for nom in noms:\n",
    "            fitxer.write(nom + '\\n')"
   ]
  },
  {
   "cell_type": "code",
   "execution_count": 42,
   "metadata": {},
   "outputs": [
    {
     "name": "stdout",
     "output_type": "stream",
     "text": [
      "Introdueix els noms (acaba amb una línia buida):\n",
      "Mireia\n",
      "Daniel\n",
      "Blai\n",
      "Ruben\n",
      "Xènia\n",
      "\n"
     ]
    }
   ],
   "source": [
    "escriure_fitxer_noms()"
   ]
  },
  {
   "cell_type": "markdown",
   "metadata": {
    "id": "1TKkvoSoIR9E"
   },
   "source": [
    "Aquesta llista de problemes i solucions ha estat preparada amb l'ajut de ChatGPT 3.5, versió 24 de maig de 2023, i revisada i adaptada per Mireia Ribera."
   ]
  }
 ],
 "metadata": {
  "colab": {
   "authorship_tag": "ABX9TyNIzBAnOPSaNas5tPmQafGh",
   "provenance": []
  },
  "kernelspec": {
   "display_name": "Python 3 (ipykernel)",
   "language": "python",
   "name": "python3"
  },
  "language_info": {
   "codemirror_mode": {
    "name": "ipython",
    "version": 3
   },
   "file_extension": ".py",
   "mimetype": "text/x-python",
   "name": "python",
   "nbconvert_exporter": "python",
   "pygments_lexer": "ipython3",
   "version": "3.9.7"
  }
 },
 "nbformat": 4,
 "nbformat_minor": 1
}
