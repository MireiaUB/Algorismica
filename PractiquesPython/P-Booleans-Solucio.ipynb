{
 "cells": [
  {
   "cell_type": "markdown",
   "metadata": {
    "id": "dwAKykq7-wwD"
   },
   "source": [
    "# Problemes amb booleans"
   ]
  },
  {
   "cell_type": "markdown",
   "metadata": {
    "id": "MvCuNBq0_Zyb"
   },
   "source": [
    "**1**. Escriu un programa que demani a l'usuari un número enter i comprovi si és major que 10 i menor que 20."
   ]
  },
  {
   "cell_type": "code",
   "execution_count": 1,
   "metadata": {
    "cellView": "form",
    "colab": {
     "base_uri": "https://localhost:8080/"
    },
    "executionInfo": {
     "elapsed": 3656,
     "status": "ok",
     "timestamp": 1694084397053,
     "user": {
      "displayName": "Mireia Ribera",
      "userId": "13870616405792739474"
     },
     "user_tz": -120
    },
    "id": "QTPMagKU_fCT",
    "outputId": "42133a93-ce47-45f1-ccc1-dd018c6420a1"
   },
   "outputs": [
    {
     "name": "stdout",
     "output_type": "stream",
     "text": [
      "Introdueix un número enter: 12\n",
      "El número és major que 10 i menor que 20.\n"
     ]
    }
   ],
   "source": [
    "#@title Solució\n",
    "num = int(input(\"Introdueix un número enter: \"))\n",
    "if num > 10 and num < 20:\n",
    "    print(\"El número és major que 10 i menor que 20.\")\n",
    "else:\n",
    "    print(\"El número no compleix les condicions.\")"
   ]
  },
  {
   "cell_type": "markdown",
   "metadata": {
    "id": "ZXxxg5vy_4op"
   },
   "source": [
    "**2**. Escriu un programa que comprovi si un número és divisible per 3 o per 5."
   ]
  },
  {
   "cell_type": "code",
   "execution_count": 2,
   "metadata": {
    "cellView": "form",
    "colab": {
     "base_uri": "https://localhost:8080/"
    },
    "executionInfo": {
     "elapsed": 5255,
     "status": "ok",
     "timestamp": 1694084408913,
     "user": {
      "displayName": "Mireia Ribera",
      "userId": "13870616405792739474"
     },
     "user_tz": -120
    },
    "id": "MS8GI0BH_--D",
    "outputId": "b31a392d-8c3d-4042-db1e-2bfc5ea126b2"
   },
   "outputs": [
    {
     "name": "stdout",
     "output_type": "stream",
     "text": [
      "Introdueix un número enter: 18\n",
      "El número és divisible per 3 o per 5.\n"
     ]
    }
   ],
   "source": [
    "#@title Solució\n",
    "\n",
    "num = int(input(\"Introdueix un número enter: \"))\n",
    "if num % 3 == 0 or num % 5 == 0:\n",
    "    print(\"El número és divisible per 3 o per 5.\")\n",
    "else:\n",
    "    print(\"El número no és divisible per 3 ni per 5.\")"
   ]
  },
  {
   "cell_type": "markdown",
   "metadata": {
    "id": "YaKMvi1IADhi"
   },
   "source": [
    "**3**. Escriu un programa que demani l'edat d'una persona i determini si pot votar. Es pot votar si és major de 18 anys."
   ]
  },
  {
   "cell_type": "code",
   "execution_count": 3,
   "metadata": {
    "cellView": "form",
    "colab": {
     "base_uri": "https://localhost:8080/"
    },
    "executionInfo": {
     "elapsed": 3319,
     "status": "ok",
     "timestamp": 1694084419041,
     "user": {
      "displayName": "Mireia Ribera",
      "userId": "13870616405792739474"
     },
     "user_tz": -120
    },
    "id": "wEQ9VNc0AIol",
    "outputId": "31c3964d-d99c-42df-afa4-3c84bfbb65b1"
   },
   "outputs": [
    {
     "name": "stdout",
     "output_type": "stream",
     "text": [
      "Introdueix la teva edat: 15\n",
      "No pots votar.\n"
     ]
    }
   ],
   "source": [
    "#@title Solució\n",
    "edat = int(input(\"Introdueix la teva edat: \"))\n",
    "if edat >= 18:\n",
    "    print(\"Pots votar.\")\n",
    "else:\n",
    "    print(\"No pots votar.\")"
   ]
  },
  {
   "cell_type": "markdown",
   "metadata": {
    "id": "HYj83_rrAaxL"
   },
   "source": [
    "**4**. Escriu un programa que comprovi si una paraula introduïda per l'usuari comença amb la lletra 'A' o 'a'."
   ]
  },
  {
   "cell_type": "code",
   "execution_count": 4,
   "metadata": {
    "cellView": "form",
    "colab": {
     "base_uri": "https://localhost:8080/"
    },
    "executionInfo": {
     "elapsed": 5378,
     "status": "ok",
     "timestamp": 1694084430923,
     "user": {
      "displayName": "Mireia Ribera",
      "userId": "13870616405792739474"
     },
     "user_tz": -120
    },
    "id": "hyNPhG6IAj3i",
    "outputId": "74eae5a8-57f2-4913-b97b-31c7f2af80cb"
   },
   "outputs": [
    {
     "name": "stdout",
     "output_type": "stream",
     "text": [
      "Introdueix una paraula: Booleà\n",
      "La paraula no comença amb 'A' ni 'a'.\n"
     ]
    }
   ],
   "source": [
    "#@title Solució\n",
    "\n",
    "paraula = input(\"Introdueix una paraula: \")\n",
    "if paraula.startswith('A') or paraula.startswith('a'):\n",
    "    print(\"La paraula comença amb 'A' o 'a'.\")\n",
    "else:\n",
    "    print(\"La paraula no comença amb 'A' ni 'a'.\")\n",
    "\n",
    "# En comptes d'usar startswith, podries usar un slice?"
   ]
  },
  {
   "cell_type": "markdown",
   "metadata": {
    "id": "0RvqBI98Bjdz"
   },
   "source": [
    "**5**. Escriu un programa que demani a l'usuari dos números i comprovi si són tots dos parells."
   ]
  },
  {
   "cell_type": "code",
   "execution_count": 5,
   "metadata": {
    "cellView": "form",
    "colab": {
     "base_uri": "https://localhost:8080/"
    },
    "executionInfo": {
     "elapsed": 5235,
     "status": "ok",
     "timestamp": 1694084441992,
     "user": {
      "displayName": "Mireia Ribera",
      "userId": "13870616405792739474"
     },
     "user_tz": -120
    },
    "id": "gV40Ue0LBn80",
    "outputId": "4d6e1934-8a70-43df-fe48-0a4b0aa75a56"
   },
   "outputs": [
    {
     "name": "stdout",
     "output_type": "stream",
     "text": [
      "Introdueix el primer número: 5\n",
      "Introdueix el segon número: 8\n",
      "Almenys un dels números no és parell.\n"
     ]
    }
   ],
   "source": [
    "#@title Solució\n",
    "\n",
    "num1 = int(input(\"Introdueix el primer número: \"))\n",
    "num2 = int(input(\"Introdueix el segon número: \"))\n",
    "if num1 % 2 == 0 and num2 % 2 == 0:\n",
    "    print(\"Els dos números són parells.\")\n",
    "else:\n",
    "    print(\"Almenys un dels números no és parell.\")"
   ]
  },
  {
   "cell_type": "markdown",
   "metadata": {
    "id": "U6CpZHsRCG4k"
   },
   "source": [
    "**6**. Escriu un programa que comprovi si una cadena introduïda per l'usuari conté la paraula \"python\"."
   ]
  },
  {
   "cell_type": "code",
   "execution_count": 6,
   "metadata": {
    "cellView": "form",
    "colab": {
     "base_uri": "https://localhost:8080/"
    },
    "executionInfo": {
     "elapsed": 9049,
     "status": "ok",
     "timestamp": 1694084456285,
     "user": {
      "displayName": "Mireia Ribera",
      "userId": "13870616405792739474"
     },
     "user_tz": -120
    },
    "id": "zj161Wo1CJ9y",
    "outputId": "0123fc16-397b-4e81-8247-1d87b22c50cb"
   },
   "outputs": [
    {
     "name": "stdout",
     "output_type": "stream",
     "text": [
      "Introdueix una cadena de text: A algorísmica programem amb python\n",
      "La cadena conté la paraula 'python'.\n"
     ]
    }
   ],
   "source": [
    "#@title Solució\n",
    "cadena = input(\"Introdueix una cadena de text: \")\n",
    "if \"python\" in cadena.lower():\n",
    "    print(\"La cadena conté la paraula 'python'.\")\n",
    "else:\n",
    "    print(\"La cadena no conté la paraula 'python'.\")"
   ]
  },
  {
   "cell_type": "markdown",
   "metadata": {
    "id": "LlNWMxTtFU7b"
   },
   "source": [
    "**7**. Escriu un programa que demani a l'usuari tres notes (entre 0 i 10) i comprovi si ha aprovat. L'estudiant aprova si les tres notes són iguals o superiors a 5."
   ]
  },
  {
   "cell_type": "code",
   "execution_count": 7,
   "metadata": {
    "cellView": "form",
    "colab": {
     "base_uri": "https://localhost:8080/"
    },
    "executionInfo": {
     "elapsed": 9357,
     "status": "ok",
     "timestamp": 1694084472591,
     "user": {
      "displayName": "Mireia Ribera",
      "userId": "13870616405792739474"
     },
     "user_tz": -120
    },
    "id": "qJP3EXqxC4a6",
    "outputId": "29fa9f7d-67e3-47e2-a46a-12f66abd106f"
   },
   "outputs": [
    {
     "name": "stdout",
     "output_type": "stream",
     "text": [
      "Introdueix la primera nota: 7\n",
      "Introdueix la segona nota: 6\n",
      "Introdueix la tercera nota: 9\n",
      "Has aprovat.\n"
     ]
    }
   ],
   "source": [
    "#@title Solució\n",
    "\n",
    "nota1 = float(input(\"Introdueix la primera nota: \"))\n",
    "nota2 = float(input(\"Introdueix la segona nota: \"))\n",
    "nota3 = float(input(\"Introdueix la tercera nota: \"))\n",
    "if nota1 >= 5 and nota2 >= 5 and nota3 >= 5:\n",
    "    print(\"Has aprovat.\")\n",
    "else:\n",
    "    print(\"No has aprovat.\")"
   ]
  },
  {
   "cell_type": "markdown",
   "metadata": {
    "id": "2L7HH9yOBMnj"
   },
   "source": [
    "**8**. Escriu un programa que demani l'any de naixement d'una persona i comprovi si té 18 anys o més."
   ]
  },
  {
   "cell_type": "code",
   "execution_count": 8,
   "metadata": {
    "cellView": "form",
    "colab": {
     "base_uri": "https://localhost:8080/"
    },
    "executionInfo": {
     "elapsed": 5986,
     "status": "ok",
     "timestamp": 1694084486941,
     "user": {
      "displayName": "Mireia Ribera",
      "userId": "13870616405792739474"
     },
     "user_tz": -120
    },
    "id": "LQgAQpspBQpE",
    "outputId": "5c6135d0-f622-4f5c-b68e-6108572759c8"
   },
   "outputs": [
    {
     "name": "stdout",
     "output_type": "stream",
     "text": [
      "Introdueix l'any de naixement: 1990\n",
      "Tens 18 anys o més.\n"
     ]
    }
   ],
   "source": [
    "#@title Solució\n",
    "\n",
    "any_naixement = int(input(\"Introdueix l'any de naixement: \"))\n",
    "any_actual = 2023\n",
    "edat = any_actual - any_naixement\n",
    "if edat >= 18:\n",
    "    print(\"Tens 18 anys o més.\")\n",
    "else:\n",
    "    print(\"Tens menys de 18 anys.\")"
   ]
  },
  {
   "cell_type": "markdown",
   "metadata": {
    "id": "4CiVCce_Ch2j"
   },
   "source": [
    "**9**. Escriu un programa que comprovi si un nombre introduït per l'usuari és positiu i parell."
   ]
  },
  {
   "cell_type": "code",
   "execution_count": 9,
   "metadata": {
    "cellView": "form",
    "colab": {
     "base_uri": "https://localhost:8080/"
    },
    "executionInfo": {
     "elapsed": 4614,
     "status": "ok",
     "timestamp": 1694084495894,
     "user": {
      "displayName": "Mireia Ribera",
      "userId": "13870616405792739474"
     },
     "user_tz": -120
    },
    "id": "2M1eT_P_Cn58",
    "outputId": "55aaec1a-e669-4d1c-a71f-62616b16fa60"
   },
   "outputs": [
    {
     "name": "stdout",
     "output_type": "stream",
     "text": [
      "Introdueix un número: -45\n",
      "El número no compleix les condicions.\n"
     ]
    }
   ],
   "source": [
    "#@title solució\n",
    "num = int(input(\"Introdueix un número: \"))\n",
    "if num > 0 and num % 2 == 0:\n",
    "    print(\"El número és positiu i parell.\")\n",
    "else:\n",
    "    print(\"El número no compleix les condicions.\")"
   ]
  },
  {
   "cell_type": "markdown",
   "metadata": {
    "id": "j2fPx-yfDGXE"
   },
   "source": [
    "**10**. Escriu un programa que demani un caràcter a l'usuari i comprovi si és una lletra majúscula."
   ]
  },
  {
   "cell_type": "code",
   "execution_count": 10,
   "metadata": {
    "cellView": "form",
    "colab": {
     "base_uri": "https://localhost:8080/"
    },
    "executionInfo": {
     "elapsed": 6016,
     "status": "ok",
     "timestamp": 1694084506323,
     "user": {
      "displayName": "Mireia Ribera",
      "userId": "13870616405792739474"
     },
     "user_tz": -120
    },
    "id": "SQpZg74CDI5X",
    "outputId": "0f184edd-0e9a-41cd-ebed-a3cdb392f6f4"
   },
   "outputs": [
    {
     "name": "stdout",
     "output_type": "stream",
     "text": [
      "Introdueix un caràcter: D\n",
      "El caràcter és una lletra majúscula.\n"
     ]
    }
   ],
   "source": [
    "#@title Solució\n",
    "caracter = input(\"Introdueix un caràcter: \")\n",
    "if caracter.isalpha() and caracter.isupper():\n",
    "    print(\"El caràcter és una lletra majúscula.\")\n",
    "else:\n",
    "    print(\"El caràcter no és una lletra majúscula.\")"
   ]
  },
  {
   "cell_type": "markdown",
   "metadata": {
    "id": "GXr_7hJoDX28"
   },
   "source": [
    "**11**. Escriu un programa que comprovi si un nombre introduït per l'usuari és múltiple de 4 però no de 6."
   ]
  },
  {
   "cell_type": "code",
   "execution_count": 11,
   "metadata": {
    "cellView": "form",
    "colab": {
     "base_uri": "https://localhost:8080/"
    },
    "executionInfo": {
     "elapsed": 2916,
     "status": "ok",
     "timestamp": 1694084515306,
     "user": {
      "displayName": "Mireia Ribera",
      "userId": "13870616405792739474"
     },
     "user_tz": -120
    },
    "id": "dMP1_1qPDemb",
    "outputId": "25e58461-ddd2-46b7-c567-c19f3b9f2cc3"
   },
   "outputs": [
    {
     "name": "stdout",
     "output_type": "stream",
     "text": [
      "Introdueix un número: 100\n",
      "El número és múltiple de 4 però no de 6.\n"
     ]
    }
   ],
   "source": [
    "#@title Solució\n",
    "\n",
    "num = int(input(\"Introdueix un número: \"))\n",
    "if num % 4 == 0 and num % 6 != 0:\n",
    "    print(\"El número és múltiple de 4 però no de 6.\")\n",
    "else:\n",
    "    print(\"El número no compleix les condicions.\")"
   ]
  },
  {
   "cell_type": "markdown",
   "metadata": {
    "id": "HvvTMag7Ds5U"
   },
   "source": [
    "**12**. Escriu un programa que comprovi si un nombre introduït per l'usuari és igual a 10 o menor que 5."
   ]
  },
  {
   "cell_type": "code",
   "execution_count": 12,
   "metadata": {
    "cellView": "form",
    "colab": {
     "base_uri": "https://localhost:8080/"
    },
    "executionInfo": {
     "elapsed": 4480,
     "status": "ok",
     "timestamp": 1694084527086,
     "user": {
      "displayName": "Mireia Ribera",
      "userId": "13870616405792739474"
     },
     "user_tz": -120
    },
    "id": "3o7cDnu-Dz_M",
    "outputId": "21cecf4d-2307-4b92-c194-3ca1c337f029"
   },
   "outputs": [
    {
     "name": "stdout",
     "output_type": "stream",
     "text": [
      "Introdueix un número: 4\n",
      "El número és igual a 10 o menor que 5.\n"
     ]
    }
   ],
   "source": [
    "#@title Solució\n",
    "num = int(input(\"Introdueix un número: \"))\n",
    "if num == 10 or num < 5:\n",
    "    print(\"El número és igual a 10 o menor que 5.\")\n",
    "else:\n",
    "    print(\"El número no compleix les condicions.\")"
   ]
  },
  {
   "cell_type": "markdown",
   "metadata": {
    "id": "7L4XnSfaF7Un"
   },
   "source": [
    "**13**. Escriu un programa que comprovi si un nombre introduït per l'usuari és positiu i menor o igual a 100."
   ]
  },
  {
   "cell_type": "code",
   "execution_count": 13,
   "metadata": {
    "cellView": "form",
    "colab": {
     "base_uri": "https://localhost:8080/"
    },
    "executionInfo": {
     "elapsed": 3124,
     "status": "ok",
     "timestamp": 1694084535431,
     "user": {
      "displayName": "Mireia Ribera",
      "userId": "13870616405792739474"
     },
     "user_tz": -120
    },
    "id": "9hcoAkmtGDY_",
    "outputId": "1e870faa-d16e-4b4c-a277-7251df530755"
   },
   "outputs": [
    {
     "name": "stdout",
     "output_type": "stream",
     "text": [
      "Introdueix un número: 56\n",
      "El número és positiu i menor o igual a 100.\n"
     ]
    }
   ],
   "source": [
    "#@title Solució\n",
    "\n",
    "num = int(input(\"Introdueix un número: \"))\n",
    "if num > 0 and num <= 100:\n",
    "    print(\"El número és positiu i menor o igual a 100.\")\n",
    "else:\n",
    "    print(\"El número no compleix les condicions.\")"
   ]
  },
  {
   "cell_type": "markdown",
   "metadata": {
    "id": "VMGgDiWmSMNW"
   },
   "source": [
    "**14**. Escriu un programa que demani dues notes i comprovi si l'usuari ha aprovat alguna de les dues. L'estudiant aprova si una de les notes és igual o superior a 5."
   ]
  },
  {
   "cell_type": "code",
   "execution_count": 14,
   "metadata": {
    "cellView": "form",
    "colab": {
     "base_uri": "https://localhost:8080/"
    },
    "executionInfo": {
     "elapsed": 5620,
     "status": "ok",
     "timestamp": 1694084548449,
     "user": {
      "displayName": "Mireia Ribera",
      "userId": "13870616405792739474"
     },
     "user_tz": -120
    },
    "id": "eke9D34ASMNW",
    "outputId": "79bc48b5-fb77-45ff-bbb6-24e716cbeb20"
   },
   "outputs": [
    {
     "name": "stdout",
     "output_type": "stream",
     "text": [
      "Introdueix la primera nota: 3\n",
      "Introdueix la segona nota: 7\n",
      "Has aprovat com a mínim una de les dues notes.\n"
     ]
    }
   ],
   "source": [
    "#@title Solució\n",
    "\n",
    "cnota1 = float(input(\"Introdueix la primera nota: \"))\n",
    "nota2 = float(input(\"Introdueix la segona nota: \"))\n",
    "if nota1 >= 5 or nota2 >= 5:\n",
    "    print(\"Has aprovat com a mínim una de les dues notes.\")\n",
    "else:\n",
    "    print(\"No has aprovat cap de les dues notes.\")"
   ]
  },
  {
   "cell_type": "markdown",
   "metadata": {
    "id": "In3EMv4USMNW"
   },
   "source": [
    "**15**. Escriu un programa que comprovi si una paraula introduïda per l'usuari conté les lletres 'a' i 'e'."
   ]
  },
  {
   "cell_type": "code",
   "execution_count": 15,
   "metadata": {
    "cellView": "form",
    "colab": {
     "base_uri": "https://localhost:8080/"
    },
    "executionInfo": {
     "elapsed": 8921,
     "status": "ok",
     "timestamp": 1694084562534,
     "user": {
      "displayName": "Mireia Ribera",
      "userId": "13870616405792739474"
     },
     "user_tz": -120
    },
    "id": "7Fy9q61wSMNX",
    "outputId": "bc11aaf4-5b1a-4469-fde6-0d0d1ddf07be"
   },
   "outputs": [
    {
     "name": "stdout",
     "output_type": "stream",
     "text": [
      "Introdueix una paraula: Algebra\n",
      "La paraula conté les lletres 'a' i 'e'.\n"
     ]
    }
   ],
   "source": [
    "#@title Solució\n",
    "\n",
    "paraula = input(\"Introdueix una paraula: \")\n",
    "if 'a' in paraula.lower() and 'e' in paraula.lower():\n",
    "    print(\"La paraula conté les lletres 'a' i 'e'.\")\n",
    "else:\n",
    "    print(\"La paraula no conté les lletres 'a' i 'e'.\")"
   ]
  },
  {
   "cell_type": "markdown",
   "metadata": {
    "id": "dK3BnNPfSMNX"
   },
   "source": [
    "**16**. Escriu un programa que demani dues cadenes de text i comprovi si tenen la mateixa longitud."
   ]
  },
  {
   "cell_type": "code",
   "execution_count": null,
   "metadata": {
    "cellView": "form",
    "colab": {
     "base_uri": "https://localhost:8080/"
    },
    "executionInfo": {
     "elapsed": 255,
     "status": "ok",
     "timestamp": 1689870293972,
     "user": {
      "displayName": "Mireia Ribera",
      "userId": "13870616405792739474"
     },
     "user_tz": -120
    },
    "id": "WiKXst8eSMNX",
    "outputId": "1aed8b55-e8b8-4046-d0cd-eb90664d5a71"
   },
   "outputs": [
    {
     "name": "stdout",
     "output_type": "stream",
     "text": [
      "Introdueix la primera cadena: Hola que tal\n",
      "Introdueix la segona cadena: Adeu fins la propera\n",
      "Les dues cadenes no tenen la mateixa longitud.\n"
     ]
    }
   ],
   "source": [
    "#@title Solució\n",
    "\n",
    "cadena1 = input(\"Introdueix la primera cadena: \")\n",
    "cadena2 = input(\"Introdueix la segona cadena: \")\n",
    "if len(cadena1) == len(cadena2):\n",
    "    print(\"Les dues cadenes tenen la mateixa longitud.\")\n",
    "else:\n",
    "    print(\"Les dues cadenes no tenen la mateixa longitud.\")"
   ]
  },
  {
   "cell_type": "markdown",
   "metadata": {
    "id": "mw9_9C_-SMNX"
   },
   "source": [
    "**17**. Escriu un programa que demani un número enter i comprovi si és negatiu o zero."
   ]
  },
  {
   "cell_type": "code",
   "execution_count": null,
   "metadata": {
    "cellView": "form",
    "colab": {
     "base_uri": "https://localhost:8080/"
    },
    "executionInfo": {
     "elapsed": 255,
     "status": "ok",
     "timestamp": 1689870293972,
     "user": {
      "displayName": "Mireia Ribera",
      "userId": "13870616405792739474"
     },
     "user_tz": -120
    },
    "id": "mRd9UWdLSMNX",
    "outputId": "1aed8b55-e8b8-4046-d0cd-eb90664d5a71"
   },
   "outputs": [
    {
     "name": "stdout",
     "output_type": "stream",
     "text": [
      "Introdueix un número enter: 6\n",
      "El número és positiu.\n"
     ]
    }
   ],
   "source": [
    "#@title Solució\n",
    "\n",
    "num = int(input(\"Introdueix un número enter: \"))\n",
    "if num <= 0:\n",
    "    print(\"El número és negatiu o zero.\")\n",
    "else:\n",
    "    print(\"El número és positiu.\")"
   ]
  },
  {
   "cell_type": "markdown",
   "metadata": {
    "id": "uuY0gnZISMNY"
   },
   "source": [
    "**18**. Escriu un programa que demani dues edats i comprovi si la segona edat és igual o més gran que el doble de la primera."
   ]
  },
  {
   "cell_type": "code",
   "execution_count": null,
   "metadata": {
    "cellView": "form",
    "colab": {
     "base_uri": "https://localhost:8080/"
    },
    "executionInfo": {
     "elapsed": 255,
     "status": "ok",
     "timestamp": 1689870293972,
     "user": {
      "displayName": "Mireia Ribera",
      "userId": "13870616405792739474"
     },
     "user_tz": -120
    },
    "id": "qzXLhuM4SMNY",
    "outputId": "1aed8b55-e8b8-4046-d0cd-eb90664d5a71"
   },
   "outputs": [
    {
     "name": "stdout",
     "output_type": "stream",
     "text": [
      "Introdueix la primera edat: 12\n",
      "Introdueix la segona edat: 25\n",
      "La segona edat és igual o més gran que el doble de la primera.\n"
     ]
    }
   ],
   "source": [
    "#@title Solució\n",
    "\n",
    "edat1 = int(input(\"Introdueix la primera edat: \"))\n",
    "edat2 = int(input(\"Introdueix la segona edat: \"))\n",
    "if edat2 >= 2 * edat1:\n",
    "    print(\"La segona edat és igual o més gran que el doble de la primera.\")\n",
    "else:\n",
    "    print(\"La segona edat no compleix les condicions.\")"
   ]
  },
  {
   "cell_type": "markdown",
   "metadata": {
    "id": "1TKkvoSoIR9E"
   },
   "source": [
    "Aquesta llista de problemes i solucions ha estat preparada amb l'ajut de ChatGPT 3.5, versió 24 de maig de 2023, i revisada i adaptada per Mireia Ribera."
   ]
  }
 ],
 "metadata": {
  "colab": {
   "provenance": []
  },
  "kernelspec": {
   "display_name": "Python 3 (ipykernel)",
   "language": "python",
   "name": "python3"
  },
  "language_info": {
   "codemirror_mode": {
    "name": "ipython",
    "version": 3
   },
   "file_extension": ".py",
   "mimetype": "text/x-python",
   "name": "python",
   "nbconvert_exporter": "python",
   "pygments_lexer": "ipython3",
   "version": "3.11.7"
  }
 },
 "nbformat": 4,
 "nbformat_minor": 4
}
