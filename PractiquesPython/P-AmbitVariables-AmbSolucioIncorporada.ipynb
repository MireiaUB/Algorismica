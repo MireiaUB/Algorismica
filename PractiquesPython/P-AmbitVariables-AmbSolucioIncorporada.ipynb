{
 "cells": [
  {
   "cell_type": "markdown",
   "metadata": {
    "id": "dwAKykq7-wwD"
   },
   "source": [
    "# Problemes amb l'àmbit de les variables"
   ]
  },
  {
   "cell_type": "markdown",
   "metadata": {
    "id": "z4eAvrMIFqS7"
   },
   "source": [
    "En aquest notebook molts dels codis es mostren perquè l'objectiu és principalment demostratiu, i veure el codi és essencial per entendre el resultat."
   ]
  },
  {
   "cell_type": "markdown",
   "metadata": {
    "id": "MvCuNBq0_Zyb"
   },
   "source": [
    "**1**. Escriu una funció que defineixi una variable local i intenta accedir-hi des de l'exterior de la funció."
   ]
  },
  {
   "cell_type": "code",
   "execution_count": 1,
   "metadata": {
    "colab": {
     "base_uri": "https://localhost:8080/",
     "height": 210
    },
    "executionInfo": {
     "elapsed": 403,
     "status": "error",
     "timestamp": 1694084250871,
     "user": {
      "displayName": "Mireia Ribera",
      "userId": "13870616405792739474"
     },
     "user_tz": -120
    },
    "id": "QTPMagKU_fCT",
    "outputId": "1fc94b0d-ad1f-4299-8ea9-d71a81625c6f"
   },
   "outputs": [
    {
     "ename": "NameError",
     "evalue": "ignored",
     "output_type": "error",
     "traceback": [
      "\u001b[0;31m---------------------------------------------------------------------------\u001b[0m",
      "\u001b[0;31mNameError\u001b[0m                                 Traceback (most recent call last)",
      "\u001b[0;32m<ipython-input-1-ddbdcd9e5218>\u001b[0m in \u001b[0;36m<cell line: 6>\u001b[0;34m()\u001b[0m\n\u001b[1;32m      4\u001b[0m \u001b[0;34m\u001b[0m\u001b[0m\n\u001b[1;32m      5\u001b[0m \u001b[0mmy_function\u001b[0m\u001b[0;34m(\u001b[0m\u001b[0;34m)\u001b[0m\u001b[0;34m\u001b[0m\u001b[0;34m\u001b[0m\u001b[0m\n\u001b[0;32m----> 6\u001b[0;31m \u001b[0mprint\u001b[0m\u001b[0;34m(\u001b[0m\u001b[0mlocal_var\u001b[0m\u001b[0;34m)\u001b[0m  \u001b[0;31m# Provoca un error ja que local_var no és accessible aquí.\u001b[0m\u001b[0;34m\u001b[0m\u001b[0;34m\u001b[0m\u001b[0m\n\u001b[0m",
      "\u001b[0;31mNameError\u001b[0m: name 'local_var' is not defined"
     ]
    }
   ],
   "source": [
    "#@title Solució\n",
    "def my_function():\n",
    "    local_var = 42\n",
    "\n",
    "my_function()\n",
    "print(local_var)  # Provoca un error ja que local_var no és accessible aquí."
   ]
  },
  {
   "cell_type": "markdown",
   "metadata": {
    "id": "ZXxxg5vy_4op"
   },
   "source": [
    "**2**. Defineix una variable global i una funció amb una variable local que té el mateix nom. Observa quina variable es fa servir dins la funció."
   ]
  },
  {
   "cell_type": "code",
   "execution_count": 2,
   "metadata": {
    "colab": {
     "base_uri": "https://localhost:8080/"
    },
    "executionInfo": {
     "elapsed": 9,
     "status": "ok",
     "timestamp": 1694084254499,
     "user": {
      "displayName": "Mireia Ribera",
      "userId": "13870616405792739474"
     },
     "user_tz": -120
    },
    "id": "MS8GI0BH_--D",
    "outputId": "06047f51-ef4d-4647-d9d7-84b8bf713186"
   },
   "outputs": [
    {
     "name": "stdout",
     "output_type": "stream",
     "text": [
      "Dins la funció: 5\n",
      "Dins la funció, accedint a la global: 10\n",
      "Fora de la funció, accedint a la global: 10\n"
     ]
    }
   ],
   "source": [
    "#@title Solució\n",
    "\n",
    "global_var = 10\n",
    "\n",
    "def my_function():\n",
    "    local_var = 5\n",
    "    print(\"Dins la funció:\", local_var)  # Mostra el valor de la variable local\n",
    "    print(\"Dins la funció, accedint a la global:\", global_var)  # Accedeix a la variable global\n",
    "\n",
    "my_function()\n",
    "print(\"Fora de la funció, accedint a la global:\", global_var)  # Mostra el valor de la variable global"
   ]
  },
  {
   "cell_type": "markdown",
   "metadata": {
    "id": "YaKMvi1IADhi"
   },
   "source": [
    "**3**. Defineix una funció amb un paràmetre i intenta accedir-hi des de l'exterior de la funció."
   ]
  },
  {
   "cell_type": "code",
   "execution_count": 3,
   "metadata": {
    "colab": {
     "base_uri": "https://localhost:8080/",
     "height": 227
    },
    "executionInfo": {
     "elapsed": 373,
     "status": "error",
     "timestamp": 1694084258882,
     "user": {
      "displayName": "Mireia Ribera",
      "userId": "13870616405792739474"
     },
     "user_tz": -120
    },
    "id": "wEQ9VNc0AIol",
    "outputId": "2b22febc-1c0b-48c0-c4e6-9216e6366a75"
   },
   "outputs": [
    {
     "name": "stdout",
     "output_type": "stream",
     "text": [
      "Valor del paràmetre dins de la funció: 42\n"
     ]
    },
    {
     "ename": "NameError",
     "evalue": "ignored",
     "output_type": "error",
     "traceback": [
      "\u001b[0;31m---------------------------------------------------------------------------\u001b[0m",
      "\u001b[0;31mNameError\u001b[0m                                 Traceback (most recent call last)",
      "\u001b[0;32m<ipython-input-3-2f83b6133bf1>\u001b[0m in \u001b[0;36m<cell line: 6>\u001b[0;34m()\u001b[0m\n\u001b[1;32m      4\u001b[0m \u001b[0;34m\u001b[0m\u001b[0m\n\u001b[1;32m      5\u001b[0m \u001b[0mmy_function\u001b[0m\u001b[0;34m(\u001b[0m\u001b[0;36m42\u001b[0m\u001b[0;34m)\u001b[0m\u001b[0;34m\u001b[0m\u001b[0;34m\u001b[0m\u001b[0m\n\u001b[0;32m----> 6\u001b[0;31m \u001b[0mprint\u001b[0m\u001b[0;34m(\u001b[0m\u001b[0;34m\"Valor del paràmetre fora de la funció:\"\u001b[0m\u001b[0;34m,\u001b[0m \u001b[0mparameter\u001b[0m\u001b[0;34m)\u001b[0m  \u001b[0;31m# Provoca un error ja que parameter no és accessible aquí.\u001b[0m\u001b[0;34m\u001b[0m\u001b[0;34m\u001b[0m\u001b[0m\n\u001b[0m",
      "\u001b[0;31mNameError\u001b[0m: name 'parameter' is not defined"
     ]
    }
   ],
   "source": [
    "#@title Solució\n",
    "def my_function(parameter):\n",
    "    print(\"Valor del paràmetre dins de la funció:\", parameter)\n",
    "\n",
    "my_function(42)\n",
    "print(\"Valor del paràmetre fora de la funció:\", parameter)  # Provoca un error ja que parameter no és accessible aquí."
   ]
  },
  {
   "cell_type": "markdown",
   "metadata": {
    "id": "HYj83_rrAaxL"
   },
   "source": [
    "**4**. Escriu una funció que modifiqui el valor d'una variable global."
   ]
  },
  {
   "cell_type": "code",
   "execution_count": 4,
   "metadata": {
    "colab": {
     "base_uri": "https://localhost:8080/"
    },
    "executionInfo": {
     "elapsed": 380,
     "status": "ok",
     "timestamp": 1694084266837,
     "user": {
      "displayName": "Mireia Ribera",
      "userId": "13870616405792739474"
     },
     "user_tz": -120
    },
    "id": "hyNPhG6IAj3i",
    "outputId": "5b695b77-c097-4646-d9bc-e179c58d9cc0"
   },
   "outputs": [
    {
     "name": "stdout",
     "output_type": "stream",
     "text": [
      "Valor global abans de la funció: 10\n",
      "Valor global després de la funció: 15\n"
     ]
    }
   ],
   "source": [
    "#@title Solució\n",
    "\n",
    "global_var = 10\n",
    "\n",
    "def modify_global():\n",
    "    global global_var\n",
    "    global_var += 5\n",
    "\n",
    "print(\"Valor global abans de la funció:\", global_var)\n",
    "modify_global()\n",
    "print(\"Valor global després de la funció:\", global_var)"
   ]
  },
  {
   "cell_type": "markdown",
   "metadata": {
    "id": "0RvqBI98Bjdz"
   },
   "source": [
    "**5**. Crea una funció exterior i una funció interior. Intenta accedir a la variable local de la funció interior des de l'exterior."
   ]
  },
  {
   "cell_type": "code",
   "execution_count": 5,
   "metadata": {
    "colab": {
     "base_uri": "https://localhost:8080/",
     "height": 349
    },
    "executionInfo": {
     "elapsed": 384,
     "status": "error",
     "timestamp": 1694084272949,
     "user": {
      "displayName": "Mireia Ribera",
      "userId": "13870616405792739474"
     },
     "user_tz": -120
    },
    "id": "gV40Ue0LBn80",
    "outputId": "87ad4182-908b-4b71-f31a-9acfa8ad69ab"
   },
   "outputs": [
    {
     "name": "stdout",
     "output_type": "stream",
     "text": [
      "Dins la funció interior: 5\n"
     ]
    },
    {
     "ename": "NameError",
     "evalue": "ignored",
     "output_type": "error",
     "traceback": [
      "\u001b[0;31m---------------------------------------------------------------------------\u001b[0m",
      "\u001b[0;31mNameError\u001b[0m                                 Traceback (most recent call last)",
      "\u001b[0;32m<ipython-input-5-287e81930ac2>\u001b[0m in \u001b[0;36m<cell line: 13>\u001b[0;34m()\u001b[0m\n\u001b[1;32m     11\u001b[0m     \u001b[0;31m# provoca un error perquè aquesta variable\u001b[0m\u001b[0;34m\u001b[0m\u001b[0;34m\u001b[0m\u001b[0m\n\u001b[1;32m     12\u001b[0m     \u001b[0;31m# no és accessible fora d'inner_functin\u001b[0m\u001b[0;34m\u001b[0m\u001b[0;34m\u001b[0m\u001b[0m\n\u001b[0;32m---> 13\u001b[0;31m \u001b[0mouter_function\u001b[0m\u001b[0;34m(\u001b[0m\u001b[0;34m)\u001b[0m\u001b[0;34m\u001b[0m\u001b[0;34m\u001b[0m\u001b[0m\n\u001b[0m",
      "\u001b[0;32m<ipython-input-5-287e81930ac2>\u001b[0m in \u001b[0;36mouter_function\u001b[0;34m()\u001b[0m\n\u001b[1;32m      8\u001b[0m \u001b[0;34m\u001b[0m\u001b[0m\n\u001b[1;32m      9\u001b[0m     \u001b[0minner_function\u001b[0m\u001b[0;34m(\u001b[0m\u001b[0;34m)\u001b[0m\u001b[0;34m\u001b[0m\u001b[0;34m\u001b[0m\u001b[0m\n\u001b[0;32m---> 10\u001b[0;31m     \u001b[0mprint\u001b[0m\u001b[0;34m(\u001b[0m\u001b[0;34m\"Dins la funció exterior:\"\u001b[0m\u001b[0;34m,\u001b[0m \u001b[0minner_var\u001b[0m\u001b[0;34m)\u001b[0m\u001b[0;34m\u001b[0m\u001b[0;34m\u001b[0m\u001b[0m\n\u001b[0m\u001b[1;32m     11\u001b[0m     \u001b[0;31m# provoca un error perquè aquesta variable\u001b[0m\u001b[0;34m\u001b[0m\u001b[0;34m\u001b[0m\u001b[0m\n\u001b[1;32m     12\u001b[0m     \u001b[0;31m# no és accessible fora d'inner_functin\u001b[0m\u001b[0;34m\u001b[0m\u001b[0;34m\u001b[0m\u001b[0m\n",
      "\u001b[0;31mNameError\u001b[0m: name 'inner_var' is not defined"
     ]
    }
   ],
   "source": [
    "#@title Solució\n",
    "\n",
    "def outer_function():\n",
    "\n",
    "    def inner_function():\n",
    "        inner_var = 5\n",
    "        print(\"Dins la funció interior:\", inner_var)\n",
    "\n",
    "    inner_function()\n",
    "    print(\"Dins la funció exterior:\", inner_var)\n",
    "    # provoca un error perquè aquesta variable\n",
    "    # no és accessible fora d'inner_functin\n",
    "outer_function()"
   ]
  },
  {
   "cell_type": "markdown",
   "metadata": {
    "id": "U6CpZHsRCG4k"
   },
   "source": [
    "**6**. Defineix una variable global i una funció amb una variable local que té el mateix nom. Observa quina variable es fa servir quan la funció s'invoca des de la funció interior."
   ]
  },
  {
   "cell_type": "code",
   "execution_count": 6,
   "metadata": {
    "colab": {
     "base_uri": "https://localhost:8080/"
    },
    "executionInfo": {
     "elapsed": 360,
     "status": "ok",
     "timestamp": 1694084301383,
     "user": {
      "displayName": "Mireia Ribera",
      "userId": "13870616405792739474"
     },
     "user_tz": -120
    },
    "id": "zj161Wo1CJ9y",
    "outputId": "6dc44cbd-909c-4531-e21e-180b90827813"
   },
   "outputs": [
    {
     "name": "stdout",
     "output_type": "stream",
     "text": [
      "10\n",
      "Dins la funció: 5\n",
      "però des de fora 10\n"
     ]
    }
   ],
   "source": [
    "#@title Solució\n",
    "\n",
    "my_var = 10\n",
    "\n",
    "def my_function():\n",
    "    my_var = 5\n",
    "    print(\"Dins la funció:\", my_var)\n",
    "\n",
    "\n",
    "print(my_var)\n",
    "my_function()\n",
    "print(\"però des de fora\", my_var)"
   ]
  },
  {
   "cell_type": "markdown",
   "metadata": {
    "id": "LlNWMxTtFU7b"
   },
   "source": [
    "**7**. Defineix una variable global i una funció que rep un argument amb el mateix nom. Observa quina variable es fa servir dins de la funció."
   ]
  },
  {
   "cell_type": "code",
   "execution_count": 7,
   "metadata": {
    "colab": {
     "base_uri": "https://localhost:8080/"
    },
    "executionInfo": {
     "elapsed": 366,
     "status": "ok",
     "timestamp": 1694084305027,
     "user": {
      "displayName": "Mireia Ribera",
      "userId": "13870616405792739474"
     },
     "user_tz": -120
    },
    "id": "qJP3EXqxC4a6",
    "outputId": "d6b1e6c2-a662-4ccc-9640-f65aa6371f4d"
   },
   "outputs": [
    {
     "name": "stdout",
     "output_type": "stream",
     "text": [
      "Dins la funció: 5\n",
      "Fora de la funció: 10\n"
     ]
    }
   ],
   "source": [
    "#@title Solució\n",
    "\n",
    "global_var = 10\n",
    "\n",
    "def my_function(global_var):\n",
    "    print(\"Dins la funció:\", global_var)\n",
    "\n",
    "my_function(5)\n",
    "print(\"Fora de la funció:\", global_var)"
   ]
  },
  {
   "cell_type": "markdown",
   "metadata": {
    "id": "2L7HH9yOBMnj"
   },
   "source": [
    "**8**. Crea una funció que afegirà un element a una llista global."
   ]
  },
  {
   "cell_type": "code",
   "execution_count": 8,
   "metadata": {
    "colab": {
     "base_uri": "https://localhost:8080/"
    },
    "executionInfo": {
     "elapsed": 414,
     "status": "ok",
     "timestamp": 1694084307320,
     "user": {
      "displayName": "Mireia Ribera",
      "userId": "13870616405792739474"
     },
     "user_tz": -120
    },
    "id": "LQgAQpspBQpE",
    "outputId": "65ad159b-2d80-455a-ea0d-fa649efc0fa3"
   },
   "outputs": [
    {
     "name": "stdout",
     "output_type": "stream",
     "text": [
      "[1, 2, 3, 4]\n"
     ]
    }
   ],
   "source": [
    "#@title Solució\n",
    "\n",
    "global_list = [1, 2, 3]\n",
    "\n",
    "def add_to_list(item):\n",
    "    global global_list\n",
    "    global_list.append(item)\n",
    "\n",
    "add_to_list(4)\n",
    "print(global_list)"
   ]
  },
  {
   "cell_type": "markdown",
   "metadata": {
    "id": "4CiVCce_Ch2j"
   },
   "source": [
    "**9**. Defineix una llista global i una funció que crea una llista local amb el mateix nom. Comprova quina llista s'utilitza dins de la funció."
   ]
  },
  {
   "cell_type": "code",
   "execution_count": 9,
   "metadata": {
    "cellView": "form",
    "colab": {
     "base_uri": "https://localhost:8080/"
    },
    "executionInfo": {
     "elapsed": 356,
     "status": "ok",
     "timestamp": 1694084313779,
     "user": {
      "displayName": "Mireia Ribera",
      "userId": "13870616405792739474"
     },
     "user_tz": -120
    },
    "id": "2M1eT_P_Cn58",
    "outputId": "142a528c-a537-414d-e1e6-ce4e99902b34"
   },
   "outputs": [
    {
     "name": "stdout",
     "output_type": "stream",
     "text": [
      "Dins la funció: [4, 5, 6]\n",
      "Fora de la funció: [1, 2, 3]\n"
     ]
    }
   ],
   "source": [
    "#@title solució\n",
    "global_list = [1, 2, 3]\n",
    "\n",
    "def my_function():\n",
    "    global_list = [4, 5, 6]\n",
    "    print(\"Dins la funció:\", global_list)\n",
    "\n",
    "my_function()\n",
    "print(\"Fora de la funció:\", global_list)"
   ]
  },
  {
   "cell_type": "markdown",
   "metadata": {
    "id": "j2fPx-yfDGXE"
   },
   "source": [
    "**10**. Intenta modificar una variable global des de dins d'una funció sense declarar-la com a global."
   ]
  },
  {
   "cell_type": "code",
   "execution_count": 10,
   "metadata": {
    "cellView": "form",
    "colab": {
     "base_uri": "https://localhost:8080/",
     "height": 349
    },
    "executionInfo": {
     "elapsed": 341,
     "status": "error",
     "timestamp": 1694084336792,
     "user": {
      "displayName": "Mireia Ribera",
      "userId": "13870616405792739474"
     },
     "user_tz": -120
    },
    "id": "SQpZg74CDI5X",
    "outputId": "72da726b-65e1-4121-8c15-6342f55c5ccc"
   },
   "outputs": [
    {
     "ename": "UnboundLocalError",
     "evalue": "ignored",
     "output_type": "error",
     "traceback": [
      "\u001b[0;31m---------------------------------------------------------------------------\u001b[0m",
      "\u001b[0;31mUnboundLocalError\u001b[0m                         Traceback (most recent call last)",
      "\u001b[0;32m<ipython-input-10-b0f97e7b5cca>\u001b[0m in \u001b[0;36m<cell line: 7>\u001b[0;34m()\u001b[0m\n\u001b[1;32m      5\u001b[0m     \u001b[0mglobal_var\u001b[0m \u001b[0;34m+=\u001b[0m \u001b[0;36m5\u001b[0m  \u001b[0;31m# Aquesta línia provocarà un error, ja que no s'ha declarat global_var com a global\u001b[0m\u001b[0;34m\u001b[0m\u001b[0;34m\u001b[0m\u001b[0m\n\u001b[1;32m      6\u001b[0m \u001b[0;34m\u001b[0m\u001b[0m\n\u001b[0;32m----> 7\u001b[0;31m \u001b[0mmy_function\u001b[0m\u001b[0;34m(\u001b[0m\u001b[0;34m)\u001b[0m\u001b[0;34m\u001b[0m\u001b[0;34m\u001b[0m\u001b[0m\n\u001b[0m\u001b[1;32m      8\u001b[0m \u001b[0mprint\u001b[0m\u001b[0;34m(\u001b[0m\u001b[0mglobal_var\u001b[0m\u001b[0;34m)\u001b[0m\u001b[0;34m\u001b[0m\u001b[0;34m\u001b[0m\u001b[0m\n",
      "\u001b[0;32m<ipython-input-10-b0f97e7b5cca>\u001b[0m in \u001b[0;36mmy_function\u001b[0;34m()\u001b[0m\n\u001b[1;32m      3\u001b[0m \u001b[0;34m\u001b[0m\u001b[0m\n\u001b[1;32m      4\u001b[0m \u001b[0;32mdef\u001b[0m \u001b[0mmy_function\u001b[0m\u001b[0;34m(\u001b[0m\u001b[0;34m)\u001b[0m\u001b[0;34m:\u001b[0m\u001b[0;34m\u001b[0m\u001b[0;34m\u001b[0m\u001b[0m\n\u001b[0;32m----> 5\u001b[0;31m     \u001b[0mglobal_var\u001b[0m \u001b[0;34m+=\u001b[0m \u001b[0;36m5\u001b[0m  \u001b[0;31m# Aquesta línia provocarà un error, ja que no s'ha declarat global_var com a global\u001b[0m\u001b[0;34m\u001b[0m\u001b[0;34m\u001b[0m\u001b[0m\n\u001b[0m\u001b[1;32m      6\u001b[0m \u001b[0;34m\u001b[0m\u001b[0m\n\u001b[1;32m      7\u001b[0m \u001b[0mmy_function\u001b[0m\u001b[0;34m(\u001b[0m\u001b[0;34m)\u001b[0m\u001b[0;34m\u001b[0m\u001b[0;34m\u001b[0m\u001b[0m\n",
      "\u001b[0;31mUnboundLocalError\u001b[0m: local variable 'global_var' referenced before assignment"
     ]
    }
   ],
   "source": [
    "#@title Solució\n",
    "global_var = 10\n",
    "\n",
    "def my_function():\n",
    "    global_var += 5  # Aquesta línia provocarà un error, ja que no s'ha declarat global_var com a global\n",
    "\n",
    "my_function()\n",
    "print(global_var)"
   ]
  },
  {
   "cell_type": "markdown",
   "metadata": {
    "id": "GXr_7hJoDX28"
   },
   "source": [
    "**11**. Defineix una funció que utilitzi una variable local dins d'un bucle."
   ]
  },
  {
   "cell_type": "code",
   "execution_count": 11,
   "metadata": {
    "cellView": "form",
    "colab": {
     "base_uri": "https://localhost:8080/"
    },
    "executionInfo": {
     "elapsed": 519,
     "status": "ok",
     "timestamp": 1694084351967,
     "user": {
      "displayName": "Mireia Ribera",
      "userId": "13870616405792739474"
     },
     "user_tz": -120
    },
    "id": "dMP1_1qPDemb",
    "outputId": "1bb399ef-090d-4d77-974e-9760538a39ef"
   },
   "outputs": [
    {
     "name": "stdout",
     "output_type": "stream",
     "text": [
      "Dins el bucle: 0\n",
      "Dins el bucle: 2\n",
      "Dins el bucle: 4\n",
      "Dins el bucle: 6\n",
      "Dins el bucle: 8\n"
     ]
    }
   ],
   "source": [
    "#@title Solució\n",
    "\n",
    "def loop_function():\n",
    "    for i in range(5):\n",
    "        result = i * 2\n",
    "        print(\"Dins el bucle:\", result)\n",
    "\n",
    "loop_function()"
   ]
  },
  {
   "cell_type": "markdown",
   "metadata": {
    "id": "HvvTMag7Ds5U"
   },
   "source": [
    "**12**. Defineix una funció que utilitzi una variable global dins d'un bucle."
   ]
  },
  {
   "cell_type": "code",
   "execution_count": 12,
   "metadata": {
    "cellView": "form",
    "colab": {
     "base_uri": "https://localhost:8080/"
    },
    "executionInfo": {
     "elapsed": 349,
     "status": "ok",
     "timestamp": 1694084360291,
     "user": {
      "displayName": "Mireia Ribera",
      "userId": "13870616405792739474"
     },
     "user_tz": -120
    },
    "id": "3o7cDnu-Dz_M",
    "outputId": "62216794-5207-47e8-825f-a681180a7c3e"
   },
   "outputs": [
    {
     "name": "stdout",
     "output_type": "stream",
     "text": [
      "Dins el bucle: 0\n",
      "Dins el bucle: 1\n",
      "Dins el bucle: 3\n",
      "Dins el bucle: 6\n",
      "Dins el bucle: 10\n"
     ]
    }
   ],
   "source": [
    "#@title Solució\n",
    "global_var = 0\n",
    "\n",
    "def loop_function():\n",
    "    for i in range(5):\n",
    "        global global_var\n",
    "        global_var += i\n",
    "        print(\"Dins el bucle:\", global_var)\n",
    "\n",
    "loop_function()"
   ]
  },
  {
   "cell_type": "markdown",
   "metadata": {
    "id": "1TKkvoSoIR9E"
   },
   "source": [
    "Aquesta llista de problemes i solucions ha estat preparada amb l'ajut de ChatGPT 3.5, versió 24 de maig de 2023, i revisada i adaptada per Mireia Ribera."
   ]
  }
 ],
 "metadata": {
  "colab": {
   "provenance": []
  },
  "kernelspec": {
   "display_name": "Python 3 (ipykernel)",
   "language": "python",
   "name": "python3"
  },
  "language_info": {
   "codemirror_mode": {
    "name": "ipython",
    "version": 3
   },
   "file_extension": ".py",
   "mimetype": "text/x-python",
   "name": "python",
   "nbconvert_exporter": "python",
   "pygments_lexer": "ipython3",
   "version": "3.11.7"
  }
 },
 "nbformat": 4,
 "nbformat_minor": 4
}
