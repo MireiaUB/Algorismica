{
 "cells": [
  {
   "cell_type": "markdown",
   "metadata": {
    "id": "dwAKykq7-wwD"
   },
   "source": [
    "# Problemes amb booleans"
   ]
  },
  {
   "cell_type": "markdown",
   "metadata": {
    "id": "MvCuNBq0_Zyb"
   },
   "source": [
    "**1**. Escriu un programa que demani a l'usuari un número enter i comprovi si és major que 10 i menor que 20."
   ]
  },
  {
   "cell_type": "code",
   "execution_count": 1,
   "metadata": {
    "cellView": "form",
    "colab": {
     "base_uri": "https://localhost:8080/"
    },
    "executionInfo": {
     "elapsed": 250,
     "status": "ok",
     "timestamp": 1689870043252,
     "user": {
      "displayName": "Mireia Ribera",
      "userId": "13870616405792739474"
     },
     "user_tz": -120
    },
    "id": "QTPMagKU_fCT",
    "outputId": "5b5eb5d1-3578-4820-d7df-cd28d6573621"
   },
   "outputs": [
    {
     "name": "stdout",
     "output_type": "stream",
     "text": [
      "Introdueix un número enter: 12\n",
      "El número és major que 10 i menor que 20.\n"
     ]
    }
   ],
   "source": [
    "#@title Solució\n",
    "num = int(input(\"Introdueix un número enter: \"))\n",
    "if num > 10 and num < 20:\n",
    "    print(\"El número és major que 10 i menor que 20.\")\n",
    "else:\n",
    "    print(\"El número no compleix les condicions.\")"
   ]
  },
  {
   "cell_type": "markdown",
   "metadata": {
    "id": "ZXxxg5vy_4op"
   },
   "source": [
    "**2**. Escriu un programa que comprovi si un número és divisible per 3 o per 5."
   ]
  },
  {
   "cell_type": "code",
   "execution_count": 2,
   "metadata": {
    "cellView": "form",
    "colab": {
     "base_uri": "https://localhost:8080/"
    },
    "executionInfo": {
     "elapsed": 236,
     "status": "ok",
     "timestamp": 1689870046201,
     "user": {
      "displayName": "Mireia Ribera",
      "userId": "13870616405792739474"
     },
     "user_tz": -120
    },
    "id": "MS8GI0BH_--D",
    "outputId": "b25677bb-51db-4bdd-848f-20625661a7b6"
   },
   "outputs": [
    {
     "name": "stdout",
     "output_type": "stream",
     "text": [
      "Introdueix un número enter: 18\n",
      "El número és divisible per 3 o per 5.\n"
     ]
    }
   ],
   "source": [
    "#@title Solució\n",
    "\n",
    "num = int(input(\"Introdueix un número enter: \"))\n",
    "if num % 3 == 0 or num % 5 == 0:\n",
    "    print(\"El número és divisible per 3 o per 5.\")\n",
    "else:\n",
    "    print(\"El número no és divisible per 3 ni per 5.\")"
   ]
  },
  {
   "cell_type": "markdown",
   "metadata": {
    "id": "YaKMvi1IADhi"
   },
   "source": [
    "**3**. Escriu un programa que demani l'edat d'una persona i determini si pot votar. Es pot votar si és major de 18 anys."
   ]
  },
  {
   "cell_type": "code",
   "execution_count": 3,
   "metadata": {
    "cellView": "form",
    "colab": {
     "base_uri": "https://localhost:8080/"
    },
    "executionInfo": {
     "elapsed": 260,
     "status": "ok",
     "timestamp": 1689870049784,
     "user": {
      "displayName": "Mireia Ribera",
      "userId": "13870616405792739474"
     },
     "user_tz": -120
    },
    "id": "wEQ9VNc0AIol",
    "outputId": "8b341632-06b2-4732-8818-7ddb61544202"
   },
   "outputs": [
    {
     "name": "stdout",
     "output_type": "stream",
     "text": [
      "Introdueix la teva edat: 19\n",
      "Pots votar.\n"
     ]
    }
   ],
   "source": [
    "#@title Solució\n",
    "edat = int(input(\"Introdueix la teva edat: \"))\n",
    "if edat >= 18:\n",
    "    print(\"Pots votar.\")\n",
    "else:\n",
    "    print(\"No pots votar.\")"
   ]
  },
  {
   "cell_type": "markdown",
   "metadata": {
    "id": "HYj83_rrAaxL"
   },
   "source": [
    "**4**. Escriu un programa que comprovi si una paraula introduïda per l'usuari comença amb la lletra 'A' o 'a'."
   ]
  },
  {
   "cell_type": "code",
   "execution_count": 4,
   "metadata": {
    "cellView": "form",
    "colab": {
     "base_uri": "https://localhost:8080/"
    },
    "executionInfo": {
     "elapsed": 252,
     "status": "ok",
     "timestamp": 1689870052939,
     "user": {
      "displayName": "Mireia Ribera",
      "userId": "13870616405792739474"
     },
     "user_tz": -120
    },
    "id": "hyNPhG6IAj3i",
    "outputId": "d6271853-e6dc-4fb4-e72c-5b48bad459da"
   },
   "outputs": [
    {
     "name": "stdout",
     "output_type": "stream",
     "text": [
      "Introdueix una paraula: Hola\n",
      "La paraula no comença amb 'A' ni 'a'.\n"
     ]
    }
   ],
   "source": [
    "#@title Solució\n",
    "\n",
    "paraula = input(\"Introdueix una paraula: \")\n",
    "if paraula.startswith('A') or paraula.startswith('a'):\n",
    "    print(\"La paraula comença amb 'A' o 'a'.\")\n",
    "else:\n",
    "    print(\"La paraula no comença amb 'A' ni 'a'.\")\n",
    "    \n",
    "# En comptes d'usar startswith, podries usar un slice?"
   ]
  },
  {
   "cell_type": "markdown",
   "metadata": {
    "id": "0RvqBI98Bjdz"
   },
   "source": [
    "**5**. Escriu un programa que demani a l'usuari dos números i comprovi si són tots dos parells."
   ]
  },
  {
   "cell_type": "code",
   "execution_count": 5,
   "metadata": {
    "cellView": "form",
    "colab": {
     "base_uri": "https://localhost:8080/"
    },
    "executionInfo": {
     "elapsed": 2505,
     "status": "ok",
     "timestamp": 1689870078292,
     "user": {
      "displayName": "Mireia Ribera",
      "userId": "13870616405792739474"
     },
     "user_tz": -120
    },
    "id": "gV40Ue0LBn80",
    "outputId": "75877524-5846-48dd-d403-7dc3dcac2bf8"
   },
   "outputs": [
    {
     "name": "stdout",
     "output_type": "stream",
     "text": [
      "Introdueix el primer número: 45\n",
      "Introdueix el segon número: 32\n",
      "Almenys un dels números no és parell.\n"
     ]
    }
   ],
   "source": [
    "#@title Solució\n",
    "\n",
    "num1 = int(input(\"Introdueix el primer número: \"))\n",
    "num2 = int(input(\"Introdueix el segon número: \"))\n",
    "if num1 % 2 == 0 and num2 % 2 == 0:\n",
    "    print(\"Els dos números són parells.\")\n",
    "else:\n",
    "    print(\"Almenys un dels números no és parell.\")"
   ]
  },
  {
   "cell_type": "markdown",
   "metadata": {
    "id": "U6CpZHsRCG4k"
   },
   "source": [
    "**6**. Escriu un programa que comprovi si una cadena introduïda per l'usuari conté la paraula \"python\"."
   ]
  },
  {
   "cell_type": "code",
   "execution_count": 6,
   "metadata": {
    "cellView": "form",
    "colab": {
     "base_uri": "https://localhost:8080/"
    },
    "executionInfo": {
     "elapsed": 3925,
     "status": "ok",
     "timestamp": 1689870091319,
     "user": {
      "displayName": "Mireia Ribera",
      "userId": "13870616405792739474"
     },
     "user_tz": -120
    },
    "id": "zj161Wo1CJ9y",
    "outputId": "93b9ce19-19a5-4466-e0c5-5e328c55e833"
   },
   "outputs": [
    {
     "name": "stdout",
     "output_type": "stream",
     "text": [
      "Introdueix una cadena de text: Jo programo amb Python\n",
      "La cadena conté la paraula 'python'.\n"
     ]
    }
   ],
   "source": [
    "#@title Solució\n",
    "cadena = input(\"Introdueix una cadena de text: \")\n",
    "if \"python\" in cadena.lower():\n",
    "    print(\"La cadena conté la paraula 'python'.\")\n",
    "else:\n",
    "    print(\"La cadena no conté la paraula 'python'.\")"
   ]
  },
  {
   "cell_type": "markdown",
   "metadata": {
    "id": "LlNWMxTtFU7b"
   },
   "source": [
    "**7**. Escriu un programa que demani a l'usuari tres notes (entre 0 i 10) i comprovi si ha aprovat. L'estudiant aprova si les tres notes són iguals o superiors a 5."
   ]
  },
  {
   "cell_type": "code",
   "execution_count": 7,
   "metadata": {
    "cellView": "form",
    "colab": {
     "base_uri": "https://localhost:8080/"
    },
    "executionInfo": {
     "elapsed": 268,
     "status": "ok",
     "timestamp": 1689870097349,
     "user": {
      "displayName": "Mireia Ribera",
      "userId": "13870616405792739474"
     },
     "user_tz": -120
    },
    "id": "qJP3EXqxC4a6",
    "outputId": "7163ea50-cb9c-449e-a9c7-5d3174fe49c1"
   },
   "outputs": [
    {
     "name": "stdout",
     "output_type": "stream",
     "text": [
      "Introdueix la primera nota: 5.6\n",
      "Introdueix la segona nota: 7.8\n",
      "Introdueix la tercera nota: 3.8\n",
      "No has aprovat.\n"
     ]
    }
   ],
   "source": [
    "#@title Solució\n",
    "\n",
    "nota1 = float(input(\"Introdueix la primera nota: \"))\n",
    "nota2 = float(input(\"Introdueix la segona nota: \"))\n",
    "nota3 = float(input(\"Introdueix la tercera nota: \"))\n",
    "if nota1 >= 5 and nota2 >= 5 and nota3 >= 5:\n",
    "    print(\"Has aprovat.\")\n",
    "else:\n",
    "    print(\"No has aprovat.\")"
   ]
  },
  {
   "cell_type": "markdown",
   "metadata": {
    "id": "2L7HH9yOBMnj"
   },
   "source": [
    "**8**. Escriu un programa que demani l'any de naixement d'una persona i comprovi si té 18 anys o més."
   ]
  },
  {
   "cell_type": "code",
   "execution_count": 8,
   "metadata": {
    "cellView": "form",
    "colab": {
     "base_uri": "https://localhost:8080/"
    },
    "executionInfo": {
     "elapsed": 242,
     "status": "ok",
     "timestamp": 1689870162032,
     "user": {
      "displayName": "Mireia Ribera",
      "userId": "13870616405792739474"
     },
     "user_tz": -120
    },
    "id": "LQgAQpspBQpE",
    "outputId": "816d723c-ad89-48db-8cc4-fe951e1c19c8"
   },
   "outputs": [
    {
     "name": "stdout",
     "output_type": "stream",
     "text": [
      "Introdueix l'any de naixement: 1998\n",
      "Tens 18 anys o més.\n"
     ]
    }
   ],
   "source": [
    "#@title Solució\n",
    "\n",
    "any_naixement = int(input(\"Introdueix l'any de naixement: \"))\n",
    "any_actual = 2023\n",
    "edat = any_actual - any_naixement\n",
    "if edat >= 18:\n",
    "    print(\"Tens 18 anys o més.\")\n",
    "else:\n",
    "    print(\"Tens menys de 18 anys.\")"
   ]
  },
  {
   "cell_type": "markdown",
   "metadata": {
    "id": "4CiVCce_Ch2j"
   },
   "source": [
    "**9**. Escriu un programa que comprovi si un nombre introduït per l'usuari és positiu i parell."
   ]
  },
  {
   "cell_type": "code",
   "execution_count": 9,
   "metadata": {
    "cellView": "form",
    "colab": {
     "base_uri": "https://localhost:8080/"
    },
    "executionInfo": {
     "elapsed": 270,
     "status": "ok",
     "timestamp": 1689870200465,
     "user": {
      "displayName": "Mireia Ribera",
      "userId": "13870616405792739474"
     },
     "user_tz": -120
    },
    "id": "2M1eT_P_Cn58",
    "outputId": "774d928b-6b23-49b1-c44a-d6b97e8ed9ac"
   },
   "outputs": [
    {
     "name": "stdout",
     "output_type": "stream",
     "text": [
      "Introdueix un número: 12\n",
      "El número és positiu i parell.\n"
     ]
    }
   ],
   "source": [
    "#@title solució\n",
    "num = int(input(\"Introdueix un número: \"))\n",
    "if num > 0 and num % 2 == 0:\n",
    "    print(\"El número és positiu i parell.\")\n",
    "else:\n",
    "    print(\"El número no compleix les condicions.\")"
   ]
  },
  {
   "cell_type": "markdown",
   "metadata": {
    "id": "j2fPx-yfDGXE"
   },
   "source": [
    "**10**. Escriu un programa que demani un caràcter a l'usuari i comprovi si és una lletra majúscula."
   ]
  },
  {
   "cell_type": "code",
   "execution_count": 10,
   "metadata": {
    "cellView": "form",
    "colab": {
     "base_uri": "https://localhost:8080/"
    },
    "executionInfo": {
     "elapsed": 237,
     "status": "ok",
     "timestamp": 1689870221175,
     "user": {
      "displayName": "Mireia Ribera",
      "userId": "13870616405792739474"
     },
     "user_tz": -120
    },
    "id": "SQpZg74CDI5X",
    "outputId": "9ae2febe-1999-4854-9a0f-b3596b530bf2"
   },
   "outputs": [
    {
     "name": "stdout",
     "output_type": "stream",
     "text": [
      "Introdueix un caràcter: a\n",
      "El caràcter no és una lletra majúscula.\n"
     ]
    }
   ],
   "source": [
    "#@title Solució\n",
    "caracter = input(\"Introdueix un caràcter: \")\n",
    "if caracter.isalpha() and caracter.isupper():\n",
    "    print(\"El caràcter és una lletra majúscula.\")\n",
    "else:\n",
    "    print(\"El caràcter no és una lletra majúscula.\")"
   ]
  },
  {
   "cell_type": "markdown",
   "metadata": {
    "id": "GXr_7hJoDX28"
   },
   "source": [
    "**11**. Escriu un programa que comprovi si un nombre introduït per l'usuari és múltiple de 4 però no de 6."
   ]
  },
  {
   "cell_type": "code",
   "execution_count": 11,
   "metadata": {
    "cellView": "form",
    "colab": {
     "base_uri": "https://localhost:8080/"
    },
    "executionInfo": {
     "elapsed": 267,
     "status": "ok",
     "timestamp": 1689870243672,
     "user": {
      "displayName": "Mireia Ribera",
      "userId": "13870616405792739474"
     },
     "user_tz": -120
    },
    "id": "dMP1_1qPDemb",
    "outputId": "c3229ef9-8dfc-4c48-b665-78c58cbe285a"
   },
   "outputs": [
    {
     "name": "stdout",
     "output_type": "stream",
     "text": [
      "Introdueix un número: 78\n",
      "El número no compleix les condicions.\n"
     ]
    }
   ],
   "source": [
    "#@title Solució\n",
    "\n",
    "num = int(input(\"Introdueix un número: \"))\n",
    "if num % 4 == 0 and num % 6 != 0:\n",
    "    print(\"El número és múltiple de 4 però no de 6.\")\n",
    "else:\n",
    "    print(\"El número no compleix les condicions.\")"
   ]
  },
  {
   "cell_type": "markdown",
   "metadata": {
    "id": "HvvTMag7Ds5U"
   },
   "source": [
    "**12**. Escriu un programa que comprovi si un nombre introduït per l'usuari és igual a 10 o menor que 5."
   ]
  },
  {
   "cell_type": "code",
   "execution_count": 12,
   "metadata": {
    "cellView": "form",
    "colab": {
     "base_uri": "https://localhost:8080/"
    },
    "executionInfo": {
     "elapsed": 250,
     "status": "ok",
     "timestamp": 1689870269882,
     "user": {
      "displayName": "Mireia Ribera",
      "userId": "13870616405792739474"
     },
     "user_tz": -120
    },
    "id": "3o7cDnu-Dz_M",
    "outputId": "891b5b3d-c913-42af-f18f-f9ce802125b1"
   },
   "outputs": [
    {
     "name": "stdout",
     "output_type": "stream",
     "text": [
      "Introdueix un número: 454\n",
      "El número no compleix les condicions.\n"
     ]
    }
   ],
   "source": [
    "#@title Solució\n",
    "num = int(input(\"Introdueix un número: \"))\n",
    "if num == 10 or num < 5:\n",
    "    print(\"El número és igual a 10 o menor que 5.\")\n",
    "else:\n",
    "    print(\"El número no compleix les condicions.\")"
   ]
  },
  {
   "cell_type": "markdown",
   "metadata": {
    "id": "7L4XnSfaF7Un"
   },
   "source": [
    "**13**. Escriu un programa que comprovi si un nombre introduït per l'usuari és positiu i menor o igual a 100."
   ]
  },
  {
   "cell_type": "code",
   "execution_count": 13,
   "metadata": {
    "cellView": "form",
    "colab": {
     "base_uri": "https://localhost:8080/"
    },
    "executionInfo": {
     "elapsed": 255,
     "status": "ok",
     "timestamp": 1689870293972,
     "user": {
      "displayName": "Mireia Ribera",
      "userId": "13870616405792739474"
     },
     "user_tz": -120
    },
    "id": "9hcoAkmtGDY_",
    "outputId": "1aed8b55-e8b8-4046-d0cd-eb90664d5a71"
   },
   "outputs": [
    {
     "name": "stdout",
     "output_type": "stream",
     "text": [
      "Introdueix un número: 4545\n",
      "El número no compleix les condicions.\n"
     ]
    }
   ],
   "source": [
    "#@title Solució\n",
    "\n",
    "num = int(input(\"Introdueix un número: \"))\n",
    "if num > 0 and num <= 100:\n",
    "    print(\"El número és positiu i menor o igual a 100.\")\n",
    "else:\n",
    "    print(\"El número no compleix les condicions.\")"
   ]
  },
  {
   "cell_type": "markdown",
   "metadata": {
    "id": "7L4XnSfaF7Un"
   },
   "source": [
    "**14**. Escriu un programa que demani dues notes i comprovi si l'usuari ha aprovat alguna de les dues. L'estudiant aprova si una de les notes és igual o superior a 5."
   ]
  },
  {
   "cell_type": "code",
   "execution_count": 15,
   "metadata": {
    "cellView": "form",
    "colab": {
     "base_uri": "https://localhost:8080/"
    },
    "executionInfo": {
     "elapsed": 255,
     "status": "ok",
     "timestamp": 1689870293972,
     "user": {
      "displayName": "Mireia Ribera",
      "userId": "13870616405792739474"
     },
     "user_tz": -120
    },
    "id": "9hcoAkmtGDY_",
    "outputId": "1aed8b55-e8b8-4046-d0cd-eb90664d5a71"
   },
   "outputs": [
    {
     "name": "stdout",
     "output_type": "stream",
     "text": [
      "Introdueix la primera nota: 8.9\n",
      "Introdueix la segona nota: 3.7\n",
      "Has aprovat com a mínim una de les dues notes.\n"
     ]
    }
   ],
   "source": [
    "#@title Solució\n",
    "\n",
    "cnota1 = float(input(\"Introdueix la primera nota: \"))\n",
    "nota2 = float(input(\"Introdueix la segona nota: \"))\n",
    "if nota1 >= 5 or nota2 >= 5:\n",
    "    print(\"Has aprovat com a mínim una de les dues notes.\")\n",
    "else:\n",
    "    print(\"No has aprovat cap de les dues notes.\")"
   ]
  },
  {
   "cell_type": "markdown",
   "metadata": {
    "id": "7L4XnSfaF7Un"
   },
   "source": [
    "**15**. Escriu un programa que comprovi si una paraula introduïda per l'usuari conté les lletres 'a' i 'e'."
   ]
  },
  {
   "cell_type": "code",
   "execution_count": 16,
   "metadata": {
    "cellView": "form",
    "colab": {
     "base_uri": "https://localhost:8080/"
    },
    "executionInfo": {
     "elapsed": 255,
     "status": "ok",
     "timestamp": 1689870293972,
     "user": {
      "displayName": "Mireia Ribera",
      "userId": "13870616405792739474"
     },
     "user_tz": -120
    },
    "id": "9hcoAkmtGDY_",
    "outputId": "1aed8b55-e8b8-4046-d0cd-eb90664d5a71"
   },
   "outputs": [
    {
     "name": "stdout",
     "output_type": "stream",
     "text": [
      "Introdueix una paraula: Python\n",
      "La paraula no conté les lletres 'a' i 'e'.\n"
     ]
    }
   ],
   "source": [
    "#@title Solució\n",
    "\n",
    "paraula = input(\"Introdueix una paraula: \")\n",
    "if 'a' in paraula.lower() and 'e' in paraula.lower():\n",
    "    print(\"La paraula conté les lletres 'a' i 'e'.\")\n",
    "else:\n",
    "    print(\"La paraula no conté les lletres 'a' i 'e'.\")"
   ]
  },
  {
   "cell_type": "markdown",
   "metadata": {
    "id": "7L4XnSfaF7Un"
   },
   "source": [
    "**16**. Escriu un programa que demani dues cadenes de text i comprovi si tenen la mateixa longitud."
   ]
  },
  {
   "cell_type": "code",
   "execution_count": 17,
   "metadata": {
    "cellView": "form",
    "colab": {
     "base_uri": "https://localhost:8080/"
    },
    "executionInfo": {
     "elapsed": 255,
     "status": "ok",
     "timestamp": 1689870293972,
     "user": {
      "displayName": "Mireia Ribera",
      "userId": "13870616405792739474"
     },
     "user_tz": -120
    },
    "id": "9hcoAkmtGDY_",
    "outputId": "1aed8b55-e8b8-4046-d0cd-eb90664d5a71"
   },
   "outputs": [
    {
     "name": "stdout",
     "output_type": "stream",
     "text": [
      "Introdueix la primera cadena: Hola que tal\n",
      "Introdueix la segona cadena: Adeu fins la propera\n",
      "Les dues cadenes no tenen la mateixa longitud.\n"
     ]
    }
   ],
   "source": [
    "#@title Solució\n",
    "\n",
    "cadena1 = input(\"Introdueix la primera cadena: \")\n",
    "cadena2 = input(\"Introdueix la segona cadena: \")\n",
    "if len(cadena1) == len(cadena2):\n",
    "    print(\"Les dues cadenes tenen la mateixa longitud.\")\n",
    "else:\n",
    "    print(\"Les dues cadenes no tenen la mateixa longitud.\")"
   ]
  },
  {
   "cell_type": "markdown",
   "metadata": {
    "id": "7L4XnSfaF7Un"
   },
   "source": [
    "**17**. Escriu un programa que demani un número enter i comprovi si és negatiu o zero."
   ]
  },
  {
   "cell_type": "code",
   "execution_count": 18,
   "metadata": {
    "cellView": "form",
    "colab": {
     "base_uri": "https://localhost:8080/"
    },
    "executionInfo": {
     "elapsed": 255,
     "status": "ok",
     "timestamp": 1689870293972,
     "user": {
      "displayName": "Mireia Ribera",
      "userId": "13870616405792739474"
     },
     "user_tz": -120
    },
    "id": "9hcoAkmtGDY_",
    "outputId": "1aed8b55-e8b8-4046-d0cd-eb90664d5a71"
   },
   "outputs": [
    {
     "name": "stdout",
     "output_type": "stream",
     "text": [
      "Introdueix un número enter: 6\n",
      "El número és positiu.\n"
     ]
    }
   ],
   "source": [
    "#@title Solució\n",
    "\n",
    "num = int(input(\"Introdueix un número enter: \"))\n",
    "if num <= 0:\n",
    "    print(\"El número és negatiu o zero.\")\n",
    "else:\n",
    "    print(\"El número és positiu.\")"
   ]
  },
  {
   "cell_type": "markdown",
   "metadata": {
    "id": "7L4XnSfaF7Un"
   },
   "source": [
    "**18**. Escriu un programa que demani dues edats i comprovi si la segona edat és igual o més gran que el doble de la primera."
   ]
  },
  {
   "cell_type": "code",
   "execution_count": 20,
   "metadata": {
    "cellView": "form",
    "colab": {
     "base_uri": "https://localhost:8080/"
    },
    "executionInfo": {
     "elapsed": 255,
     "status": "ok",
     "timestamp": 1689870293972,
     "user": {
      "displayName": "Mireia Ribera",
      "userId": "13870616405792739474"
     },
     "user_tz": -120
    },
    "id": "9hcoAkmtGDY_",
    "outputId": "1aed8b55-e8b8-4046-d0cd-eb90664d5a71"
   },
   "outputs": [
    {
     "name": "stdout",
     "output_type": "stream",
     "text": [
      "Introdueix la primera edat: 12\n",
      "Introdueix la segona edat: 25\n",
      "La segona edat és igual o més gran que el doble de la primera.\n"
     ]
    }
   ],
   "source": [
    "#@title Solució\n",
    "\n",
    "edat1 = int(input(\"Introdueix la primera edat: \"))\n",
    "edat2 = int(input(\"Introdueix la segona edat: \"))\n",
    "if edat2 >= 2 * edat1:\n",
    "    print(\"La segona edat és igual o més gran que el doble de la primera.\")\n",
    "else:\n",
    "    print(\"La segona edat no compleix les condicions.\")"
   ]
  },
  {
   "cell_type": "markdown",
   "metadata": {
    "id": "1TKkvoSoIR9E"
   },
   "source": [
    "Aquesta llista de problemes i solucions ha estat preparada amb l'ajut de ChatGPT 3.5, versió 24 de maig de 2023, i revisada i adaptada per Mireia Ribera."
   ]
  }
 ],
 "metadata": {
  "colab": {
   "authorship_tag": "ABX9TyNIzBAnOPSaNas5tPmQafGh",
   "provenance": []
  },
  "kernelspec": {
   "display_name": "Python 3 (ipykernel)",
   "language": "python",
   "name": "python3"
  },
  "language_info": {
   "codemirror_mode": {
    "name": "ipython",
    "version": 3
   },
   "file_extension": ".py",
   "mimetype": "text/x-python",
   "name": "python",
   "nbconvert_exporter": "python",
   "pygments_lexer": "ipython3",
   "version": "3.9.7"
  }
 },
 "nbformat": 4,
 "nbformat_minor": 1
}
