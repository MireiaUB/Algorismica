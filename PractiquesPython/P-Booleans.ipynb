{
 "cells": [
  {
   "cell_type": "markdown",
   "metadata": {
    "id": "dwAKykq7-wwD"
   },
   "source": [
    "# Problemes amb booleans"
   ]
  },
  {
   "cell_type": "markdown",
   "metadata": {
    "id": "MvCuNBq0_Zyb"
   },
   "source": [
    "**1**. Escriu un programa que demani a l'usuari un número enter i comprovi si és major que 10 i menor que 20."
   ]
  },
  {
   "cell_type": "markdown",
   "metadata": {
    "id": "ZXxxg5vy_4op"
   },
   "source": [
    "**2**. Escriu un programa que comprovi si un número és divisible per 3 o per 5."
   ]
  },
  {
   "cell_type": "markdown",
   "metadata": {
    "id": "YaKMvi1IADhi"
   },
   "source": [
    "**3**. Escriu un programa que demani l'edat d'una persona i determini si pot votar. Es pot votar si és major de 18 anys."
   ]
  },
  {
   "cell_type": "markdown",
   "metadata": {
    "id": "HYj83_rrAaxL"
   },
   "source": [
    "**4**. Escriu un programa que comprovi si una paraula introduïda per l'usuari comença amb la lletra 'A' o 'a'."
   ]
  },
  {
   "cell_type": "markdown",
   "metadata": {
    "id": "0RvqBI98Bjdz"
   },
   "source": [
    "**5**. Escriu un programa que demani a l'usuari dos números i comprovi si són tots dos parells."
   ]
  },
  {
   "cell_type": "markdown",
   "metadata": {
    "id": "U6CpZHsRCG4k"
   },
   "source": [
    "**6**. Escriu un programa que comprovi si una cadena introduïda per l'usuari conté la paraula \"python\"."
   ]
  },
  {
   "cell_type": "markdown",
   "metadata": {
    "id": "LlNWMxTtFU7b"
   },
   "source": [
    "**7**. Escriu un programa que demani a l'usuari tres notes (entre 0 i 10) i comprovi si ha aprovat. L'estudiant aprova si les tres notes són iguals o superiors a 5."
   ]
  },
  {
   "cell_type": "markdown",
   "metadata": {
    "id": "2L7HH9yOBMnj"
   },
   "source": [
    "**8**. Escriu un programa que demani l'any de naixement d'una persona i comprovi si té 18 anys o més."
   ]
  },
  {
   "cell_type": "markdown",
   "metadata": {
    "id": "4CiVCce_Ch2j"
   },
   "source": [
    "**9**. Escriu un programa que comprovi si un nombre introduït per l'usuari és positiu i parell."
   ]
  },
  {
   "cell_type": "markdown",
   "metadata": {
    "id": "j2fPx-yfDGXE"
   },
   "source": [
    "**10**. Escriu un programa que demani un caràcter a l'usuari i comprovi si és una lletra majúscula."
   ]
  },
  {
   "cell_type": "markdown",
   "metadata": {
    "id": "GXr_7hJoDX28"
   },
   "source": [
    "**11**. Escriu un programa que comprovi si un nombre introduït per l'usuari és múltiple de 4 però no de 6."
   ]
  },
  {
   "cell_type": "markdown",
   "metadata": {
    "id": "HvvTMag7Ds5U"
   },
   "source": [
    "**12**. Escriu un programa que comprovi si un nombre introduït per l'usuari és igual a 10 o menor que 5."
   ]
  },
  {
   "cell_type": "markdown",
   "metadata": {
    "id": "7L4XnSfaF7Un"
   },
   "source": [
    "**13**. Escriu un programa que comprovi si un nombre introduït per l'usuari és positiu i menor o igual a 100."
   ]
  },
  {
   "cell_type": "markdown",
   "metadata": {
    "id": "VMGgDiWmSMNW"
   },
   "source": [
    "**14**. Escriu un programa que demani dues notes i comprovi si l'usuari ha aprovat alguna de les dues. L'estudiant aprova si una de les notes és igual o superior a 5."
   ]
  },
  {
   "cell_type": "markdown",
   "metadata": {
    "id": "In3EMv4USMNW"
   },
   "source": [
    "**15**. Escriu un programa que comprovi si una paraula introduïda per l'usuari conté les lletres 'a' i 'e'."
   ]
  },
  {
   "cell_type": "markdown",
   "metadata": {
    "id": "dK3BnNPfSMNX"
   },
   "source": [
    "**16**. Escriu un programa que demani dues cadenes de text i comprovi si tenen la mateixa longitud."
   ]
  },
  {
   "cell_type": "markdown",
   "metadata": {
    "id": "mw9_9C_-SMNX"
   },
   "source": [
    "**17**. Escriu un programa que demani un número enter i comprovi si és negatiu o zero."
   ]
  },
  {
   "cell_type": "markdown",
   "metadata": {
    "id": "uuY0gnZISMNY"
   },
   "source": [
    "**18**. Escriu un programa que demani dues edats i comprovi si la segona edat és igual o més gran que el doble de la primera."
   ]
  },
  {
   "cell_type": "markdown",
   "metadata": {
    "id": "1TKkvoSoIR9E"
   },
   "source": [
    "Aquesta llista de problemes i solucions ha estat preparada amb l'ajut de ChatGPT 3.5, versió 24 de maig de 2023, i revisada i adaptada per Mireia Ribera."
   ]
  }
 ],
 "metadata": {
  "colab": {
   "provenance": []
  },
  "kernelspec": {
   "display_name": "Python 3 (ipykernel)",
   "language": "python",
   "name": "python3"
  },
  "language_info": {
   "codemirror_mode": {
    "name": "ipython",
    "version": 3
   },
   "file_extension": ".py",
   "mimetype": "text/x-python",
   "name": "python",
   "nbconvert_exporter": "python",
   "pygments_lexer": "ipython3",
   "version": "3.11.7"
  }
 },
 "nbformat": 4,
 "nbformat_minor": 4
}
