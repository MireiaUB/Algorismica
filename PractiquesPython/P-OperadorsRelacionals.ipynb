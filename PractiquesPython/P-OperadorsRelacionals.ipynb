{
 "cells": [
  {
   "cell_type": "markdown",
   "metadata": {
    "id": "dwAKykq7-wwD"
   },
   "source": [
    "# Problemes amb operadors relacionals"
   ]
  },
  {
   "cell_type": "markdown",
   "metadata": {
    "id": "MvCuNBq0_Zyb"
   },
   "source": [
    "**1**. Escriu un programa que demani a l'usuari un número i digui si és més gran que 10."
   ]
  },
  {
   "cell_type": "code",
   "execution_count": 1,
   "metadata": {
    "cellView": "form",
    "colab": {
     "base_uri": "https://localhost:8080/"
    },
    "executionInfo": {
     "elapsed": 250,
     "status": "ok",
     "timestamp": 1689870043252,
     "user": {
      "displayName": "Mireia Ribera",
      "userId": "13870616405792739474"
     },
     "user_tz": -120
    },
    "id": "QTPMagKU_fCT",
    "outputId": "5b5eb5d1-3578-4820-d7df-cd28d6573621"
   },
   "outputs": [
    {
     "name": "stdout",
     "output_type": "stream",
     "text": [
      "Introdueix un número: 6\n",
      "El número no és més gran que 10.\n"
     ]
    }
   ],
   "source": [
    "#@title Solució\n",
    "num = int(input(\"Introdueix un número: \"))\n",
    "if num > 10:\n",
    "    print(\"El número és més gran que 10.\")\n",
    "else:\n",
    "    print(\"El número no és més gran que 10.\")"
   ]
  },
  {
   "cell_type": "markdown",
   "metadata": {
    "id": "ZXxxg5vy_4op"
   },
   "source": [
    "**2**. Escriu un programa que demani a l'usuari dos números i mostri el major dels dos."
   ]
  },
  {
   "cell_type": "code",
   "execution_count": 2,
   "metadata": {
    "cellView": "form",
    "colab": {
     "base_uri": "https://localhost:8080/"
    },
    "executionInfo": {
     "elapsed": 236,
     "status": "ok",
     "timestamp": 1689870046201,
     "user": {
      "displayName": "Mireia Ribera",
      "userId": "13870616405792739474"
     },
     "user_tz": -120
    },
    "id": "MS8GI0BH_--D",
    "outputId": "b25677bb-51db-4bdd-848f-20625661a7b6"
   },
   "outputs": [
    {
     "name": "stdout",
     "output_type": "stream",
     "text": [
      "Introdueix el primer número: 5\n",
      "Introdueix el segon número: 90\n",
      "El segon número és major.\n"
     ]
    }
   ],
   "source": [
    "#@title Solució\n",
    "\n",
    "num1 = int(input(\"Introdueix el primer número: \"))\n",
    "num2 = int(input(\"Introdueix el segon número: \"))\n",
    "\n",
    "if num1 > num2:\n",
    "    print(\"El primer número és major.\")\n",
    "elif num1 < num2:\n",
    "    print(\"El segon número és major.\")\n",
    "else:\n",
    "    print(\"Els dos números són iguals.\")"
   ]
  },
  {
   "cell_type": "markdown",
   "metadata": {
    "id": "YaKMvi1IADhi"
   },
   "source": [
    "**3**. Escriu un programa que demani a l'usuari un any i digui si és un any de traspàs (és a dir, divisible entre 4, excepte els múltiples de 100, que han de ser múltiples de 400)."
   ]
  },
  {
   "cell_type": "code",
   "execution_count": 3,
   "metadata": {
    "cellView": "form",
    "colab": {
     "base_uri": "https://localhost:8080/"
    },
    "executionInfo": {
     "elapsed": 260,
     "status": "ok",
     "timestamp": 1689870049784,
     "user": {
      "displayName": "Mireia Ribera",
      "userId": "13870616405792739474"
     },
     "user_tz": -120
    },
    "id": "wEQ9VNc0AIol",
    "outputId": "8b341632-06b2-4732-8818-7ddb61544202"
   },
   "outputs": [
    {
     "name": "stdout",
     "output_type": "stream",
     "text": [
      "Introdueix un any: 2023\n",
      "No és un any de traspàs.\n"
     ]
    }
   ],
   "source": [
    "#@title Solució\n",
    "any = int(input(\"Introdueix un any: \"))\n",
    "\n",
    "if (any % 4 == 0 and any % 100 != 0) or any % 400 == 0:\n",
    "    print(\"És un any de traspàs.\")\n",
    "else:\n",
    "    print(\"No és un any de traspàs.\")"
   ]
  },
  {
   "cell_type": "markdown",
   "metadata": {
    "id": "HYj83_rrAaxL"
   },
   "source": [
    "**4**. Escriu un programa que demani a l'usuari la seva edat i comprovi si és major d'edat (18 anys o més)."
   ]
  },
  {
   "cell_type": "code",
   "execution_count": 4,
   "metadata": {
    "cellView": "form",
    "colab": {
     "base_uri": "https://localhost:8080/"
    },
    "executionInfo": {
     "elapsed": 252,
     "status": "ok",
     "timestamp": 1689870052939,
     "user": {
      "displayName": "Mireia Ribera",
      "userId": "13870616405792739474"
     },
     "user_tz": -120
    },
    "id": "hyNPhG6IAj3i",
    "outputId": "d6271853-e6dc-4fb4-e72c-5b48bad459da"
   },
   "outputs": [
    {
     "name": "stdout",
     "output_type": "stream",
     "text": [
      "Introdueix la teva edat: 12\n",
      "Ets menor d'edat.\n"
     ]
    }
   ],
   "source": [
    "#@title Solució\n",
    "\n",
    "edat = int(input(\"Introdueix la teva edat: \"))\n",
    "\n",
    "if edat >= 18:\n",
    "    print(\"Ets major d'edat.\")\n",
    "else:\n",
    "    print(\"Ets menor d'edat.\")"
   ]
  },
  {
   "cell_type": "markdown",
   "metadata": {
    "id": "0RvqBI98Bjdz"
   },
   "source": [
    "**5**. Escriu un programa que demani a l'usuari una contrasenya i verifiqui si és la contrasenya correcta (\"secreta\")."
   ]
  },
  {
   "cell_type": "code",
   "execution_count": 5,
   "metadata": {
    "cellView": "form",
    "colab": {
     "base_uri": "https://localhost:8080/"
    },
    "executionInfo": {
     "elapsed": 2505,
     "status": "ok",
     "timestamp": 1689870078292,
     "user": {
      "displayName": "Mireia Ribera",
      "userId": "13870616405792739474"
     },
     "user_tz": -120
    },
    "id": "gV40Ue0LBn80",
    "outputId": "75877524-5846-48dd-d403-7dc3dcac2bf8"
   },
   "outputs": [
    {
     "name": "stdout",
     "output_type": "stream",
     "text": [
      "Introdueix la contrasenya: secret\n",
      "Contrasenya incorrecta.\n"
     ]
    }
   ],
   "source": [
    "#@title Solució\n",
    "\n",
    "contrasenya = input(\"Introdueix la contrasenya: \")\n",
    "\n",
    "if contrasenya == \"secreta\":\n",
    "    print(\"Contrasenya correcta.\")\n",
    "else:\n",
    "    print(\"Contrasenya incorrecta.\")"
   ]
  },
  {
   "cell_type": "markdown",
   "metadata": {
    "id": "U6CpZHsRCG4k"
   },
   "source": [
    "**6**. Escriu un programa que demani a l'usuari el nom d'un color i comprovi si és \"vermell\", \"blau\" o \"verd\"."
   ]
  },
  {
   "cell_type": "code",
   "execution_count": 6,
   "metadata": {
    "cellView": "form",
    "colab": {
     "base_uri": "https://localhost:8080/"
    },
    "executionInfo": {
     "elapsed": 3925,
     "status": "ok",
     "timestamp": 1689870091319,
     "user": {
      "displayName": "Mireia Ribera",
      "userId": "13870616405792739474"
     },
     "user_tz": -120
    },
    "id": "zj161Wo1CJ9y",
    "outputId": "93b9ce19-19a5-4466-e0c5-5e328c55e833"
   },
   "outputs": [
    {
     "name": "stdout",
     "output_type": "stream",
     "text": [
      "Introdueix el nom d'un color: negre\n",
      "No és un color vàlid.\n"
     ]
    }
   ],
   "source": [
    "#@title Solució\n",
    "color = input(\"Introdueix el nom d'un color: \")\n",
    "\n",
    "if color == \"vermell\" or color == \"blau\" or color == \"verd\":\n",
    "    print(\"És un color vàlid.\")\n",
    "else:\n",
    "    print(\"No és un color vàlid.\")"
   ]
  },
  {
   "cell_type": "markdown",
   "metadata": {
    "id": "LlNWMxTtFU7b"
   },
   "source": [
    "**7**. Escriu un programa que demani a l'usuari un número i digui si és positiu, negatiu o zero."
   ]
  },
  {
   "cell_type": "code",
   "execution_count": 7,
   "metadata": {
    "cellView": "form",
    "colab": {
     "base_uri": "https://localhost:8080/"
    },
    "executionInfo": {
     "elapsed": 268,
     "status": "ok",
     "timestamp": 1689870097349,
     "user": {
      "displayName": "Mireia Ribera",
      "userId": "13870616405792739474"
     },
     "user_tz": -120
    },
    "id": "qJP3EXqxC4a6",
    "outputId": "7163ea50-cb9c-449e-a9c7-5d3174fe49c1"
   },
   "outputs": [
    {
     "name": "stdout",
     "output_type": "stream",
     "text": [
      "Introdueix un número: -8\n",
      "El número és negatiu.\n"
     ]
    }
   ],
   "source": [
    "#@title Solució\n",
    "\n",
    "num = int(input(\"Introdueix un número: \"))\n",
    "\n",
    "if num > 0:\n",
    "    print(\"El número és positiu.\")\n",
    "elif num < 0:\n",
    "    print(\"El número és negatiu.\")\n",
    "else:\n",
    "    print(\"El número és zero.\")"
   ]
  },
  {
   "cell_type": "markdown",
   "metadata": {
    "id": "2L7HH9yOBMnj"
   },
   "source": [
    "**8**. Escriu un programa que demani a l'usuari dues paraules i comprovi si són iguals (diferenciant majúscules i minúscules)."
   ]
  },
  {
   "cell_type": "code",
   "execution_count": 8,
   "metadata": {
    "cellView": "form",
    "colab": {
     "base_uri": "https://localhost:8080/"
    },
    "executionInfo": {
     "elapsed": 242,
     "status": "ok",
     "timestamp": 1689870162032,
     "user": {
      "displayName": "Mireia Ribera",
      "userId": "13870616405792739474"
     },
     "user_tz": -120
    },
    "id": "LQgAQpspBQpE",
    "outputId": "816d723c-ad89-48db-8cc4-fe951e1c19c8"
   },
   "outputs": [
    {
     "name": "stdout",
     "output_type": "stream",
     "text": [
      "Introdueix la primera paraula: python\n",
      "Introdueix la segona paraula: Python\n",
      "Les paraules no són iguals.\n"
     ]
    }
   ],
   "source": [
    "#@title Solució\n",
    "\n",
    "paraula1 = input(\"Introdueix la primera paraula: \")\n",
    "paraula2 = input(\"Introdueix la segona paraula: \")\n",
    "\n",
    "if paraula1 == paraula2:\n",
    "    print(\"Les paraules són iguals.\")\n",
    "else:\n",
    "    print(\"Les paraules no són iguals.\")"
   ]
  },
  {
   "cell_type": "markdown",
   "metadata": {
    "id": "4CiVCce_Ch2j"
   },
   "source": [
    "**9**. Escriu un programa que demani a l'usuari dos números i comprovi si la seva diferència és positiva."
   ]
  },
  {
   "cell_type": "code",
   "execution_count": 9,
   "metadata": {
    "cellView": "form",
    "colab": {
     "base_uri": "https://localhost:8080/"
    },
    "executionInfo": {
     "elapsed": 270,
     "status": "ok",
     "timestamp": 1689870200465,
     "user": {
      "displayName": "Mireia Ribera",
      "userId": "13870616405792739474"
     },
     "user_tz": -120
    },
    "id": "2M1eT_P_Cn58",
    "outputId": "774d928b-6b23-49b1-c44a-d6b97e8ed9ac"
   },
   "outputs": [
    {
     "name": "stdout",
     "output_type": "stream",
     "text": [
      "Introdueix el primer número: 56\n",
      "Introdueix el segon número: 78\n",
      "La diferència no és positiva.\n"
     ]
    }
   ],
   "source": [
    "#@title solució\n",
    "nnum1 = int(input(\"Introdueix el primer número: \"))\n",
    "num2 = int(input(\"Introdueix el segon número: \"))\n",
    "\n",
    "if num1 - num2 > 0:\n",
    "    print(\"La diferència és positiva.\")\n",
    "else:\n",
    "    print(\"La diferència no és positiva.\")"
   ]
  },
  {
   "cell_type": "markdown",
   "metadata": {
    "id": "j2fPx-yfDGXE"
   },
   "source": [
    "**10**. Escriu un programa que demani a l'usuari un número i comprovi si és múltiple de 5."
   ]
  },
  {
   "cell_type": "code",
   "execution_count": 10,
   "metadata": {
    "cellView": "form",
    "colab": {
     "base_uri": "https://localhost:8080/"
    },
    "executionInfo": {
     "elapsed": 237,
     "status": "ok",
     "timestamp": 1689870221175,
     "user": {
      "displayName": "Mireia Ribera",
      "userId": "13870616405792739474"
     },
     "user_tz": -120
    },
    "id": "SQpZg74CDI5X",
    "outputId": "9ae2febe-1999-4854-9a0f-b3596b530bf2"
   },
   "outputs": [
    {
     "name": "stdout",
     "output_type": "stream",
     "text": [
      "Introdueix un número: 35\n",
      "És múltiple de 5.\n"
     ]
    }
   ],
   "source": [
    "#@title Solució\n",
    "num = int(input(\"Introdueix un número: \"))\n",
    "\n",
    "if num % 5 == 0:\n",
    "    print(\"És múltiple de 5.\")\n",
    "else:\n",
    "    print(\"No és múltiple de 5.\")"
   ]
  },
  {
   "cell_type": "markdown",
   "metadata": {
    "id": "GXr_7hJoDX28"
   },
   "source": [
    "**11**. Escriu un programa que demani a l'usuari dos noms i mostri el més curt d'ells."
   ]
  },
  {
   "cell_type": "code",
   "execution_count": 11,
   "metadata": {
    "cellView": "form",
    "colab": {
     "base_uri": "https://localhost:8080/"
    },
    "executionInfo": {
     "elapsed": 267,
     "status": "ok",
     "timestamp": 1689870243672,
     "user": {
      "displayName": "Mireia Ribera",
      "userId": "13870616405792739474"
     },
     "user_tz": -120
    },
    "id": "dMP1_1qPDemb",
    "outputId": "c3229ef9-8dfc-4c48-b665-78c58cbe285a"
   },
   "outputs": [
    {
     "name": "stdout",
     "output_type": "stream",
     "text": [
      "Introdueix el primer nom: Mireia\n",
      "Introdueix el segon nom: Daniel\n",
      "El nom més curt és: Daniel\n"
     ]
    }
   ],
   "source": [
    "#@title Solució\n",
    "\n",
    "nom1 = input(\"Introdueix el primer nom: \")\n",
    "nom2 = input(\"Introdueix el segon nom: \")\n",
    "\n",
    "mes_curt = nom1 if len(nom1) < len(nom2) else nom2\n",
    "print(f\"El nom més curt és: {mes_curt}\")\n",
    "\n",
    "# reordena la línia 3 del codi per fer-la més comprensible"
   ]
  },
  {
   "cell_type": "markdown",
   "metadata": {
    "id": "HvvTMag7Ds5U"
   },
   "source": [
    "**12**. Escriu un programa que demani a l'usuari un número i comprovi si és un nombre de dues xifres."
   ]
  },
  {
   "cell_type": "code",
   "execution_count": 12,
   "metadata": {
    "cellView": "form",
    "colab": {
     "base_uri": "https://localhost:8080/"
    },
    "executionInfo": {
     "elapsed": 250,
     "status": "ok",
     "timestamp": 1689870269882,
     "user": {
      "displayName": "Mireia Ribera",
      "userId": "13870616405792739474"
     },
     "user_tz": -120
    },
    "id": "3o7cDnu-Dz_M",
    "outputId": "891b5b3d-c913-42af-f18f-f9ce802125b1"
   },
   "outputs": [
    {
     "name": "stdout",
     "output_type": "stream",
     "text": [
      "Introdueix un número: 56\n",
      "És un nombre de dues xifres.\n"
     ]
    }
   ],
   "source": [
    "#@title Solució\n",
    "num = int(input(\"Introdueix un número: \"))\n",
    "\n",
    "if 10 <= num <= 99:\n",
    "    print(\"És un nombre de dues xifres.\")\n",
    "else:\n",
    "    print(\"No és un nombre de dues xifres.\")\n"
   ]
  },
  {
   "cell_type": "markdown",
   "metadata": {
    "id": "7L4XnSfaF7Un"
   },
   "source": [
    "**13**. Escriu un programa que demani a l'usuari el nom del seu país i comprovi si és \"Espanya\" o \"Andorra\"."
   ]
  },
  {
   "cell_type": "code",
   "execution_count": 13,
   "metadata": {
    "cellView": "form",
    "colab": {
     "base_uri": "https://localhost:8080/"
    },
    "executionInfo": {
     "elapsed": 255,
     "status": "ok",
     "timestamp": 1689870293972,
     "user": {
      "displayName": "Mireia Ribera",
      "userId": "13870616405792739474"
     },
     "user_tz": -120
    },
    "id": "9hcoAkmtGDY_",
    "outputId": "1aed8b55-e8b8-4046-d0cd-eb90664d5a71"
   },
   "outputs": [
    {
     "name": "stdout",
     "output_type": "stream",
     "text": [
      "Introdueix el nom del teu país: Catalunya\n",
      "No ets d'Espanya o Andorra.\n"
     ]
    }
   ],
   "source": [
    "#@title Solució\n",
    "\n",
    "pais = input(\"Introdueix el nom del teu país: \")\n",
    "\n",
    "if pais == \"Espanya\" or pais == \"Andorra\":\n",
    "    print(\"Ets d'Espanya o Andorra.\")\n",
    "else:\n",
    "    print(\"No ets d'Espanya o Andorra.\")"
   ]
  },
  {
   "cell_type": "markdown",
   "metadata": {
    "id": "1TKkvoSoIR9E"
   },
   "source": [
    "Aquesta llista de problemes i solucions ha estat preparada amb l'ajut de ChatGPT 3.5, versió 24 de maig de 2023, i revisada i adaptada per Mireia Ribera."
   ]
  }
 ],
 "metadata": {
  "colab": {
   "authorship_tag": "ABX9TyNIzBAnOPSaNas5tPmQafGh",
   "provenance": []
  },
  "kernelspec": {
   "display_name": "Python 3 (ipykernel)",
   "language": "python",
   "name": "python3"
  },
  "language_info": {
   "codemirror_mode": {
    "name": "ipython",
    "version": 3
   },
   "file_extension": ".py",
   "mimetype": "text/x-python",
   "name": "python",
   "nbconvert_exporter": "python",
   "pygments_lexer": "ipython3",
   "version": "3.9.7"
  }
 },
 "nbformat": 4,
 "nbformat_minor": 1
}
