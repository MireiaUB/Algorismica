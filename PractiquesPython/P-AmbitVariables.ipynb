{
 "cells": [
  {
   "cell_type": "markdown",
   "metadata": {
    "id": "dwAKykq7-wwD"
   },
   "source": [
    "# Problemes amb l'àmbit de les variables"
   ]
  },
  {
   "cell_type": "markdown",
   "metadata": {
    "id": "z4eAvrMIFqS7"
   },
   "source": [
    "## Amb range"
   ]
  },
  {
   "cell_type": "markdown",
   "metadata": {
    "id": "MvCuNBq0_Zyb"
   },
   "source": [
    "**1**. Escriu una funció que defineixi una variable local i intenta accedir-hi des de l'exterior de la funció."
   ]
  },
  {
   "cell_type": "code",
   "execution_count": 2,
   "metadata": {
    "cellView": "form",
    "colab": {
     "base_uri": "https://localhost:8080/"
    },
    "executionInfo": {
     "elapsed": 250,
     "status": "ok",
     "timestamp": 1689870043252,
     "user": {
      "displayName": "Mireia Ribera",
      "userId": "13870616405792739474"
     },
     "user_tz": -120
    },
    "id": "QTPMagKU_fCT",
    "outputId": "5b5eb5d1-3578-4820-d7df-cd28d6573621"
   },
   "outputs": [
    {
     "ename": "NameError",
     "evalue": "name 'local_var' is not defined",
     "output_type": "error",
     "traceback": [
      "\u001b[1;31m---------------------------------------------------------------------------\u001b[0m",
      "\u001b[1;31mNameError\u001b[0m                                 Traceback (most recent call last)",
      "Cell \u001b[1;32mIn[2], line 6\u001b[0m\n\u001b[0;32m      3\u001b[0m     local_var \u001b[38;5;241m=\u001b[39m \u001b[38;5;241m42\u001b[39m\n\u001b[0;32m      5\u001b[0m my_function()\n\u001b[1;32m----> 6\u001b[0m \u001b[38;5;28mprint\u001b[39m(\u001b[43mlocal_var\u001b[49m)  \u001b[38;5;66;03m# Provoca un error ja que local_var no és accessible aquí.\u001b[39;00m\n",
      "\u001b[1;31mNameError\u001b[0m: name 'local_var' is not defined"
     ]
    }
   ],
   "source": [
    "#@title Solució\n",
    "def my_function():\n",
    "    local_var = 42\n",
    "\n",
    "my_function()\n",
    "print(local_var)  # Provoca un error ja que local_var no és accessible aquí."
   ]
  },
  {
   "cell_type": "markdown",
   "metadata": {
    "id": "ZXxxg5vy_4op"
   },
   "source": [
    "**2**. Defineix una variable global i una funció amb una variable local que té el mateix nom. Observa quina variable es fa servir dins la funció."
   ]
  },
  {
   "cell_type": "code",
   "execution_count": 3,
   "metadata": {
    "cellView": "form",
    "colab": {
     "base_uri": "https://localhost:8080/"
    },
    "executionInfo": {
     "elapsed": 236,
     "status": "ok",
     "timestamp": 1689870046201,
     "user": {
      "displayName": "Mireia Ribera",
      "userId": "13870616405792739474"
     },
     "user_tz": -120
    },
    "id": "MS8GI0BH_--D",
    "outputId": "b25677bb-51db-4bdd-848f-20625661a7b6"
   },
   "outputs": [
    {
     "name": "stdout",
     "output_type": "stream",
     "text": [
      "Dins la funció: 5\n",
      "Dins la funció, accedint a la global: 10\n",
      "Fora de la funció, accedint a la global: 10\n"
     ]
    }
   ],
   "source": [
    "#@title Solució\n",
    "\n",
    "global_var = 10\n",
    "\n",
    "def my_function():\n",
    "    local_var = 5\n",
    "    print(\"Dins la funció:\", local_var)  # Mostra el valor de la variable local\n",
    "    print(\"Dins la funció, accedint a la global:\", global_var)  # Accedeix a la variable global\n",
    "\n",
    "my_function()\n",
    "print(\"Fora de la funció, accedint a la global:\", global_var)  # Mostra el valor de la variable global"
   ]
  },
  {
   "cell_type": "markdown",
   "metadata": {
    "id": "YaKMvi1IADhi"
   },
   "source": [
    "**3**. Defineix una funció amb un paràmetre i intenta accedir-hi des de l'exterior de la funció."
   ]
  },
  {
   "cell_type": "code",
   "execution_count": 4,
   "metadata": {
    "cellView": "form",
    "colab": {
     "base_uri": "https://localhost:8080/"
    },
    "executionInfo": {
     "elapsed": 260,
     "status": "ok",
     "timestamp": 1689870049784,
     "user": {
      "displayName": "Mireia Ribera",
      "userId": "13870616405792739474"
     },
     "user_tz": -120
    },
    "id": "wEQ9VNc0AIol",
    "outputId": "8b341632-06b2-4732-8818-7ddb61544202"
   },
   "outputs": [
    {
     "name": "stdout",
     "output_type": "stream",
     "text": [
      "Valor del paràmetre dins de la funció: 42\n"
     ]
    },
    {
     "ename": "NameError",
     "evalue": "name 'parameter' is not defined",
     "output_type": "error",
     "traceback": [
      "\u001b[1;31m---------------------------------------------------------------------------\u001b[0m",
      "\u001b[1;31mNameError\u001b[0m                                 Traceback (most recent call last)",
      "Cell \u001b[1;32mIn[4], line 6\u001b[0m\n\u001b[0;32m      3\u001b[0m     \u001b[38;5;28mprint\u001b[39m(\u001b[38;5;124m\"\u001b[39m\u001b[38;5;124mValor del paràmetre dins de la funció:\u001b[39m\u001b[38;5;124m\"\u001b[39m, parameter)\n\u001b[0;32m      5\u001b[0m my_function(\u001b[38;5;241m42\u001b[39m)\n\u001b[1;32m----> 6\u001b[0m \u001b[38;5;28mprint\u001b[39m(\u001b[38;5;124m\"\u001b[39m\u001b[38;5;124mValor del paràmetre fora de la funció:\u001b[39m\u001b[38;5;124m\"\u001b[39m, \u001b[43mparameter\u001b[49m)  \u001b[38;5;66;03m# Provoca un error ja que parameter no és accessible aquí.\u001b[39;00m\n",
      "\u001b[1;31mNameError\u001b[0m: name 'parameter' is not defined"
     ]
    }
   ],
   "source": [
    "#@title Solució\n",
    "def my_function(parameter):\n",
    "    print(\"Valor del paràmetre dins de la funció:\", parameter)\n",
    "\n",
    "my_function(42)\n",
    "print(\"Valor del paràmetre fora de la funció:\", parameter)  # Provoca un error ja que parameter no és accessible aquí."
   ]
  },
  {
   "cell_type": "markdown",
   "metadata": {
    "id": "HYj83_rrAaxL"
   },
   "source": [
    "**4**. Escriu una funció que modifiqui el valor d'una variable global."
   ]
  },
  {
   "cell_type": "code",
   "execution_count": 5,
   "metadata": {
    "cellView": "form",
    "colab": {
     "base_uri": "https://localhost:8080/"
    },
    "executionInfo": {
     "elapsed": 252,
     "status": "ok",
     "timestamp": 1689870052939,
     "user": {
      "displayName": "Mireia Ribera",
      "userId": "13870616405792739474"
     },
     "user_tz": -120
    },
    "id": "hyNPhG6IAj3i",
    "outputId": "d6271853-e6dc-4fb4-e72c-5b48bad459da"
   },
   "outputs": [
    {
     "name": "stdout",
     "output_type": "stream",
     "text": [
      "Valor global abans de la funció: 10\n",
      "Valor global després de la funció: 15\n"
     ]
    }
   ],
   "source": [
    "#@title Solució\n",
    "\n",
    "global_var = 10\n",
    "\n",
    "def modify_global():\n",
    "    global global_var\n",
    "    global_var += 5\n",
    "\n",
    "print(\"Valor global abans de la funció:\", global_var)\n",
    "modify_global()\n",
    "print(\"Valor global després de la funció:\", global_var)"
   ]
  },
  {
   "cell_type": "markdown",
   "metadata": {
    "id": "0RvqBI98Bjdz"
   },
   "source": [
    "**5**. Crea una funció exterior i una funció interior. Intenta accedir a la variable local de la funció interior des de l'exterior."
   ]
  },
  {
   "cell_type": "code",
   "execution_count": 8,
   "metadata": {
    "cellView": "form",
    "colab": {
     "base_uri": "https://localhost:8080/"
    },
    "executionInfo": {
     "elapsed": 2505,
     "status": "ok",
     "timestamp": 1689870078292,
     "user": {
      "displayName": "Mireia Ribera",
      "userId": "13870616405792739474"
     },
     "user_tz": -120
    },
    "id": "gV40Ue0LBn80",
    "outputId": "75877524-5846-48dd-d403-7dc3dcac2bf8"
   },
   "outputs": [
    {
     "name": "stdout",
     "output_type": "stream",
     "text": [
      "Dins la funció interior: 5\n"
     ]
    },
    {
     "ename": "NameError",
     "evalue": "name 'inner_var' is not defined",
     "output_type": "error",
     "traceback": [
      "\u001b[1;31m---------------------------------------------------------------------------\u001b[0m",
      "\u001b[1;31mNameError\u001b[0m                                 Traceback (most recent call last)",
      "Cell \u001b[1;32mIn[8], line 13\u001b[0m\n\u001b[0;32m     10\u001b[0m     \u001b[38;5;28mprint\u001b[39m(\u001b[38;5;124m\"\u001b[39m\u001b[38;5;124mDins la funció exterior:\u001b[39m\u001b[38;5;124m\"\u001b[39m, inner_var)\n\u001b[0;32m     11\u001b[0m     \u001b[38;5;66;03m# provoca un error perquè aquesta variable \u001b[39;00m\n\u001b[0;32m     12\u001b[0m     \u001b[38;5;66;03m# no és accessible fora d'inner_functin\u001b[39;00m\n\u001b[1;32m---> 13\u001b[0m \u001b[43mouter_function\u001b[49m\u001b[43m(\u001b[49m\u001b[43m)\u001b[49m\n",
      "Cell \u001b[1;32mIn[8], line 10\u001b[0m, in \u001b[0;36mouter_function\u001b[1;34m()\u001b[0m\n\u001b[0;32m      7\u001b[0m     \u001b[38;5;28mprint\u001b[39m(\u001b[38;5;124m\"\u001b[39m\u001b[38;5;124mDins la funció interior:\u001b[39m\u001b[38;5;124m\"\u001b[39m, inner_var)\n\u001b[0;32m      9\u001b[0m inner_function()\n\u001b[1;32m---> 10\u001b[0m \u001b[38;5;28mprint\u001b[39m(\u001b[38;5;124m\"\u001b[39m\u001b[38;5;124mDins la funció exterior:\u001b[39m\u001b[38;5;124m\"\u001b[39m, \u001b[43minner_var\u001b[49m)\n",
      "\u001b[1;31mNameError\u001b[0m: name 'inner_var' is not defined"
     ]
    }
   ],
   "source": [
    "#@title Solució\n",
    "\n",
    "def outer_function():\n",
    "\n",
    "    def inner_function():\n",
    "        inner_var = 5\n",
    "        print(\"Dins la funció interior:\", inner_var)\n",
    "\n",
    "    inner_function()\n",
    "    print(\"Dins la funció exterior:\", inner_var)\n",
    "    # provoca un error perquè aquesta variable \n",
    "    # no és accessible fora d'inner_functin\n",
    "outer_function()"
   ]
  },
  {
   "cell_type": "markdown",
   "metadata": {
    "id": "U6CpZHsRCG4k"
   },
   "source": [
    "**6**. Defineix una variable global i una funció amb una variable local que té el mateix nom. Observa quina variable es fa servir quan la funció s'invoca des de la funció interior."
   ]
  },
  {
   "cell_type": "code",
   "execution_count": 10,
   "metadata": {
    "cellView": "form",
    "colab": {
     "base_uri": "https://localhost:8080/"
    },
    "executionInfo": {
     "elapsed": 3925,
     "status": "ok",
     "timestamp": 1689870091319,
     "user": {
      "displayName": "Mireia Ribera",
      "userId": "13870616405792739474"
     },
     "user_tz": -120
    },
    "id": "zj161Wo1CJ9y",
    "outputId": "93b9ce19-19a5-4466-e0c5-5e328c55e833"
   },
   "outputs": [
    {
     "name": "stdout",
     "output_type": "stream",
     "text": [
      "10\n",
      "Dins la funció: 5\n",
      "però des de fora 10\n"
     ]
    }
   ],
   "source": [
    "#@title Solució\n",
    "\n",
    "my_var = 10\n",
    "\n",
    "def my_function():\n",
    "    my_var = 5\n",
    "    print(\"Dins la funció:\", my_var)\n",
    "\n",
    "\n",
    "print(my_var)\n",
    "my_function()\n",
    "print(\"però des de fora\", my_var)"
   ]
  },
  {
   "cell_type": "markdown",
   "metadata": {
    "id": "LlNWMxTtFU7b"
   },
   "source": [
    "**7**. Defineix una variable global i una funció que rep un argument amb el mateix nom. Observa quina variable es fa servir dins de la funció."
   ]
  },
  {
   "cell_type": "code",
   "execution_count": 11,
   "metadata": {
    "cellView": "form",
    "colab": {
     "base_uri": "https://localhost:8080/"
    },
    "executionInfo": {
     "elapsed": 268,
     "status": "ok",
     "timestamp": 1689870097349,
     "user": {
      "displayName": "Mireia Ribera",
      "userId": "13870616405792739474"
     },
     "user_tz": -120
    },
    "id": "qJP3EXqxC4a6",
    "outputId": "7163ea50-cb9c-449e-a9c7-5d3174fe49c1"
   },
   "outputs": [
    {
     "name": "stdout",
     "output_type": "stream",
     "text": [
      "Dins la funció: 5\n",
      "Fora de la funció: 10\n"
     ]
    }
   ],
   "source": [
    "#@title Solució\n",
    "\n",
    "global_var = 10\n",
    "\n",
    "def my_function(global_var):\n",
    "    print(\"Dins la funció:\", global_var)\n",
    "\n",
    "my_function(5)\n",
    "print(\"Fora de la funció:\", global_var)"
   ]
  },
  {
   "cell_type": "markdown",
   "metadata": {
    "id": "2L7HH9yOBMnj"
   },
   "source": [
    "**8**. Crea una funció que afegirà un element a una llista global."
   ]
  },
  {
   "cell_type": "code",
   "execution_count": 12,
   "metadata": {
    "cellView": "form",
    "colab": {
     "base_uri": "https://localhost:8080/"
    },
    "executionInfo": {
     "elapsed": 242,
     "status": "ok",
     "timestamp": 1689870162032,
     "user": {
      "displayName": "Mireia Ribera",
      "userId": "13870616405792739474"
     },
     "user_tz": -120
    },
    "id": "LQgAQpspBQpE",
    "outputId": "816d723c-ad89-48db-8cc4-fe951e1c19c8"
   },
   "outputs": [
    {
     "name": "stdout",
     "output_type": "stream",
     "text": [
      "[1, 2, 3, 4]\n"
     ]
    }
   ],
   "source": [
    "#@title Solució\n",
    "\n",
    "global_list = [1, 2, 3]\n",
    "\n",
    "def add_to_list(item):\n",
    "    global global_list\n",
    "    global_list.append(item)\n",
    "\n",
    "add_to_list(4)\n",
    "print(global_list)"
   ]
  },
  {
   "cell_type": "markdown",
   "metadata": {
    "id": "4CiVCce_Ch2j"
   },
   "source": [
    "**9**. Defineix una llista global i una funció que crea una llista local amb el mateix nom. Comprova quina llista s'utilitza dins de la funció."
   ]
  },
  {
   "cell_type": "code",
   "execution_count": 13,
   "metadata": {
    "cellView": "form",
    "colab": {
     "base_uri": "https://localhost:8080/"
    },
    "executionInfo": {
     "elapsed": 270,
     "status": "ok",
     "timestamp": 1689870200465,
     "user": {
      "displayName": "Mireia Ribera",
      "userId": "13870616405792739474"
     },
     "user_tz": -120
    },
    "id": "2M1eT_P_Cn58",
    "outputId": "774d928b-6b23-49b1-c44a-d6b97e8ed9ac"
   },
   "outputs": [
    {
     "name": "stdout",
     "output_type": "stream",
     "text": [
      "Dins la funció: [4, 5, 6]\n",
      "Fora de la funció: [1, 2, 3]\n"
     ]
    }
   ],
   "source": [
    "#@title solució\n",
    "global_list = [1, 2, 3]\n",
    "\n",
    "def my_function():\n",
    "    global_list = [4, 5, 6]\n",
    "    print(\"Dins la funció:\", global_list)\n",
    "\n",
    "my_function()\n",
    "print(\"Fora de la funció:\", global_list)"
   ]
  },
  {
   "cell_type": "markdown",
   "metadata": {
    "id": "j2fPx-yfDGXE"
   },
   "source": [
    "**10**. Intenta modificar una variable global des de dins d'una funció sense declarar-la com a global."
   ]
  },
  {
   "cell_type": "code",
   "execution_count": 15,
   "metadata": {
    "cellView": "form",
    "colab": {
     "base_uri": "https://localhost:8080/"
    },
    "executionInfo": {
     "elapsed": 237,
     "status": "ok",
     "timestamp": 1689870221175,
     "user": {
      "displayName": "Mireia Ribera",
      "userId": "13870616405792739474"
     },
     "user_tz": -120
    },
    "id": "SQpZg74CDI5X",
    "outputId": "9ae2febe-1999-4854-9a0f-b3596b530bf2"
   },
   "outputs": [
    {
     "ename": "UnboundLocalError",
     "evalue": "local variable 'global_var' referenced before assignment",
     "output_type": "error",
     "traceback": [
      "\u001b[1;31m---------------------------------------------------------------------------\u001b[0m",
      "\u001b[1;31mUnboundLocalError\u001b[0m                         Traceback (most recent call last)",
      "Cell \u001b[1;32mIn[15], line 7\u001b[0m\n\u001b[0;32m      4\u001b[0m \u001b[38;5;28;01mdef\u001b[39;00m \u001b[38;5;21mmy_function\u001b[39m():\n\u001b[0;32m      5\u001b[0m     global_var \u001b[38;5;241m+\u001b[39m\u001b[38;5;241m=\u001b[39m \u001b[38;5;241m5\u001b[39m  \u001b[38;5;66;03m# Aquesta línia provocarà un error, ja que no s'ha declarat global_var com a global\u001b[39;00m\n\u001b[1;32m----> 7\u001b[0m \u001b[43mmy_function\u001b[49m\u001b[43m(\u001b[49m\u001b[43m)\u001b[49m\n\u001b[0;32m      8\u001b[0m \u001b[38;5;28mprint\u001b[39m(global_var)\n",
      "Cell \u001b[1;32mIn[15], line 5\u001b[0m, in \u001b[0;36mmy_function\u001b[1;34m()\u001b[0m\n\u001b[0;32m      4\u001b[0m \u001b[38;5;28;01mdef\u001b[39;00m \u001b[38;5;21mmy_function\u001b[39m():\n\u001b[1;32m----> 5\u001b[0m     global_var \u001b[38;5;241m+\u001b[39m\u001b[38;5;241m=\u001b[39m \u001b[38;5;241m5\u001b[39m\n",
      "\u001b[1;31mUnboundLocalError\u001b[0m: local variable 'global_var' referenced before assignment"
     ]
    }
   ],
   "source": [
    "#@title Solució\n",
    "global_var = 10\n",
    "\n",
    "def my_function():\n",
    "    global_var += 5  # Aquesta línia provocarà un error, ja que no s'ha declarat global_var com a global\n",
    "\n",
    "my_function()\n",
    "print(global_var)"
   ]
  },
  {
   "cell_type": "markdown",
   "metadata": {
    "id": "GXr_7hJoDX28"
   },
   "source": [
    "**11**. Defineix una funció que utilitzi una variable local dins d'un bucle."
   ]
  },
  {
   "cell_type": "code",
   "execution_count": 16,
   "metadata": {
    "cellView": "form",
    "colab": {
     "base_uri": "https://localhost:8080/"
    },
    "executionInfo": {
     "elapsed": 267,
     "status": "ok",
     "timestamp": 1689870243672,
     "user": {
      "displayName": "Mireia Ribera",
      "userId": "13870616405792739474"
     },
     "user_tz": -120
    },
    "id": "dMP1_1qPDemb",
    "outputId": "c3229ef9-8dfc-4c48-b665-78c58cbe285a"
   },
   "outputs": [
    {
     "name": "stdout",
     "output_type": "stream",
     "text": [
      "Dins el bucle: 0\n",
      "Dins el bucle: 2\n",
      "Dins el bucle: 4\n",
      "Dins el bucle: 6\n",
      "Dins el bucle: 8\n"
     ]
    }
   ],
   "source": [
    "#@title Solució\n",
    "\n",
    "def loop_function():\n",
    "    for i in range(5):\n",
    "        result = i * 2\n",
    "        print(\"Dins el bucle:\", result)\n",
    "\n",
    "loop_function()"
   ]
  },
  {
   "cell_type": "markdown",
   "metadata": {
    "id": "HvvTMag7Ds5U"
   },
   "source": [
    "**12**. ADefineix una funció que utilitzi una variable global dins d'un bucle."
   ]
  },
  {
   "cell_type": "code",
   "execution_count": 17,
   "metadata": {
    "cellView": "form",
    "colab": {
     "base_uri": "https://localhost:8080/"
    },
    "executionInfo": {
     "elapsed": 250,
     "status": "ok",
     "timestamp": 1689870269882,
     "user": {
      "displayName": "Mireia Ribera",
      "userId": "13870616405792739474"
     },
     "user_tz": -120
    },
    "id": "3o7cDnu-Dz_M",
    "outputId": "891b5b3d-c913-42af-f18f-f9ce802125b1"
   },
   "outputs": [
    {
     "name": "stdout",
     "output_type": "stream",
     "text": [
      "Dins el bucle: 0\n",
      "Dins el bucle: 1\n",
      "Dins el bucle: 3\n",
      "Dins el bucle: 6\n",
      "Dins el bucle: 10\n"
     ]
    }
   ],
   "source": [
    "#@title Solució\n",
    "global_var = 0\n",
    "\n",
    "def loop_function():\n",
    "    for i in range(5):\n",
    "        global global_var\n",
    "        global_var += i\n",
    "        print(\"Dins el bucle:\", global_var)\n",
    "\n",
    "loop_function()"
   ]
  },
  {
   "cell_type": "markdown",
   "metadata": {
    "id": "1TKkvoSoIR9E"
   },
   "source": [
    "Aquesta llista de problemes i solucions ha estat preparada amb l'ajut de ChatGPT 3.5, versió 24 de maig de 2023, i revisada i adaptada per Mireia Ribera."
   ]
  }
 ],
 "metadata": {
  "colab": {
   "authorship_tag": "ABX9TyNIzBAnOPSaNas5tPmQafGh",
   "provenance": []
  },
  "kernelspec": {
   "display_name": "Python 3 (ipykernel)",
   "language": "python",
   "name": "python3"
  },
  "language_info": {
   "codemirror_mode": {
    "name": "ipython",
    "version": 3
   },
   "file_extension": ".py",
   "mimetype": "text/x-python",
   "name": "python",
   "nbconvert_exporter": "python",
   "pygments_lexer": "ipython3",
   "version": "3.9.7"
  }
 },
 "nbformat": 4,
 "nbformat_minor": 1
}
