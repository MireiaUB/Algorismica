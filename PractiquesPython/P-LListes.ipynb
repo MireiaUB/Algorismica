{
 "cells": [
  {
   "cell_type": "markdown",
   "metadata": {
    "id": "dwAKykq7-wwD"
   },
   "source": [
    "# Problemes amb llistes"
   ]
  },
  {
   "cell_type": "markdown",
   "metadata": {
    "id": "MvCuNBq0_Zyb"
   },
   "source": [
    "**1**. Escriu una funció que agafi dues llistes d'enters i retorni una nova llista que contingui la suma dels elements corresponents de les dues llistes."
   ]
  },
  {
   "cell_type": "code",
   "execution_count": 1,
   "metadata": {
    "cellView": "form",
    "colab": {
     "base_uri": "https://localhost:8080/"
    },
    "executionInfo": {
     "elapsed": 250,
     "status": "ok",
     "timestamp": 1689870043252,
     "user": {
      "displayName": "Mireia Ribera",
      "userId": "13870616405792739474"
     },
     "user_tz": -120
    },
    "id": "QTPMagKU_fCT",
    "outputId": "5b5eb5d1-3578-4820-d7df-cd28d6573621"
   },
   "outputs": [],
   "source": [
    "#@title Solució\n",
    "def suma_llistes(llista1, llista2):\n",
    "    suma = []\n",
    "    for i in range(len(llista1)):\n",
    "        suma.append(llista1[i] + llista2[i])\n",
    "    return suma"
   ]
  },
  {
   "cell_type": "code",
   "execution_count": 2,
   "metadata": {},
   "outputs": [
    {
     "name": "stdout",
     "output_type": "stream",
     "text": [
      "[5, 7, 9]\n"
     ]
    }
   ],
   "source": [
    "# Exemple d'ús\n",
    "llista1 = [1, 2, 3]\n",
    "llista2 = [4, 5, 6]\n",
    "resultat = suma_llistes(llista1, llista2)\n",
    "print(resultat)  # Sortida: [5, 7, 9]"
   ]
  },
  {
   "cell_type": "markdown",
   "metadata": {
    "id": "ZXxxg5vy_4op"
   },
   "source": [
    "**2**. Escriu una funció que prengui una llista d'elements i retorni una nova llista amb els elements en ordre invers."
   ]
  },
  {
   "cell_type": "code",
   "execution_count": 3,
   "metadata": {
    "cellView": "form",
    "colab": {
     "base_uri": "https://localhost:8080/"
    },
    "executionInfo": {
     "elapsed": 236,
     "status": "ok",
     "timestamp": 1689870046201,
     "user": {
      "displayName": "Mireia Ribera",
      "userId": "13870616405792739474"
     },
     "user_tz": -120
    },
    "id": "MS8GI0BH_--D",
    "outputId": "b25677bb-51db-4bdd-848f-20625661a7b6"
   },
   "outputs": [],
   "source": [
    "#@title Solució\n",
    "\n",
    "def llista_invertida(llista):\n",
    "    llista_inversa = llista[::-1]\n",
    "    return llista_inversa"
   ]
  },
  {
   "cell_type": "code",
   "execution_count": 4,
   "metadata": {},
   "outputs": [
    {
     "name": "stdout",
     "output_type": "stream",
     "text": [
      "[5, 4, 3, 2, 1]\n"
     ]
    }
   ],
   "source": [
    "# Exemple d'ús\n",
    "llista = [1, 2, 3, 4, 5]\n",
    "resultat = llista_invertida(llista)\n",
    "print(resultat)  # Sortida: [5, 4, 3, 2, 1]"
   ]
  },
  {
   "cell_type": "markdown",
   "metadata": {
    "id": "YaKMvi1IADhi"
   },
   "source": [
    "**3**. Escriu una funció que compti quantes vegades apareix un element donat dins una llista."
   ]
  },
  {
   "cell_type": "code",
   "execution_count": 5,
   "metadata": {
    "cellView": "form",
    "colab": {
     "base_uri": "https://localhost:8080/"
    },
    "executionInfo": {
     "elapsed": 260,
     "status": "ok",
     "timestamp": 1689870049784,
     "user": {
      "displayName": "Mireia Ribera",
      "userId": "13870616405792739474"
     },
     "user_tz": -120
    },
    "id": "wEQ9VNc0AIol",
    "outputId": "8b341632-06b2-4732-8818-7ddb61544202"
   },
   "outputs": [],
   "source": [
    "#@title Solució\n",
    "def comptar_ocurrencies(llista, element):\n",
    "    comptador = llista.count(element)\n",
    "    return comptador"
   ]
  },
  {
   "cell_type": "code",
   "execution_count": 6,
   "metadata": {},
   "outputs": [
    {
     "name": "stdout",
     "output_type": "stream",
     "text": [
      "4\n"
     ]
    }
   ],
   "source": [
    "# Exemple d'ús\n",
    "llista = [1, 2, 2, 3, 2, 4, 2]\n",
    "element = 2\n",
    "resultat = comptar_ocurrencies(llista, element)\n",
    "print(resultat)  # Sortida: 4"
   ]
  },
  {
   "cell_type": "markdown",
   "metadata": {
    "id": "HYj83_rrAaxL"
   },
   "source": [
    "**4**. Escriu una funció que prengui una llista i eliminin tots els elements repetits, mantenint només la primera aparició de cada element."
   ]
  },
  {
   "cell_type": "code",
   "execution_count": 8,
   "metadata": {
    "cellView": "form",
    "colab": {
     "base_uri": "https://localhost:8080/"
    },
    "executionInfo": {
     "elapsed": 252,
     "status": "ok",
     "timestamp": 1689870052939,
     "user": {
      "displayName": "Mireia Ribera",
      "userId": "13870616405792739474"
     },
     "user_tz": -120
    },
    "id": "hyNPhG6IAj3i",
    "outputId": "d6271853-e6dc-4fb4-e72c-5b48bad459da"
   },
   "outputs": [],
   "source": [
    "#@title Solució\n",
    "\n",
    "def eliminar_repetits(llista):\n",
    "    llista_sense_repetits = list(set(llista))\n",
    "    return llista_sense_repetits\n",
    "\n",
    "# Els conjunts son una col.lecció molt semblant a la llista \n",
    "# però sense repeticions"
   ]
  },
  {
   "cell_type": "code",
   "execution_count": 9,
   "metadata": {},
   "outputs": [
    {
     "name": "stdout",
     "output_type": "stream",
     "text": [
      "[1, 2, 3, 4]\n"
     ]
    }
   ],
   "source": [
    "# Exemple d'ús\n",
    "llista = [1, 2, 2, 3, 2, 4, 2]\n",
    "resultat = eliminar_repetits(llista)\n",
    "print(resultat)  # Sortida: [1, 2, 3, 4]"
   ]
  },
  {
   "cell_type": "markdown",
   "metadata": {
    "id": "0RvqBI98Bjdz"
   },
   "source": [
    "**5**. Escriu una funció que comprovi si una llista d'enters està ordenada de menor a major."
   ]
  },
  {
   "cell_type": "code",
   "execution_count": 10,
   "metadata": {
    "cellView": "form",
    "colab": {
     "base_uri": "https://localhost:8080/"
    },
    "executionInfo": {
     "elapsed": 2505,
     "status": "ok",
     "timestamp": 1689870078292,
     "user": {
      "displayName": "Mireia Ribera",
      "userId": "13870616405792739474"
     },
     "user_tz": -120
    },
    "id": "gV40Ue0LBn80",
    "outputId": "75877524-5846-48dd-d403-7dc3dcac2bf8"
   },
   "outputs": [],
   "source": [
    "#@title Solució\n",
    "\n",
    "def llista_ordenada(llista):\n",
    "    return llista == sorted(llista)"
   ]
  },
  {
   "cell_type": "code",
   "execution_count": 11,
   "metadata": {},
   "outputs": [
    {
     "name": "stdout",
     "output_type": "stream",
     "text": [
      "True\n",
      "False\n"
     ]
    }
   ],
   "source": [
    "# Exemple d'ús\n",
    "llista1 = [1, 2, 3, 4, 5]\n",
    "llista2 = [5, 4, 3, 2, 1]\n",
    "print(llista_ordenada(llista1))  # Sortida: True\n",
    "print(llista_ordenada(llista2))  # Sortida: False"
   ]
  },
  {
   "cell_type": "markdown",
   "metadata": {
    "id": "U6CpZHsRCG4k"
   },
   "source": [
    "**6**. Escriu una funció que prengui dues llistes i retorni una nova llista amb els elements únics de les dues llistes, sense repetir-los."
   ]
  },
  {
   "cell_type": "code",
   "execution_count": 12,
   "metadata": {
    "cellView": "form",
    "colab": {
     "base_uri": "https://localhost:8080/"
    },
    "executionInfo": {
     "elapsed": 3925,
     "status": "ok",
     "timestamp": 1689870091319,
     "user": {
      "displayName": "Mireia Ribera",
      "userId": "13870616405792739474"
     },
     "user_tz": -120
    },
    "id": "zj161Wo1CJ9y",
    "outputId": "93b9ce19-19a5-4466-e0c5-5e328c55e833"
   },
   "outputs": [],
   "source": [
    "#@title Solució\n",
    "\n",
    "def elements_unics(llista1, llista2):\n",
    "    unics = list(set(llista1 + llista2))\n",
    "    return unics"
   ]
  },
  {
   "cell_type": "code",
   "execution_count": 13,
   "metadata": {},
   "outputs": [
    {
     "name": "stdout",
     "output_type": "stream",
     "text": [
      "[1, 2, 3, 4, 5, 6]\n"
     ]
    }
   ],
   "source": [
    "# Exemple d'ús\n",
    "llista1 = [1, 2, 3, 4]\n",
    "llista2 = [3, 4, 5, 6]\n",
    "resultat = elements_unics(llista1, llista2)\n",
    "print(resultat)  # Sortida: [1, 2, 3, 4, 5, 6]"
   ]
  },
  {
   "cell_type": "markdown",
   "metadata": {
    "id": "LlNWMxTtFU7b"
   },
   "source": [
    "**7**. Escriu una funció que elimini totes les ocurrencies d'un element donat dins una llista."
   ]
  },
  {
   "cell_type": "code",
   "execution_count": 14,
   "metadata": {
    "cellView": "form",
    "colab": {
     "base_uri": "https://localhost:8080/"
    },
    "executionInfo": {
     "elapsed": 268,
     "status": "ok",
     "timestamp": 1689870097349,
     "user": {
      "displayName": "Mireia Ribera",
      "userId": "13870616405792739474"
     },
     "user_tz": -120
    },
    "id": "qJP3EXqxC4a6",
    "outputId": "7163ea50-cb9c-449e-a9c7-5d3174fe49c1"
   },
   "outputs": [],
   "source": [
    "#@title Solució\n",
    "\n",
    "def eliminar_element(llista, element):\n",
    "    while element in llista:\n",
    "        llista.remove(element)"
   ]
  },
  {
   "cell_type": "code",
   "execution_count": 15,
   "metadata": {},
   "outputs": [
    {
     "name": "stdout",
     "output_type": "stream",
     "text": [
      "[1, 3, 4]\n"
     ]
    }
   ],
   "source": [
    "# Exemple d'ús\n",
    "llista = [1, 2, 2, 3, 2, 4, 2]\n",
    "element = 2\n",
    "eliminar_element(llista, element)\n",
    "print(llista)  # Sortida: [1, 3, 4]"
   ]
  },
  {
   "cell_type": "markdown",
   "metadata": {
    "id": "2L7HH9yOBMnj"
   },
   "source": [
    "**8**. Escriu una funció que comprovi si dues llistes tenen els mateixos elements en el mateix ordre."
   ]
  },
  {
   "cell_type": "code",
   "execution_count": 16,
   "metadata": {
    "cellView": "form",
    "colab": {
     "base_uri": "https://localhost:8080/"
    },
    "executionInfo": {
     "elapsed": 242,
     "status": "ok",
     "timestamp": 1689870162032,
     "user": {
      "displayName": "Mireia Ribera",
      "userId": "13870616405792739474"
     },
     "user_tz": -120
    },
    "id": "LQgAQpspBQpE",
    "outputId": "816d723c-ad89-48db-8cc4-fe951e1c19c8"
   },
   "outputs": [],
   "source": [
    "#@title Solució\n",
    "\n",
    "def llistes_iguals(llista1, llista2):\n",
    "    return llista1 == llista2"
   ]
  },
  {
   "cell_type": "code",
   "execution_count": 17,
   "metadata": {},
   "outputs": [
    {
     "name": "stdout",
     "output_type": "stream",
     "text": [
      "True\n",
      "False\n"
     ]
    }
   ],
   "source": [
    "# Exemple d'ús\n",
    "llista1 = [1, 2, 3]\n",
    "llista2 = [1, 2, 3]\n",
    "llista3 = [3, 2, 1]\n",
    "print(llistes_iguals(llista1, llista2))  # Sortida: True\n",
    "print(llistes_iguals(llista1, llista3))  # Sortida: False"
   ]
  },
  {
   "cell_type": "markdown",
   "metadata": {
    "id": "4CiVCce_Ch2j"
   },
   "source": [
    "**9**. Escriu una funció que comprovi si el primer i l'últim element d'una llista són iguals."
   ]
  },
  {
   "cell_type": "code",
   "execution_count": 18,
   "metadata": {
    "cellView": "form",
    "colab": {
     "base_uri": "https://localhost:8080/"
    },
    "executionInfo": {
     "elapsed": 270,
     "status": "ok",
     "timestamp": 1689870200465,
     "user": {
      "displayName": "Mireia Ribera",
      "userId": "13870616405792739474"
     },
     "user_tz": -120
    },
    "id": "2M1eT_P_Cn58",
    "outputId": "774d928b-6b23-49b1-c44a-d6b97e8ed9ac"
   },
   "outputs": [],
   "source": [
    "#@title solució\n",
    "def extrems_iguals(llista):\n",
    "    return llista[0] == llista[-1]"
   ]
  },
  {
   "cell_type": "code",
   "execution_count": 19,
   "metadata": {},
   "outputs": [
    {
     "name": "stdout",
     "output_type": "stream",
     "text": [
      "True\n",
      "False\n"
     ]
    }
   ],
   "source": [
    "# Exemple d'ús\n",
    "llista1 = [1, 2, 3, 1]\n",
    "llista2 = [4, 5, 6, 7]\n",
    "print(extrems_iguals(llista1))  # Sortida: True\n",
    "print(extrems_iguals(llista2))  # Sortida: False"
   ]
  },
  {
   "cell_type": "markdown",
   "metadata": {
    "id": "j2fPx-yfDGXE"
   },
   "source": [
    "**10**. Escriu una funció que prengui una llista d'enters i retorni dues llistes separades, una amb els nombres parells i l'altra amb els nombres senars."
   ]
  },
  {
   "cell_type": "code",
   "execution_count": 21,
   "metadata": {
    "cellView": "form",
    "colab": {
     "base_uri": "https://localhost:8080/"
    },
    "executionInfo": {
     "elapsed": 237,
     "status": "ok",
     "timestamp": 1689870221175,
     "user": {
      "displayName": "Mireia Ribera",
      "userId": "13870616405792739474"
     },
     "user_tz": -120
    },
    "id": "SQpZg74CDI5X",
    "outputId": "9ae2febe-1999-4854-9a0f-b3596b530bf2"
   },
   "outputs": [],
   "source": [
    "#@title Solució\n",
    "def separar_parells_senars(llista):\n",
    "    parells = [num for num in llista if num % 2 == 0]\n",
    "    senars = [num for num in llista if num % 2 != 0]\n",
    "    return parells, senars"
   ]
  },
  {
   "cell_type": "code",
   "execution_count": 22,
   "metadata": {},
   "outputs": [
    {
     "name": "stdout",
     "output_type": "stream",
     "text": [
      "[2, 4, 6]\n",
      "[1, 3, 5]\n"
     ]
    }
   ],
   "source": [
    "# Exemple d'ús\n",
    "llista = [1, 2, 3, 4, 5, 6]\n",
    "parells, senars = separar_parells_senars(llista)\n",
    "print(parells)  # Sortida: [2, 4, 6]\n",
    "print(senars)   # Sortida: [1, 3, 5]"
   ]
  },
  {
   "cell_type": "markdown",
   "metadata": {
    "id": "GXr_7hJoDX28"
   },
   "source": [
    "**11**. Escriu una funció que prengui dues llistes i les concateni en una sola llista."
   ]
  },
  {
   "cell_type": "code",
   "execution_count": 25,
   "metadata": {
    "cellView": "form",
    "colab": {
     "base_uri": "https://localhost:8080/"
    },
    "executionInfo": {
     "elapsed": 267,
     "status": "ok",
     "timestamp": 1689870243672,
     "user": {
      "displayName": "Mireia Ribera",
      "userId": "13870616405792739474"
     },
     "user_tz": -120
    },
    "id": "dMP1_1qPDemb",
    "outputId": "c3229ef9-8dfc-4c48-b665-78c58cbe285a"
   },
   "outputs": [],
   "source": [
    "#@title Solució\n",
    "\n",
    "def concatenar_llistes(llista1, llista2):\n",
    "    concatenada = llista1 + llista2\n",
    "    return concatenada"
   ]
  },
  {
   "cell_type": "code",
   "execution_count": 26,
   "metadata": {},
   "outputs": [
    {
     "name": "stdout",
     "output_type": "stream",
     "text": [
      "[1, 2, 3, 4, 5, 6]\n"
     ]
    }
   ],
   "source": [
    "# Exemple d'ús\n",
    "llista1 = [1, 2, 3]\n",
    "llista2 = [4, 5, 6]\n",
    "resultat = concatenar_llistes(llista1, llista2)\n",
    "print(resultat)  # Sortida: [1, 2, 3, 4, 5, 6]"
   ]
  },
  {
   "cell_type": "markdown",
   "metadata": {
    "id": "HvvTMag7Ds5U"
   },
   "source": [
    "**12**. Escriu una funció que prengui una llista i retorni una nova llista amb els elements duplicats."
   ]
  },
  {
   "cell_type": "code",
   "execution_count": 27,
   "metadata": {
    "cellView": "form",
    "colab": {
     "base_uri": "https://localhost:8080/"
    },
    "executionInfo": {
     "elapsed": 250,
     "status": "ok",
     "timestamp": 1689870269882,
     "user": {
      "displayName": "Mireia Ribera",
      "userId": "13870616405792739474"
     },
     "user_tz": -120
    },
    "id": "3o7cDnu-Dz_M",
    "outputId": "891b5b3d-c913-42af-f18f-f9ce802125b1"
   },
   "outputs": [],
   "source": [
    "#@title Solució\n",
    "def duplicar_elements(llista):\n",
    "    duplicats = llista * 2\n",
    "    return duplicats"
   ]
  },
  {
   "cell_type": "code",
   "execution_count": 28,
   "metadata": {},
   "outputs": [
    {
     "name": "stdout",
     "output_type": "stream",
     "text": [
      "[1, 2, 3, 1, 2, 3]\n"
     ]
    }
   ],
   "source": [
    "llista = [1, 2, 3]\n",
    "resultat = duplicar_elements(llista)\n",
    "print(resultat)  # Sortida: [1, 2, 3, 1, 2, 3]"
   ]
  },
  {
   "cell_type": "markdown",
   "metadata": {
    "id": "7L4XnSfaF7Un"
   },
   "source": [
    "**13**. Escriu una funció que prengui una llista i retorni una llista de llistes on cada subllista contingui dos elements consecutius de la llista original."
   ]
  },
  {
   "cell_type": "code",
   "execution_count": 32,
   "metadata": {
    "cellView": "form",
    "colab": {
     "base_uri": "https://localhost:8080/"
    },
    "executionInfo": {
     "elapsed": 255,
     "status": "ok",
     "timestamp": 1689870293972,
     "user": {
      "displayName": "Mireia Ribera",
      "userId": "13870616405792739474"
     },
     "user_tz": -120
    },
    "id": "9hcoAkmtGDY_",
    "outputId": "1aed8b55-e8b8-4046-d0cd-eb90664d5a71"
   },
   "outputs": [],
   "source": [
    "#@title Solució\n",
    "\n",
    "def subllistes_consecutives(llista):\n",
    "    subllistes = [llista[i:i+2] for i in range(0,len(llista) - 1, 2)]\n",
    "    return subllistes\n",
    "\n",
    "# Pots desenvolupar aquesta list comprehension en el for corresponent?"
   ]
  },
  {
   "cell_type": "code",
   "execution_count": 33,
   "metadata": {},
   "outputs": [
    {
     "name": "stdout",
     "output_type": "stream",
     "text": [
      "[[1, 2], [3, 4], [5, 6]]\n"
     ]
    }
   ],
   "source": [
    "# Exemple d'ús\n",
    "llista = [1, 2, 3, 4, 5, 6, 7]\n",
    "resultat = subllistes_consecutives(llista)\n",
    "print(resultat)  # Sortida: [[1, 2], [3, 4], [5, 6]]"
   ]
  },
  {
   "cell_type": "markdown",
   "metadata": {
    "id": "7L4XnSfaF7Un"
   },
   "source": [
    "**14**. Escriu una funció que trobi l'índex d'un element donat dins una llista. Si l'element no hi és, retorna -1."
   ]
  },
  {
   "cell_type": "code",
   "execution_count": 34,
   "metadata": {
    "cellView": "form",
    "colab": {
     "base_uri": "https://localhost:8080/"
    },
    "executionInfo": {
     "elapsed": 255,
     "status": "ok",
     "timestamp": 1689870293972,
     "user": {
      "displayName": "Mireia Ribera",
      "userId": "13870616405792739474"
     },
     "user_tz": -120
    },
    "id": "9hcoAkmtGDY_",
    "outputId": "1aed8b55-e8b8-4046-d0cd-eb90664d5a71"
   },
   "outputs": [],
   "source": [
    "#@title Solució\n",
    "\n",
    "def trobar_index(llista, element):\n",
    "    if element in llista:\n",
    "        return llista.index(element)\n",
    "    else:\n",
    "        return -1\n",
    "\n",
    "# fixeu-vos que abans de fer index ens assegurem que hi es, perquè altrament\n",
    "# donaria error"
   ]
  },
  {
   "cell_type": "code",
   "execution_count": 36,
   "metadata": {},
   "outputs": [
    {
     "name": "stdout",
     "output_type": "stream",
     "text": [
      "2\n"
     ]
    }
   ],
   "source": [
    "# Exemple d'ús\n",
    "llista = [1, 2, 3, 4, 5]\n",
    "element = 3\n",
    "resultat = trobar_index(llista, element)\n",
    "print(resultat)  # Sortida: 2"
   ]
  },
  {
   "cell_type": "code",
   "execution_count": 37,
   "metadata": {},
   "outputs": [
    {
     "ename": "ValueError",
     "evalue": "9 is not in list",
     "output_type": "error",
     "traceback": [
      "\u001b[1;31m---------------------------------------------------------------------------\u001b[0m",
      "\u001b[1;31mValueError\u001b[0m                                Traceback (most recent call last)",
      "Cell \u001b[1;32mIn[37], line 1\u001b[0m\n\u001b[1;32m----> 1\u001b[0m \u001b[43mllista\u001b[49m\u001b[38;5;241;43m.\u001b[39;49m\u001b[43mindex\u001b[49m\u001b[43m(\u001b[49m\u001b[38;5;241;43m9\u001b[39;49m\u001b[43m)\u001b[49m\n",
      "\u001b[1;31mValueError\u001b[0m: 9 is not in list"
     ]
    }
   ],
   "source": [
    "llista.index(9)"
   ]
  },
  {
   "cell_type": "markdown",
   "metadata": {
    "id": "7L4XnSfaF7Un"
   },
   "source": [
    "**15**. Escriu una funció que prengui una llista i un enter n, i retorni una llista de llistes on cada subllista tingui com a màxim n elements."
   ]
  },
  {
   "cell_type": "code",
   "execution_count": 38,
   "metadata": {
    "cellView": "form",
    "colab": {
     "base_uri": "https://localhost:8080/"
    },
    "executionInfo": {
     "elapsed": 255,
     "status": "ok",
     "timestamp": 1689870293972,
     "user": {
      "displayName": "Mireia Ribera",
      "userId": "13870616405792739474"
     },
     "user_tz": -120
    },
    "id": "9hcoAkmtGDY_",
    "outputId": "1aed8b55-e8b8-4046-d0cd-eb90664d5a71"
   },
   "outputs": [],
   "source": [
    "#@title Solució\n",
    "\n",
    "def dividir_llista(llista, n):\n",
    "    llistes_dividides = [llista[i:i+n] for i in range(0, len(llista), n)]\n",
    "    return llistes_dividides"
   ]
  },
  {
   "cell_type": "code",
   "execution_count": 39,
   "metadata": {},
   "outputs": [
    {
     "name": "stdout",
     "output_type": "stream",
     "text": [
      "[[1, 2, 3], [4, 5, 6], [7, 8, 9]]\n"
     ]
    }
   ],
   "source": [
    "# Exemple d'ús\n",
    "llista = [1, 2, 3, 4, 5, 6, 7, 8, 9]\n",
    "resultat = dividir_llista(llista, 3)\n",
    "print(resultat)  # Sortida: [[1, 2, 3], [4, 5, 6], [7, 8, 9]]"
   ]
  },
  {
   "cell_type": "markdown",
   "metadata": {
    "id": "7L4XnSfaF7Un"
   },
   "source": [
    "**16**. Escriu una funció que sumi tots els elements d'una llista de nombres."
   ]
  },
  {
   "cell_type": "code",
   "execution_count": 40,
   "metadata": {
    "cellView": "form",
    "colab": {
     "base_uri": "https://localhost:8080/"
    },
    "executionInfo": {
     "elapsed": 255,
     "status": "ok",
     "timestamp": 1689870293972,
     "user": {
      "displayName": "Mireia Ribera",
      "userId": "13870616405792739474"
     },
     "user_tz": -120
    },
    "id": "9hcoAkmtGDY_",
    "outputId": "1aed8b55-e8b8-4046-d0cd-eb90664d5a71"
   },
   "outputs": [],
   "source": [
    "#@title Solució\n",
    "\n",
    "def sumar_elements(llista):\n",
    "    suma = sum(llista)\n",
    "    return suma\n",
    "\n",
    "# Ho podries fer amb una iteració?"
   ]
  },
  {
   "cell_type": "code",
   "execution_count": 41,
   "metadata": {},
   "outputs": [
    {
     "name": "stdout",
     "output_type": "stream",
     "text": [
      "15\n"
     ]
    }
   ],
   "source": [
    "# Exemple d'ús\n",
    "llista = [1, 2, 3, 4, 5]\n",
    "resultat = sumar_elements(llista)\n",
    "print(resultat)  # Sortida: 15"
   ]
  },
  {
   "cell_type": "markdown",
   "metadata": {
    "id": "7L4XnSfaF7Un"
   },
   "source": [
    "**17**. Escriu una funció que retorni una nova llista que contingui els mateixos elements de la llista original, però en ordre invers."
   ]
  },
  {
   "cell_type": "code",
   "execution_count": 42,
   "metadata": {
    "cellView": "form",
    "colab": {
     "base_uri": "https://localhost:8080/"
    },
    "executionInfo": {
     "elapsed": 255,
     "status": "ok",
     "timestamp": 1689870293972,
     "user": {
      "displayName": "Mireia Ribera",
      "userId": "13870616405792739474"
     },
     "user_tz": -120
    },
    "id": "9hcoAkmtGDY_",
    "outputId": "1aed8b55-e8b8-4046-d0cd-eb90664d5a71"
   },
   "outputs": [],
   "source": [
    "#@title Solució\n",
    "\n",
    "def llista_inversa(llista):\n",
    "    llista_inversa = list(reversed(llista))\n",
    "    return llista_inversa\n",
    "\n",
    "# Ho podries fer amb una iteració?"
   ]
  },
  {
   "cell_type": "code",
   "execution_count": 43,
   "metadata": {},
   "outputs": [
    {
     "name": "stdout",
     "output_type": "stream",
     "text": [
      "[5, 4, 3, 2, 1]\n"
     ]
    }
   ],
   "source": [
    "# Exemple d'ús\n",
    "llista = [1, 2, 3, 4, 5]\n",
    "resultat = llista_inversa(llista)\n",
    "print(resultat)  # Sortida: [5, 4, 3, 2, 1]"
   ]
  },
  {
   "cell_type": "markdown",
   "metadata": {
    "id": "7L4XnSfaF7Un"
   },
   "source": [
    "**18**. Escriu una funció que trobi l'element màxim i mínim d'una llista de nombres."
   ]
  },
  {
   "cell_type": "code",
   "execution_count": 44,
   "metadata": {
    "cellView": "form",
    "colab": {
     "base_uri": "https://localhost:8080/"
    },
    "executionInfo": {
     "elapsed": 255,
     "status": "ok",
     "timestamp": 1689870293972,
     "user": {
      "displayName": "Mireia Ribera",
      "userId": "13870616405792739474"
     },
     "user_tz": -120
    },
    "id": "9hcoAkmtGDY_",
    "outputId": "1aed8b55-e8b8-4046-d0cd-eb90664d5a71"
   },
   "outputs": [],
   "source": [
    "#@title Solució\n",
    "\n",
    "def max_min_elements(llista):\n",
    "    maxim = max(llista)\n",
    "    minim = min(llista)\n",
    "    return maxim, minim\n",
    "\n",
    "# Ho podries fer amb una iteració?"
   ]
  },
  {
   "cell_type": "code",
   "execution_count": 45,
   "metadata": {},
   "outputs": [
    {
     "name": "stdout",
     "output_type": "stream",
     "text": [
      "9\n",
      "1\n"
     ]
    }
   ],
   "source": [
    "# Exemple d'ús\n",
    "llista = [7, 2, 9, 4, 1]\n",
    "maxim, minim = max_min_elements(llista)\n",
    "print(maxim)  # Sortida: 9\n",
    "print(minim)  # Sortida: 1"
   ]
  },
  {
   "cell_type": "markdown",
   "metadata": {
    "id": "7L4XnSfaF7Un"
   },
   "source": [
    "**19**. Escriu una funció que retorni una nova llista que contingui els mateixos elements de la llista original, però en ordre descendent."
   ]
  },
  {
   "cell_type": "code",
   "execution_count": 46,
   "metadata": {
    "cellView": "form",
    "colab": {
     "base_uri": "https://localhost:8080/"
    },
    "executionInfo": {
     "elapsed": 255,
     "status": "ok",
     "timestamp": 1689870293972,
     "user": {
      "displayName": "Mireia Ribera",
      "userId": "13870616405792739474"
     },
     "user_tz": -120
    },
    "id": "9hcoAkmtGDY_",
    "outputId": "1aed8b55-e8b8-4046-d0cd-eb90664d5a71"
   },
   "outputs": [],
   "source": [
    "#@title Solució\n",
    "\n",
    "def llista_descendent(llista):\n",
    "    llista_descendent = sorted(llista, reverse=True)\n",
    "    return llista_descendent"
   ]
  },
  {
   "cell_type": "code",
   "execution_count": 47,
   "metadata": {},
   "outputs": [
    {
     "name": "stdout",
     "output_type": "stream",
     "text": [
      "[5, 4, 3, 2, 1]\n"
     ]
    }
   ],
   "source": [
    "# Exemple d'ús\n",
    "llista = [5, 1, 3, 2, 4]\n",
    "resultat = llista_descendent(llista)\n",
    "print(resultat)  # Sortida: [5, 4, 3, 2, 1]"
   ]
  },
  {
   "cell_type": "code",
   "execution_count": 49,
   "metadata": {},
   "outputs": [
    {
     "name": "stdout",
     "output_type": "stream",
     "text": [
      "None\n"
     ]
    }
   ],
   "source": [
    "# Fixa't però amb .sort\n",
    "print(llista.sort())"
   ]
  },
  {
   "cell_type": "code",
   "execution_count": 50,
   "metadata": {},
   "outputs": [
    {
     "name": "stdout",
     "output_type": "stream",
     "text": [
      "[1, 2, 3, 4, 5]\n"
     ]
    }
   ],
   "source": [
    "# sort no retorna res, només altera la llista\n",
    "print(llista)"
   ]
  },
  {
   "cell_type": "code",
   "execution_count": 51,
   "metadata": {},
   "outputs": [
    {
     "name": "stdout",
     "output_type": "stream",
     "text": [
      "[5, 4, 3, 2, 1]\n"
     ]
    }
   ],
   "source": [
    "llista.sort(reverse=True)\n",
    "print(llista)"
   ]
  },
  {
   "cell_type": "markdown",
   "metadata": {
    "id": "7L4XnSfaF7Un"
   },
   "source": [
    "**20**. Escriu una funció que trobi l'element més freqüent dins una llista."
   ]
  },
  {
   "cell_type": "code",
   "execution_count": 52,
   "metadata": {
    "cellView": "form",
    "colab": {
     "base_uri": "https://localhost:8080/"
    },
    "executionInfo": {
     "elapsed": 255,
     "status": "ok",
     "timestamp": 1689870293972,
     "user": {
      "displayName": "Mireia Ribera",
      "userId": "13870616405792739474"
     },
     "user_tz": -120
    },
    "id": "9hcoAkmtGDY_",
    "outputId": "1aed8b55-e8b8-4046-d0cd-eb90664d5a71"
   },
   "outputs": [],
   "source": [
    "#@title Solució\n",
    "\n",
    "def element_mes_frequent(llista):\n",
    "    element_mes_frequent = max(set(llista), key=llista.count)\n",
    "    return element_mes_frequent"
   ]
  },
  {
   "cell_type": "code",
   "execution_count": 53,
   "metadata": {},
   "outputs": [
    {
     "name": "stdout",
     "output_type": "stream",
     "text": [
      "2\n"
     ]
    }
   ],
   "source": [
    "# Exemple d'ús\n",
    "llista = [1, 2, 2, 3, 2, 4, 2]\n",
    "resultat = element_mes_frequent(llista)\n",
    "print(resultat)  # Sortida: 2"
   ]
  },
  {
   "cell_type": "markdown",
   "metadata": {
    "id": "1TKkvoSoIR9E"
   },
   "source": [
    "Aquesta llista de problemes i solucions ha estat preparada amb l'ajut de ChatGPT 3.5, versió 24 de maig de 2023, i revisada i adaptada per Mireia Ribera."
   ]
  }
 ],
 "metadata": {
  "colab": {
   "authorship_tag": "ABX9TyNIzBAnOPSaNas5tPmQafGh",
   "provenance": []
  },
  "kernelspec": {
   "display_name": "Python 3 (ipykernel)",
   "language": "python",
   "name": "python3"
  },
  "language_info": {
   "codemirror_mode": {
    "name": "ipython",
    "version": 3
   },
   "file_extension": ".py",
   "mimetype": "text/x-python",
   "name": "python",
   "nbconvert_exporter": "python",
   "pygments_lexer": "ipython3",
   "version": "3.9.7"
  }
 },
 "nbformat": 4,
 "nbformat_minor": 1
}
