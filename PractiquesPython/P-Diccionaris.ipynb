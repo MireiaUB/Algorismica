{
 "cells": [
  {
   "cell_type": "markdown",
   "metadata": {
    "id": "dwAKykq7-wwD"
   },
   "source": [
    "# Problemes amb diccionaris"
   ]
  },
  {
   "cell_type": "markdown",
   "metadata": {
    "id": "MvCuNBq0_Zyb"
   },
   "source": [
    "**1**. Crea un diccionari buit anomenat \"meves_notes\"."
   ]
  },
  {
   "cell_type": "code",
   "execution_count": 6,
   "metadata": {
    "cellView": "form",
    "colab": {
     "base_uri": "https://localhost:8080/"
    },
    "executionInfo": {
     "elapsed": 250,
     "status": "ok",
     "timestamp": 1689870043252,
     "user": {
      "displayName": "Mireia Ribera",
      "userId": "13870616405792739474"
     },
     "user_tz": -120
    },
    "id": "QTPMagKU_fCT",
    "outputId": "5b5eb5d1-3578-4820-d7df-cd28d6573621"
   },
   "outputs": [],
   "source": [
    "#@title Solució\n",
    "meves_notes = {}"
   ]
  },
  {
   "cell_type": "markdown",
   "metadata": {
    "id": "ZXxxg5vy_4op"
   },
   "source": [
    "**2**. Afegeix clau-valor al diccionari \"meves_notes\" amb el nom de l'assignatura com a clau i la nota com a valor."
   ]
  },
  {
   "cell_type": "code",
   "execution_count": 7,
   "metadata": {
    "cellView": "form",
    "colab": {
     "base_uri": "https://localhost:8080/"
    },
    "executionInfo": {
     "elapsed": 236,
     "status": "ok",
     "timestamp": 1689870046201,
     "user": {
      "displayName": "Mireia Ribera",
      "userId": "13870616405792739474"
     },
     "user_tz": -120
    },
    "id": "MS8GI0BH_--D",
    "outputId": "b25677bb-51db-4bdd-848f-20625661a7b6"
   },
   "outputs": [],
   "source": [
    "#@title Solució\n",
    "\n",
    "meves_notes['Matemàtiques'] = 8.5\n",
    "meves_notes['Informàtica'] = 9.0\n",
    "meves_notes['Física'] = 7.2"
   ]
  },
  {
   "cell_type": "markdown",
   "metadata": {
    "id": "YaKMvi1IADhi"
   },
   "source": [
    "**3**. Mostra totes les claus del diccionari \"meves_notes\"."
   ]
  },
  {
   "cell_type": "code",
   "execution_count": 8,
   "metadata": {
    "cellView": "form",
    "colab": {
     "base_uri": "https://localhost:8080/"
    },
    "executionInfo": {
     "elapsed": 260,
     "status": "ok",
     "timestamp": 1689870049784,
     "user": {
      "displayName": "Mireia Ribera",
      "userId": "13870616405792739474"
     },
     "user_tz": -120
    },
    "id": "wEQ9VNc0AIol",
    "outputId": "8b341632-06b2-4732-8818-7ddb61544202"
   },
   "outputs": [
    {
     "name": "stdout",
     "output_type": "stream",
     "text": [
      "Matemàtiques\n",
      "Informàtica\n",
      "Física\n"
     ]
    }
   ],
   "source": [
    "#@title Solució\n",
    "for assignatura in meves_notes:\n",
    "    print(assignatura)"
   ]
  },
  {
   "cell_type": "markdown",
   "metadata": {
    "id": "HYj83_rrAaxL"
   },
   "source": [
    "**4**. Mostra totes les notes del diccionari \"meves_notes\"."
   ]
  },
  {
   "cell_type": "code",
   "execution_count": 9,
   "metadata": {
    "cellView": "form",
    "colab": {
     "base_uri": "https://localhost:8080/"
    },
    "executionInfo": {
     "elapsed": 252,
     "status": "ok",
     "timestamp": 1689870052939,
     "user": {
      "displayName": "Mireia Ribera",
      "userId": "13870616405792739474"
     },
     "user_tz": -120
    },
    "id": "hyNPhG6IAj3i",
    "outputId": "d6271853-e6dc-4fb4-e72c-5b48bad459da"
   },
   "outputs": [
    {
     "name": "stdout",
     "output_type": "stream",
     "text": [
      "8.5\n",
      "9.0\n",
      "7.2\n"
     ]
    }
   ],
   "source": [
    "#@title Solució\n",
    "\n",
    "for nota in meves_notes.values():\n",
    "    print(nota)\n",
    "\n",
    "# fixeu-vos en l'ús de .values()"
   ]
  },
  {
   "cell_type": "markdown",
   "metadata": {
    "id": "0RvqBI98Bjdz"
   },
   "source": [
    "**5**. Mostra les assignatures i les notes en parells (clau-valor)."
   ]
  },
  {
   "cell_type": "code",
   "execution_count": 10,
   "metadata": {
    "cellView": "form",
    "colab": {
     "base_uri": "https://localhost:8080/"
    },
    "executionInfo": {
     "elapsed": 2505,
     "status": "ok",
     "timestamp": 1689870078292,
     "user": {
      "displayName": "Mireia Ribera",
      "userId": "13870616405792739474"
     },
     "user_tz": -120
    },
    "id": "gV40Ue0LBn80",
    "outputId": "75877524-5846-48dd-d403-7dc3dcac2bf8"
   },
   "outputs": [
    {
     "name": "stdout",
     "output_type": "stream",
     "text": [
      "Matemàtiques 8.5\n",
      "Informàtica 9.0\n",
      "Física 7.2\n"
     ]
    }
   ],
   "source": [
    "#@title Solució\n",
    "\n",
    "for assignatura, nota in meves_notes.items():\n",
    "    print(assignatura, nota)\n",
    "\n",
    "# fixeu-vos en l'ús de .items()"
   ]
  },
  {
   "cell_type": "markdown",
   "metadata": {
    "id": "U6CpZHsRCG4k"
   },
   "source": [
    "**6**. Comprova si l'assignatura \"Química\" està al diccionari \"meves_notes\"."
   ]
  },
  {
   "cell_type": "code",
   "execution_count": 11,
   "metadata": {
    "cellView": "form",
    "colab": {
     "base_uri": "https://localhost:8080/"
    },
    "executionInfo": {
     "elapsed": 3925,
     "status": "ok",
     "timestamp": 1689870091319,
     "user": {
      "displayName": "Mireia Ribera",
      "userId": "13870616405792739474"
     },
     "user_tz": -120
    },
    "id": "zj161Wo1CJ9y",
    "outputId": "93b9ce19-19a5-4466-e0c5-5e328c55e833"
   },
   "outputs": [
    {
     "name": "stdout",
     "output_type": "stream",
     "text": [
      "No tens la nota de Química.\n"
     ]
    }
   ],
   "source": [
    "#@title Solució\n",
    "if 'Química' in meves_notes:\n",
    "    print(\"Sí, tens la nota de Química.\")\n",
    "else:\n",
    "    print(\"No tens la nota de Química.\")"
   ]
  },
  {
   "cell_type": "markdown",
   "metadata": {
    "id": "LlNWMxTtFU7b"
   },
   "source": [
    "**7**. Elimina l'assignatura \"Física\" del diccionari \"meves_notes\"."
   ]
  },
  {
   "cell_type": "code",
   "execution_count": 12,
   "metadata": {
    "cellView": "form",
    "colab": {
     "base_uri": "https://localhost:8080/"
    },
    "executionInfo": {
     "elapsed": 268,
     "status": "ok",
     "timestamp": 1689870097349,
     "user": {
      "displayName": "Mireia Ribera",
      "userId": "13870616405792739474"
     },
     "user_tz": -120
    },
    "id": "qJP3EXqxC4a6",
    "outputId": "7163ea50-cb9c-449e-a9c7-5d3174fe49c1"
   },
   "outputs": [],
   "source": [
    "#@title Solució\n",
    "\n",
    "del meves_notes['Física']"
   ]
  },
  {
   "cell_type": "markdown",
   "metadata": {
    "id": "2L7HH9yOBMnj"
   },
   "source": [
    "**8**. Calcula la mitjana de les notes dels alumnes en el diccionari \"meves_notes\"."
   ]
  },
  {
   "cell_type": "code",
   "execution_count": 13,
   "metadata": {
    "cellView": "form",
    "colab": {
     "base_uri": "https://localhost:8080/"
    },
    "executionInfo": {
     "elapsed": 242,
     "status": "ok",
     "timestamp": 1689870162032,
     "user": {
      "displayName": "Mireia Ribera",
      "userId": "13870616405792739474"
     },
     "user_tz": -120
    },
    "id": "LQgAQpspBQpE",
    "outputId": "816d723c-ad89-48db-8cc4-fe951e1c19c8"
   },
   "outputs": [
    {
     "name": "stdout",
     "output_type": "stream",
     "text": [
      "La mitjana de les notes és: 8.75\n"
     ]
    }
   ],
   "source": [
    "#@title Solució\n",
    "\n",
    "mitjana = sum(meves_notes.values()) / len(meves_notes)\n",
    "print(\"La mitjana de les notes és:\", mitjana)"
   ]
  },
  {
   "cell_type": "markdown",
   "metadata": {
    "id": "4CiVCce_Ch2j"
   },
   "source": [
    "**9**. Copia el diccionari \"meves_notes\" a un nou diccionari anomenat \"notes_alumne\"."
   ]
  },
  {
   "cell_type": "code",
   "execution_count": 14,
   "metadata": {
    "cellView": "form",
    "colab": {
     "base_uri": "https://localhost:8080/"
    },
    "executionInfo": {
     "elapsed": 270,
     "status": "ok",
     "timestamp": 1689870200465,
     "user": {
      "displayName": "Mireia Ribera",
      "userId": "13870616405792739474"
     },
     "user_tz": -120
    },
    "id": "2M1eT_P_Cn58",
    "outputId": "774d928b-6b23-49b1-c44a-d6b97e8ed9ac"
   },
   "outputs": [],
   "source": [
    "#@title solució\n",
    "notes_alumne = meves_notes.copy()"
   ]
  },
  {
   "cell_type": "markdown",
   "metadata": {
    "id": "j2fPx-yfDGXE"
   },
   "source": [
    "**10**. Esborra totes les assignatures i notes del diccionari \"meves_notes\"."
   ]
  },
  {
   "cell_type": "code",
   "execution_count": 15,
   "metadata": {
    "cellView": "form",
    "colab": {
     "base_uri": "https://localhost:8080/"
    },
    "executionInfo": {
     "elapsed": 237,
     "status": "ok",
     "timestamp": 1689870221175,
     "user": {
      "displayName": "Mireia Ribera",
      "userId": "13870616405792739474"
     },
     "user_tz": -120
    },
    "id": "SQpZg74CDI5X",
    "outputId": "9ae2febe-1999-4854-9a0f-b3596b530bf2"
   },
   "outputs": [],
   "source": [
    "#@title Solució\n",
    "meves_notes.clear()"
   ]
  },
  {
   "cell_type": "markdown",
   "metadata": {
    "id": "GXr_7hJoDX28"
   },
   "source": [
    "**11**. Crea un diccionari anomenat \"votacions\" amb els noms de diferents partits polítics (\"Partit A\", \"Partit B\" i \"Partit C\") i el nombre de vots que han obtingut."
   ]
  },
  {
   "cell_type": "code",
   "execution_count": 16,
   "metadata": {
    "cellView": "form",
    "colab": {
     "base_uri": "https://localhost:8080/"
    },
    "executionInfo": {
     "elapsed": 267,
     "status": "ok",
     "timestamp": 1689870243672,
     "user": {
      "displayName": "Mireia Ribera",
      "userId": "13870616405792739474"
     },
     "user_tz": -120
    },
    "id": "dMP1_1qPDemb",
    "outputId": "c3229ef9-8dfc-4c48-b665-78c58cbe285a"
   },
   "outputs": [],
   "source": [
    "#@title Solució\n",
    "\n",
    "votacions = {\n",
    "    'Partit A': 1500,\n",
    "    'Partit B': 2000,\n",
    "    'Partit C': 800,\n",
    "    'Partit D': 3500\n",
    "}"
   ]
  },
  {
   "cell_type": "markdown",
   "metadata": {
    "id": "HvvTMag7Ds5U"
   },
   "source": [
    "**12**. Incrementa en 500 vots el nombre de vots del \"Partit B\" al diccionari \"votacions\"."
   ]
  },
  {
   "cell_type": "code",
   "execution_count": 17,
   "metadata": {
    "cellView": "form",
    "colab": {
     "base_uri": "https://localhost:8080/"
    },
    "executionInfo": {
     "elapsed": 250,
     "status": "ok",
     "timestamp": 1689870269882,
     "user": {
      "displayName": "Mireia Ribera",
      "userId": "13870616405792739474"
     },
     "user_tz": -120
    },
    "id": "3o7cDnu-Dz_M",
    "outputId": "891b5b3d-c913-42af-f18f-f9ce802125b1"
   },
   "outputs": [],
   "source": [
    "#@title Solució\n",
    "votacions['Partit B'] += 500"
   ]
  },
  {
   "cell_type": "markdown",
   "metadata": {
    "id": "7L4XnSfaF7Un"
   },
   "source": [
    "**13**. Troba el partit amb més vots i mostra el seu nom."
   ]
  },
  {
   "cell_type": "code",
   "execution_count": 18,
   "metadata": {
    "cellView": "form",
    "colab": {
     "base_uri": "https://localhost:8080/"
    },
    "executionInfo": {
     "elapsed": 255,
     "status": "ok",
     "timestamp": 1689870293972,
     "user": {
      "displayName": "Mireia Ribera",
      "userId": "13870616405792739474"
     },
     "user_tz": -120
    },
    "id": "9hcoAkmtGDY_",
    "outputId": "1aed8b55-e8b8-4046-d0cd-eb90664d5a71"
   },
   "outputs": [
    {
     "name": "stdout",
     "output_type": "stream",
     "text": [
      "El partit amb més vots és: Partit D\n"
     ]
    }
   ],
   "source": [
    "#@title Solució\n",
    "\n",
    "partit_mes_vots = max(votacions, key=votacions.get)\n",
    "print(\"El partit amb més vots és:\", partit_mes_vots)"
   ]
  },
  {
   "cell_type": "markdown",
   "metadata": {},
   "source": [
    "**14**. Suma tots els vots del diccionari \"votacions\" per obtenir el nombre total de vots."
   ]
  },
  {
   "cell_type": "code",
   "execution_count": 19,
   "metadata": {
    "cellView": "form",
    "colab": {
     "base_uri": "https://localhost:8080/"
    },
    "executionInfo": {
     "elapsed": 255,
     "status": "ok",
     "timestamp": 1689870293972,
     "user": {
      "displayName": "Mireia Ribera",
      "userId": "13870616405792739474"
     },
     "user_tz": -120
    },
    "id": "9hcoAkmtGDY_",
    "outputId": "1aed8b55-e8b8-4046-d0cd-eb90664d5a71"
   },
   "outputs": [
    {
     "name": "stdout",
     "output_type": "stream",
     "text": [
      "El nombre total de vots és: 8300\n"
     ]
    }
   ],
   "source": [
    "#@title Solució\n",
    "\n",
    "total_vots = sum(votacions.values())\n",
    "print(\"El nombre total de vots és:\", total_vots)"
   ]
  },
  {
   "cell_type": "markdown",
   "metadata": {},
   "source": [
    "**15**. Crea un diccionari anomenat \"paraula_comptador\" que compti la freqüència de cada lletra en una paraula donada."
   ]
  },
  {
   "cell_type": "code",
   "execution_count": 20,
   "metadata": {
    "cellView": "form",
    "colab": {
     "base_uri": "https://localhost:8080/"
    },
    "executionInfo": {
     "elapsed": 255,
     "status": "ok",
     "timestamp": 1689870293972,
     "user": {
      "displayName": "Mireia Ribera",
      "userId": "13870616405792739474"
     },
     "user_tz": -120
    },
    "id": "9hcoAkmtGDY_",
    "outputId": "1aed8b55-e8b8-4046-d0cd-eb90664d5a71"
   },
   "outputs": [
    {
     "name": "stdout",
     "output_type": "stream",
     "text": [
      "dict_items([('p', 1), ('r', 2), ('o', 1), ('g', 1), ('a', 2), ('m', 1), ('c', 1), ('i', 1), ('ó', 1)])\n"
     ]
    }
   ],
   "source": [
    "#@title Solució\n",
    "\n",
    "paraula = \"programació\"\n",
    "paraula_comptador = {}\n",
    "\n",
    "for lletra in paraula:\n",
    "    paraula_comptador[lletra] = paraula_comptador.get(lletra, 0) + 1\n",
    "    \n",
    "print(paraula_comptador.items())"
   ]
  },
  {
   "cell_type": "markdown",
   "metadata": {},
   "source": [
    "**16**. Crea un diccionari anomenat \"estudiants\" que contingui el nom i l'edat dels estudiants com a clau i valor, respectivament."
   ]
  },
  {
   "cell_type": "code",
   "execution_count": 21,
   "metadata": {
    "cellView": "form",
    "colab": {
     "base_uri": "https://localhost:8080/"
    },
    "executionInfo": {
     "elapsed": 255,
     "status": "ok",
     "timestamp": 1689870293972,
     "user": {
      "displayName": "Mireia Ribera",
      "userId": "13870616405792739474"
     },
     "user_tz": -120
    },
    "id": "9hcoAkmtGDY_",
    "outputId": "1aed8b55-e8b8-4046-d0cd-eb90664d5a71"
   },
   "outputs": [],
   "source": [
    "#@title Solució\n",
    "\n",
    "estudiants = {\n",
    "    'Joan': 20,\n",
    "    'Maria': 19,\n",
    "    'Pau': 21,\n",
    "    'Laura': 18\n",
    "}"
   ]
  },
  {
   "cell_type": "markdown",
   "metadata": {},
   "source": [
    "**17**. Comprova si l'estudiant \"Laura\" està al diccionari \"estudiants\" i mostra la seva edat."
   ]
  },
  {
   "cell_type": "code",
   "execution_count": 22,
   "metadata": {
    "cellView": "form",
    "colab": {
     "base_uri": "https://localhost:8080/"
    },
    "executionInfo": {
     "elapsed": 255,
     "status": "ok",
     "timestamp": 1689870293972,
     "user": {
      "displayName": "Mireia Ribera",
      "userId": "13870616405792739474"
     },
     "user_tz": -120
    },
    "id": "9hcoAkmtGDY_",
    "outputId": "1aed8b55-e8b8-4046-d0cd-eb90664d5a71"
   },
   "outputs": [
    {
     "name": "stdout",
     "output_type": "stream",
     "text": [
      "L'edat de Laura és: 18\n"
     ]
    }
   ],
   "source": [
    "#@title Solució\n",
    "\n",
    "if 'Laura' in estudiants:\n",
    "    print(\"L'edat de Laura és:\", estudiants['Laura'])\n",
    "else:\n",
    "    print(\"Laura no està a la llista d'estudiants.\")"
   ]
  },
  {
   "cell_type": "markdown",
   "metadata": {},
   "source": [
    "**18**. Copia el diccionari \"estudiants\" a un nou diccionari anomenat \"estudiants_ordenats\" ordenat per edat de major a menor."
   ]
  },
  {
   "cell_type": "code",
   "execution_count": 23,
   "metadata": {
    "cellView": "form",
    "colab": {
     "base_uri": "https://localhost:8080/"
    },
    "executionInfo": {
     "elapsed": 255,
     "status": "ok",
     "timestamp": 1689870293972,
     "user": {
      "displayName": "Mireia Ribera",
      "userId": "13870616405792739474"
     },
     "user_tz": -120
    },
    "id": "9hcoAkmtGDY_",
    "outputId": "1aed8b55-e8b8-4046-d0cd-eb90664d5a71"
   },
   "outputs": [],
   "source": [
    "#@title Solució\n",
    "\n",
    "estudiants_ordenats = {nom: edat for nom, edat in sorted(estudiants.items(), \n",
    "            key=lambda item: item[1], reverse=True)}\n",
    "\n",
    "# Atenció: aquesta instrucció fa servir funcions avançades"
   ]
  },
  {
   "cell_type": "markdown",
   "metadata": {},
   "source": [
    "**19**. Crea una llista anomenada \"noms_estudiants\" amb els noms dels estudiants del diccionari \"estudiants\"."
   ]
  },
  {
   "cell_type": "code",
   "execution_count": 24,
   "metadata": {
    "cellView": "form",
    "colab": {
     "base_uri": "https://localhost:8080/"
    },
    "executionInfo": {
     "elapsed": 255,
     "status": "ok",
     "timestamp": 1689870293972,
     "user": {
      "displayName": "Mireia Ribera",
      "userId": "13870616405792739474"
     },
     "user_tz": -120
    },
    "id": "9hcoAkmtGDY_",
    "outputId": "1aed8b55-e8b8-4046-d0cd-eb90664d5a71"
   },
   "outputs": [],
   "source": [
    "#@title Solució\n",
    "\n",
    "noms_estudiants = list(estudiants.keys())"
   ]
  },
  {
   "cell_type": "markdown",
   "metadata": {},
   "source": [
    "**20**. Crea una llista anomenada \"edats_estudiants\" amb les edats dels estudiants del diccionari \"estudiants\"."
   ]
  },
  {
   "cell_type": "code",
   "execution_count": 25,
   "metadata": {
    "cellView": "form",
    "colab": {
     "base_uri": "https://localhost:8080/"
    },
    "executionInfo": {
     "elapsed": 255,
     "status": "ok",
     "timestamp": 1689870293972,
     "user": {
      "displayName": "Mireia Ribera",
      "userId": "13870616405792739474"
     },
     "user_tz": -120
    },
    "id": "9hcoAkmtGDY_",
    "outputId": "1aed8b55-e8b8-4046-d0cd-eb90664d5a71"
   },
   "outputs": [],
   "source": [
    "#@title Solució\n",
    "\n",
    "edats_estudiants = list(estudiants.values())"
   ]
  },
  {
   "cell_type": "markdown",
   "metadata": {
    "id": "1TKkvoSoIR9E"
   },
   "source": [
    "Aquesta llista de problemes i solucions ha estat preparada amb l'ajut de ChatGPT 3.5, versió 24 de maig de 2023, i revisada i adaptada per Mireia Ribera."
   ]
  }
 ],
 "metadata": {
  "colab": {
   "authorship_tag": "ABX9TyNIzBAnOPSaNas5tPmQafGh",
   "provenance": []
  },
  "kernelspec": {
   "display_name": "Python 3 (ipykernel)",
   "language": "python",
   "name": "python3"
  },
  "language_info": {
   "codemirror_mode": {
    "name": "ipython",
    "version": 3
   },
   "file_extension": ".py",
   "mimetype": "text/x-python",
   "name": "python",
   "nbconvert_exporter": "python",
   "pygments_lexer": "ipython3",
   "version": "3.9.7"
  }
 },
 "nbformat": 4,
 "nbformat_minor": 1
}
