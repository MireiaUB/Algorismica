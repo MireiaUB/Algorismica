{
 "cells": [
  {
   "cell_type": "markdown",
   "metadata": {
    "id": "dwAKykq7-wwD"
   },
   "source": [
    "# Variables, objectes, referències i còpies profundes"
   ]
  },
  {
   "cell_type": "markdown",
   "metadata": {
    "id": "z4eAvrMIFqS7"
   },
   "source": [
    "## Amb range"
   ]
  },
  {
   "cell_type": "markdown",
   "metadata": {
    "id": "MvCuNBq0_Zyb"
   },
   "source": [
    "**1**. Escriu un programa que intercanviï els valors de dues variables."
   ]
  },
  {
   "cell_type": "code",
   "execution_count": 34,
   "metadata": {},
   "outputs": [],
   "source": [
    "# Exemple d'ús\n",
    "x = 5\n",
    "y = 10"
   ]
  },
  {
   "cell_type": "code",
   "execution_count": 37,
   "metadata": {
    "cellView": "form",
    "colab": {
     "base_uri": "https://localhost:8080/"
    },
    "executionInfo": {
     "elapsed": 250,
     "status": "ok",
     "timestamp": 1689870043252,
     "user": {
      "displayName": "Mireia Ribera",
      "userId": "13870616405792739474"
     },
     "user_tz": -120
    },
    "id": "QTPMagKU_fCT",
    "outputId": "5b5eb5d1-3578-4820-d7df-cd28d6573621"
   },
   "outputs": [],
   "source": [
    "#@title Solució\n",
    "def intercanviar_valors(a, b):\n",
    "    print(\"identificadors originals\",id(a),id(b))\n",
    "    a, b = b, a\n",
    "    print(\"identificadors bescanviats\",id(a),id(b))    \n",
    "    return a, b\n",
    "\n",
    "# Amb valors simples no cal clonatge"
   ]
  },
  {
   "cell_type": "code",
   "execution_count": 38,
   "metadata": {},
   "outputs": [
    {
     "name": "stdout",
     "output_type": "stream",
     "text": [
      "identificadors originals 2597487077808 2597487077968\n",
      "identificadors bescanviats 2597487077968 2597487077808\n",
      "x = 10\n",
      "y = 5\n"
     ]
    }
   ],
   "source": [
    "x, y = intercanviar_valors(x, y)\n",
    "print(\"x =\", x)  # Sortida: 10\n",
    "print(\"y =\", y)  # Sortida: 5"
   ]
  },
  {
   "cell_type": "markdown",
   "metadata": {
    "id": "ZXxxg5vy_4op"
   },
   "source": [
    "**2**. Escriu una funció que faci una còpia profunda d'una llista a una altra llista nova."
   ]
  },
  {
   "cell_type": "code",
   "execution_count": 39,
   "metadata": {},
   "outputs": [],
   "source": [
    "original = [1, 2, 3, 4, 5]"
   ]
  },
  {
   "cell_type": "code",
   "execution_count": 40,
   "metadata": {
    "cellView": "form",
    "colab": {
     "base_uri": "https://localhost:8080/"
    },
    "executionInfo": {
     "elapsed": 236,
     "status": "ok",
     "timestamp": 1689870046201,
     "user": {
      "displayName": "Mireia Ribera",
      "userId": "13870616405792739474"
     },
     "user_tz": -120
    },
    "id": "MS8GI0BH_--D",
    "outputId": "b25677bb-51db-4bdd-848f-20625661a7b6"
   },
   "outputs": [],
   "source": [
    "#@title Solució\n",
    "\n",
    "def clonar_llista(llista):\n",
    "    l = llista[0:len(llista)]\n",
    "    return l"
   ]
  },
  {
   "cell_type": "code",
   "execution_count": 41,
   "metadata": {},
   "outputs": [
    {
     "name": "stdout",
     "output_type": "stream",
     "text": [
      "[1, 2, 3, 4, 5]\n",
      "2597589032832 2597588966528\n",
      "[1, 2, 3, 4, 5] [1, 2, 3, 8, 5]\n"
     ]
    }
   ],
   "source": [
    "copia = clonar_llista(original)\n",
    "print(copia)  # Sortida: [1, 2, 3, 4, 5]\n",
    "print(id(original),id(copia))\n",
    "\n",
    "copia[3]=8\n",
    "print(original,copia)"
   ]
  },
  {
   "cell_type": "markdown",
   "metadata": {
    "id": "YaKMvi1IADhi"
   },
   "source": [
    "**3**. Escriu una funció que faci una còpia simple d'una llista a una altra llista nova."
   ]
  },
  {
   "cell_type": "code",
   "execution_count": 42,
   "metadata": {},
   "outputs": [],
   "source": [
    "original = [1, 2, 3, 4, 5]"
   ]
  },
  {
   "cell_type": "code",
   "execution_count": 43,
   "metadata": {
    "cellView": "form",
    "colab": {
     "base_uri": "https://localhost:8080/"
    },
    "executionInfo": {
     "elapsed": 260,
     "status": "ok",
     "timestamp": 1689870049784,
     "user": {
      "displayName": "Mireia Ribera",
      "userId": "13870616405792739474"
     },
     "user_tz": -120
    },
    "id": "wEQ9VNc0AIol",
    "outputId": "8b341632-06b2-4732-8818-7ddb61544202"
   },
   "outputs": [],
   "source": [
    "#@title Solució\n",
    "def copiasimple_llista(llista):\n",
    "    l = llista\n",
    "    return l"
   ]
  },
  {
   "cell_type": "code",
   "execution_count": 44,
   "metadata": {},
   "outputs": [
    {
     "name": "stdout",
     "output_type": "stream",
     "text": [
      "[1, 2, 3, 4, 5]\n",
      "2597566714560 2597566714560\n",
      "[1, 2, 3, 8, 5] [1, 2, 3, 8, 5]\n"
     ]
    }
   ],
   "source": [
    "copia = copiasimple_llista(original)\n",
    "print(copia)  # Sortida: [1, 2, 3, 4, 5]\n",
    "print(id(original),id(copia))\n",
    "\n",
    "copia[3]=8\n",
    "print(original,copia)"
   ]
  },
  {
   "cell_type": "markdown",
   "metadata": {},
   "source": [
    "Fixeu-vos en la diferència de resultats entre el problema 2 i 3. \n",
    "\n",
    "Què ha passat? Per què?\n",
    "\n",
    "Useu la funció explain de ChatGPT si us és d'ajuda."
   ]
  },
  {
   "cell_type": "markdown",
   "metadata": {
    "id": "HYj83_rrAaxL"
   },
   "source": [
    "**4**. Escriu un programa que mostri com les llistes són objectes i com les referències apunten al mateix objecte."
   ]
  },
  {
   "cell_type": "code",
   "execution_count": 45,
   "metadata": {
    "cellView": "form",
    "colab": {
     "base_uri": "https://localhost:8080/"
    },
    "executionInfo": {
     "elapsed": 252,
     "status": "ok",
     "timestamp": 1689870052939,
     "user": {
      "displayName": "Mireia Ribera",
      "userId": "13870616405792739474"
     },
     "user_tz": -120
    },
    "id": "hyNPhG6IAj3i",
    "outputId": "d6271853-e6dc-4fb4-e72c-5b48bad459da"
   },
   "outputs": [
    {
     "name": "stdout",
     "output_type": "stream",
     "text": [
      "2597589020352 2597589020352\n"
     ]
    }
   ],
   "source": [
    "#@title Solució\n",
    "\n",
    "a = [1, 2, 3]\n",
    "b = a\n",
    "print(id(a),id(b))"
   ]
  },
  {
   "cell_type": "markdown",
   "metadata": {
    "id": "0RvqBI98Bjdz"
   },
   "source": [
    "**5**. Escriu una funció que cloni un diccionari a un de nou."
   ]
  },
  {
   "cell_type": "code",
   "execution_count": 46,
   "metadata": {},
   "outputs": [],
   "source": [
    "original = {'a': 1, 'b': 2, 'c': 3}"
   ]
  },
  {
   "cell_type": "code",
   "execution_count": 47,
   "metadata": {
    "cellView": "form",
    "colab": {
     "base_uri": "https://localhost:8080/"
    },
    "executionInfo": {
     "elapsed": 2505,
     "status": "ok",
     "timestamp": 1689870078292,
     "user": {
      "displayName": "Mireia Ribera",
      "userId": "13870616405792739474"
     },
     "user_tz": -120
    },
    "id": "gV40Ue0LBn80",
    "outputId": "75877524-5846-48dd-d403-7dc3dcac2bf8"
   },
   "outputs": [],
   "source": [
    "#@title Solució\n",
    "\n",
    "def clonar_diccionari(diccionari):\n",
    "    return dict(diccionari)\n",
    "\n",
    "# una altra manera de clonar és creant un objecte nou \n",
    "# amb el contingut de l'original"
   ]
  },
  {
   "cell_type": "code",
   "execution_count": 48,
   "metadata": {},
   "outputs": [
    {
     "name": "stdout",
     "output_type": "stream",
     "text": [
      "{'a': 1, 'b': 2, 'c': 3} 2597588330688 2597588936192\n"
     ]
    }
   ],
   "source": [
    "copia = clonar_diccionari(original)\n",
    "print(copia,id(original),id(copia))"
   ]
  },
  {
   "cell_type": "markdown",
   "metadata": {
    "id": "7L4XnSfaF7Un"
   },
   "source": [
    "**13**. Usa la funció id() per distingir una còpia profunda d'un àlies."
   ]
  },
  {
   "cell_type": "code",
   "execution_count": 49,
   "metadata": {},
   "outputs": [],
   "source": [
    "a = [1,2,3]"
   ]
  },
  {
   "cell_type": "code",
   "execution_count": 51,
   "metadata": {
    "cellView": "form",
    "colab": {
     "base_uri": "https://localhost:8080/"
    },
    "executionInfo": {
     "elapsed": 255,
     "status": "ok",
     "timestamp": 1689870293972,
     "user": {
      "displayName": "Mireia Ribera",
      "userId": "13870616405792739474"
     },
     "user_tz": -120
    },
    "id": "9hcoAkmtGDY_",
    "outputId": "1aed8b55-e8b8-4046-d0cd-eb90664d5a71"
   },
   "outputs": [],
   "source": [
    "#@title Solució\n",
    "\n",
    "def alies(a):\n",
    "    b = a\n",
    "    return b\n",
    "\n",
    "def copia_profunda(a):\n",
    "    for i in range(0,len(a)):\n",
    "        b.append(a[i])\n",
    "    return b\n"
   ]
  },
  {
   "cell_type": "code",
   "execution_count": 52,
   "metadata": {},
   "outputs": [
    {
     "name": "stdout",
     "output_type": "stream",
     "text": [
      "2597589032384 2597589032384\n",
      "2597589032384 2597589020352\n"
     ]
    }
   ],
   "source": [
    "c = alies(a)\n",
    "print(id(a),id(c))\n",
    "d = copia_profunda(a)\n",
    "print(id(a),id(d))"
   ]
  },
  {
   "cell_type": "markdown",
   "metadata": {
    "id": "1TKkvoSoIR9E"
   },
   "source": [
    "Aquesta llista de problemes i solucions ha estat preparada amb l'ajut de ChatGPT 3.5, versió 24 de maig de 2023, i revisada i adaptada per Mireia Ribera."
   ]
  }
 ],
 "metadata": {
  "colab": {
   "authorship_tag": "ABX9TyNIzBAnOPSaNas5tPmQafGh",
   "provenance": []
  },
  "kernelspec": {
   "display_name": "Python 3 (ipykernel)",
   "language": "python",
   "name": "python3"
  },
  "language_info": {
   "codemirror_mode": {
    "name": "ipython",
    "version": 3
   },
   "file_extension": ".py",
   "mimetype": "text/x-python",
   "name": "python",
   "nbconvert_exporter": "python",
   "pygments_lexer": "ipython3",
   "version": "3.9.7"
  }
 },
 "nbformat": 4,
 "nbformat_minor": 1
}
