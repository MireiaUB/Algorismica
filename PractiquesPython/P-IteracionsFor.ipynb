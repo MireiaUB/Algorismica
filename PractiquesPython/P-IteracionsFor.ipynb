{
 "cells": [
  {
   "cell_type": "markdown",
   "metadata": {
    "id": "dwAKykq7-wwD"
   },
   "source": [
    "# Problemes d'iteracions for"
   ]
  },
  {
   "cell_type": "markdown",
   "metadata": {
    "id": "z4eAvrMIFqS7"
   },
   "source": [
    "## Amb range"
   ]
  },
  {
   "cell_type": "markdown",
   "metadata": {
    "id": "MvCuNBq0_Zyb"
   },
   "source": [
    "**1**. Mostra els nombres de l'1 al 10"
   ]
  },
  {
   "cell_type": "code",
   "execution_count": null,
   "metadata": {
    "cellView": "form",
    "colab": {
     "base_uri": "https://localhost:8080/"
    },
    "executionInfo": {
     "elapsed": 250,
     "status": "ok",
     "timestamp": 1689870043252,
     "user": {
      "displayName": "Mireia Ribera",
      "userId": "13870616405792739474"
     },
     "user_tz": -120
    },
    "id": "QTPMagKU_fCT",
    "outputId": "5b5eb5d1-3578-4820-d7df-cd28d6573621"
   },
   "outputs": [
    {
     "name": "stdout",
     "output_type": "stream",
     "text": [
      "1\n",
      "2\n",
      "3\n",
      "4\n",
      "5\n",
      "6\n",
      "7\n",
      "8\n",
      "9\n",
      "10\n"
     ]
    }
   ],
   "source": [
    "#@title Solució\n",
    "for i in range(1, 11):\n",
    "    print(i)\n",
    "\n",
    "# Comentaris: fixeu-vos que acaba en 11 perquè el darrer número, mai es fa"
   ]
  },
  {
   "cell_type": "markdown",
   "metadata": {
    "id": "ZXxxg5vy_4op"
   },
   "source": [
    "**2**. Mostra els nombres parells del 0 al 20"
   ]
  },
  {
   "cell_type": "code",
   "execution_count": null,
   "metadata": {
    "cellView": "form",
    "colab": {
     "base_uri": "https://localhost:8080/"
    },
    "executionInfo": {
     "elapsed": 236,
     "status": "ok",
     "timestamp": 1689870046201,
     "user": {
      "displayName": "Mireia Ribera",
      "userId": "13870616405792739474"
     },
     "user_tz": -120
    },
    "id": "MS8GI0BH_--D",
    "outputId": "b25677bb-51db-4bdd-848f-20625661a7b6"
   },
   "outputs": [
    {
     "name": "stdout",
     "output_type": "stream",
     "text": [
      "0\n",
      "2\n",
      "4\n",
      "6\n",
      "8\n",
      "10\n",
      "12\n",
      "14\n",
      "16\n",
      "18\n",
      "20\n"
     ]
    }
   ],
   "source": [
    "#@title Solució\n",
    "\n",
    "for i in range(0, 21, 2):\n",
    "    print(i)"
   ]
  },
  {
   "cell_type": "markdown",
   "metadata": {
    "id": "YaKMvi1IADhi"
   },
   "source": [
    "**3**. Mostra els primers cinc múltiples de 3"
   ]
  },
  {
   "cell_type": "code",
   "execution_count": null,
   "metadata": {
    "cellView": "form",
    "colab": {
     "base_uri": "https://localhost:8080/"
    },
    "executionInfo": {
     "elapsed": 260,
     "status": "ok",
     "timestamp": 1689870049784,
     "user": {
      "displayName": "Mireia Ribera",
      "userId": "13870616405792739474"
     },
     "user_tz": -120
    },
    "id": "wEQ9VNc0AIol",
    "outputId": "8b341632-06b2-4732-8818-7ddb61544202"
   },
   "outputs": [
    {
     "name": "stdout",
     "output_type": "stream",
     "text": [
      "3\n",
      "6\n",
      "9\n",
      "12\n",
      "15\n"
     ]
    }
   ],
   "source": [
    "#@title Solució\n",
    "for i in range(1, 6):\n",
    "    print(i * 3)\n",
    "\n",
    "# Fixeu-vos que en aquest cas aconseguim el resultat amb una multiplicació"
   ]
  },
  {
   "cell_type": "markdown",
   "metadata": {
    "id": "HYj83_rrAaxL"
   },
   "source": [
    "**4**. Calcula la suma dels nombres  de l'1 al 100."
   ]
  },
  {
   "cell_type": "code",
   "execution_count": null,
   "metadata": {
    "cellView": "form",
    "colab": {
     "base_uri": "https://localhost:8080/"
    },
    "executionInfo": {
     "elapsed": 252,
     "status": "ok",
     "timestamp": 1689870052939,
     "user": {
      "displayName": "Mireia Ribera",
      "userId": "13870616405792739474"
     },
     "user_tz": -120
    },
    "id": "hyNPhG6IAj3i",
    "outputId": "d6271853-e6dc-4fb4-e72c-5b48bad459da"
   },
   "outputs": [
    {
     "name": "stdout",
     "output_type": "stream",
     "text": [
      "5050\n"
     ]
    }
   ],
   "source": [
    "#@title Solució\n",
    "\n",
    "suma = 0\n",
    "for i in range(1, 101):\n",
    "    suma += i\n",
    "print(suma)\n",
    "\n",
    "# Aquí fem ús d'un acumulador, una variable que va acumulant el resultat dins l'iteració"
   ]
  },
  {
   "cell_type": "markdown",
   "metadata": {
    "id": "0RvqBI98Bjdz"
   },
   "source": [
    "**5**. Suma els primers N nombres naturals introduïts per l'usuari."
   ]
  },
  {
   "cell_type": "code",
   "execution_count": null,
   "metadata": {
    "cellView": "form",
    "colab": {
     "base_uri": "https://localhost:8080/"
    },
    "executionInfo": {
     "elapsed": 2505,
     "status": "ok",
     "timestamp": 1689870078292,
     "user": {
      "displayName": "Mireia Ribera",
      "userId": "13870616405792739474"
     },
     "user_tz": -120
    },
    "id": "gV40Ue0LBn80",
    "outputId": "75877524-5846-48dd-d403-7dc3dcac2bf8"
   },
   "outputs": [
    {
     "name": "stdout",
     "output_type": "stream",
     "text": [
      "Introdueix un nombre: 12\n",
      "La suma dels 12 primers nombres naturals és: 78\n"
     ]
    }
   ],
   "source": [
    "#@title Solució\n",
    "\n",
    "N = int(input(\"Introdueix un nombre: \"))\n",
    "suma = 0\n",
    "for i in range(1, N + 1):\n",
    "    suma += i\n",
    "print(\"La suma dels\", N, \"primers nombres naturals és:\", suma)\n",
    "\n",
    "# En aquest cas la finalització de la iteració la determina el valor introduit per l'usuari"
   ]
  },
  {
   "cell_type": "markdown",
   "metadata": {
    "id": "U6CpZHsRCG4k"
   },
   "source": [
    "**6**. Donat un nombre N, troba els divisors del nombre."
   ]
  },
  {
   "cell_type": "code",
   "execution_count": null,
   "metadata": {
    "cellView": "form",
    "colab": {
     "base_uri": "https://localhost:8080/"
    },
    "executionInfo": {
     "elapsed": 3925,
     "status": "ok",
     "timestamp": 1689870091319,
     "user": {
      "displayName": "Mireia Ribera",
      "userId": "13870616405792739474"
     },
     "user_tz": -120
    },
    "id": "zj161Wo1CJ9y",
    "outputId": "93b9ce19-19a5-4466-e0c5-5e328c55e833"
   },
   "outputs": [
    {
     "name": "stdout",
     "output_type": "stream",
     "text": [
      "Introdueix un nombre: 77\n",
      "Els divisors de 77 son:\n",
      "1\n",
      "7\n",
      "11\n",
      "77\n"
     ]
    }
   ],
   "source": [
    "#@title Solució\n",
    "N = int(input(\"Introdueix un nombre: \"))\n",
    "print(\"Els divisors de\", N, \"son:\")\n",
    "for i in range(1, N + 1):\n",
    "    if N % i == 0:\n",
    "        print(i)\n"
   ]
  },
  {
   "cell_type": "markdown",
   "metadata": {
    "id": "LlNWMxTtFU7b"
   },
   "source": [
    "**7**. Mostra els nombres del 1 al 10 en ordre invers."
   ]
  },
  {
   "cell_type": "code",
   "execution_count": null,
   "metadata": {
    "cellView": "form",
    "colab": {
     "base_uri": "https://localhost:8080/"
    },
    "executionInfo": {
     "elapsed": 268,
     "status": "ok",
     "timestamp": 1689870097349,
     "user": {
      "displayName": "Mireia Ribera",
      "userId": "13870616405792739474"
     },
     "user_tz": -120
    },
    "id": "qJP3EXqxC4a6",
    "outputId": "7163ea50-cb9c-449e-a9c7-5d3174fe49c1"
   },
   "outputs": [
    {
     "name": "stdout",
     "output_type": "stream",
     "text": [
      "10\n",
      "9\n",
      "8\n",
      "7\n",
      "6\n",
      "5\n",
      "4\n",
      "3\n",
      "2\n",
      "1\n"
     ]
    }
   ],
   "source": [
    "#@title Solució\n",
    "\n",
    "for i in range(10, 0, -1):\n",
    "    print(i)\n",
    "\n",
    "# Aquest exemple usa step per anar cap enrera, fixat en que aquí usem 10 i no 11, i 0 i no 1."
   ]
  },
  {
   "cell_type": "markdown",
   "metadata": {
    "id": "Qcb1AWDsBCwc"
   },
   "source": [
    "## Sense Range"
   ]
  },
  {
   "cell_type": "markdown",
   "metadata": {
    "id": "2L7HH9yOBMnj"
   },
   "source": [
    "**8**. Mostra els caràcters d'una cadena de text"
   ]
  },
  {
   "cell_type": "code",
   "execution_count": null,
   "metadata": {
    "cellView": "form",
    "colab": {
     "base_uri": "https://localhost:8080/"
    },
    "executionInfo": {
     "elapsed": 242,
     "status": "ok",
     "timestamp": 1689870162032,
     "user": {
      "displayName": "Mireia Ribera",
      "userId": "13870616405792739474"
     },
     "user_tz": -120
    },
    "id": "LQgAQpspBQpE",
    "outputId": "816d723c-ad89-48db-8cc4-fe951e1c19c8"
   },
   "outputs": [
    {
     "name": "stdout",
     "output_type": "stream",
     "text": [
      "El text es: Hola, Python!\n",
      "H\n",
      "o\n",
      "l\n",
      "a\n",
      ",\n",
      " \n",
      "P\n",
      "y\n",
      "t\n",
      "h\n",
      "o\n",
      "n\n",
      "!\n"
     ]
    }
   ],
   "source": [
    "#@title Solució\n",
    "\n",
    "text = \"Hola, Python!\"\n",
    "print(\"El text es:\",text)\n",
    "for lletra in text:\n",
    "    print(lletra)"
   ]
  },
  {
   "cell_type": "markdown",
   "metadata": {
    "id": "4CiVCce_Ch2j"
   },
   "source": [
    "**9**. Calcula la suma dels dígits d'un nombre enter"
   ]
  },
  {
   "cell_type": "code",
   "execution_count": null,
   "metadata": {
    "cellView": "form",
    "colab": {
     "base_uri": "https://localhost:8080/"
    },
    "executionInfo": {
     "elapsed": 270,
     "status": "ok",
     "timestamp": 1689870200465,
     "user": {
      "displayName": "Mireia Ribera",
      "userId": "13870616405792739474"
     },
     "user_tz": -120
    },
    "id": "2M1eT_P_Cn58",
    "outputId": "774d928b-6b23-49b1-c44a-d6b97e8ed9ac"
   },
   "outputs": [
    {
     "name": "stdout",
     "output_type": "stream",
     "text": [
      "El numero es: 12345\n",
      "Suma dels dígits: 15\n"
     ]
    }
   ],
   "source": [
    "#@title solució\n",
    "numero = 12345\n",
    "print(\"El numero es:\",numero)\n",
    "suma = 0\n",
    "for digito in str(numero):\n",
    "    suma += int(digito)\n",
    "print(\"Suma dels dígits:\", suma)\n"
   ]
  },
  {
   "cell_type": "markdown",
   "metadata": {
    "id": "j2fPx-yfDGXE"
   },
   "source": [
    "**10**. Calcula la suma d'una llista de nombres"
   ]
  },
  {
   "cell_type": "code",
   "execution_count": null,
   "metadata": {
    "cellView": "form",
    "colab": {
     "base_uri": "https://localhost:8080/"
    },
    "executionInfo": {
     "elapsed": 237,
     "status": "ok",
     "timestamp": 1689870221175,
     "user": {
      "displayName": "Mireia Ribera",
      "userId": "13870616405792739474"
     },
     "user_tz": -120
    },
    "id": "SQpZg74CDI5X",
    "outputId": "9ae2febe-1999-4854-9a0f-b3596b530bf2"
   },
   "outputs": [
    {
     "name": "stdout",
     "output_type": "stream",
     "text": [
      "La llista es [10, 20, 30, 40, 50]\n",
      "Suma: 150\n"
     ]
    }
   ],
   "source": [
    "#@title Solució\n",
    "llista = [10, 20, 30, 40, 50]\n",
    "print(\"La llista es\",llista)\n",
    "suma = 0\n",
    "for num in llista:\n",
    "    suma += num\n",
    "print(\"Suma:\", suma)"
   ]
  },
  {
   "cell_type": "markdown",
   "metadata": {
    "id": "GXr_7hJoDX28"
   },
   "source": [
    "**11**. Donada una llista de paraules, mostra només les que tenen més de 5 lletres (et caldrà usar la funció len)"
   ]
  },
  {
   "cell_type": "code",
   "execution_count": null,
   "metadata": {
    "cellView": "form",
    "colab": {
     "base_uri": "https://localhost:8080/"
    },
    "executionInfo": {
     "elapsed": 267,
     "status": "ok",
     "timestamp": 1689870243672,
     "user": {
      "displayName": "Mireia Ribera",
      "userId": "13870616405792739474"
     },
     "user_tz": -120
    },
    "id": "dMP1_1qPDemb",
    "outputId": "c3229ef9-8dfc-4c48-b665-78c58cbe285a"
   },
   "outputs": [
    {
     "name": "stdout",
     "output_type": "stream",
     "text": [
      "La llista de paraules es ['python', 'programació', 'hola', 'món', 'informàtica']\n",
      "python\n",
      "programació\n",
      "informàtica\n"
     ]
    }
   ],
   "source": [
    "#@title Solució\n",
    "\n",
    "paraules = [\"python\", \"programació\", \"hola\", \"món\", \"informàtica\"]\n",
    "print(\"La llista de paraules es\",paraules)\n",
    "for paraula in paraules:\n",
    "    if len(paraula) > 5:\n",
    "        print(paraula)"
   ]
  },
  {
   "cell_type": "markdown",
   "metadata": {
    "id": "HvvTMag7Ds5U"
   },
   "source": [
    "**12**. A partir d'una llista de nombres naturals, crea dues llistes separades, una pels nombres parells i una pels nombres senars."
   ]
  },
  {
   "cell_type": "code",
   "execution_count": null,
   "metadata": {
    "cellView": "form",
    "colab": {
     "base_uri": "https://localhost:8080/"
    },
    "executionInfo": {
     "elapsed": 250,
     "status": "ok",
     "timestamp": 1689870269882,
     "user": {
      "displayName": "Mireia Ribera",
      "userId": "13870616405792739474"
     },
     "user_tz": -120
    },
    "id": "3o7cDnu-Dz_M",
    "outputId": "891b5b3d-c913-42af-f18f-f9ce802125b1"
   },
   "outputs": [
    {
     "name": "stdout",
     "output_type": "stream",
     "text": [
      "La llista es [1, 2, 3, 4, 5, 6, 7, 8, 9, 10]\n",
      "Nombres parells: [2, 4, 6, 8, 10]\n",
      "Números senarss: [1, 3, 5, 7, 9]\n"
     ]
    }
   ],
   "source": [
    "#@title Solució\n",
    "nombres = [1, 2, 3, 4, 5, 6, 7, 8, 9, 10]\n",
    "print(\"La llista es\",nombres)\n",
    "parells = []\n",
    "senarss = []\n",
    "for num in nombres:\n",
    "    if num % 2 == 0:\n",
    "        parells.append(num)\n",
    "    else:\n",
    "        senarss.append(num)\n",
    "\n",
    "print(\"Nombres parells:\", parells)\n",
    "print(\"Números senarss:\", senarss)\n"
   ]
  },
  {
   "cell_type": "markdown",
   "metadata": {
    "id": "7L4XnSfaF7Un"
   },
   "source": [
    "**13**. A partir d'una llista de nombres naturals, retorna la suma dels elements en posicions parelles, i la suma dels elements en posicions senars."
   ]
  },
  {
   "cell_type": "code",
   "execution_count": null,
   "metadata": {
    "cellView": "form",
    "colab": {
     "base_uri": "https://localhost:8080/"
    },
    "executionInfo": {
     "elapsed": 255,
     "status": "ok",
     "timestamp": 1689870293972,
     "user": {
      "displayName": "Mireia Ribera",
      "userId": "13870616405792739474"
     },
     "user_tz": -120
    },
    "id": "9hcoAkmtGDY_",
    "outputId": "1aed8b55-e8b8-4046-d0cd-eb90664d5a71"
   },
   "outputs": [
    {
     "name": "stdout",
     "output_type": "stream",
     "text": [
      "La llista de nombres es: [1, 2, 3, 4, 5, 6, 7, 8, 9, 10]\n",
      "Suma d'elements en posicions parelles: 25\n",
      "Suma d'elements en posicions senars: 30\n"
     ]
    }
   ],
   "source": [
    "#@title Solució\n",
    "\n",
    "nombres = [1, 2, 3, 4, 5, 6, 7, 8, 9, 10]\n",
    "print(\"La llista de nombres es:\",nombres)\n",
    "suma_parells = 0\n",
    "suma_senars = 0\n",
    "for i in range(len(nombres)):\n",
    "    if i % 2 == 0:\n",
    "        suma_parells += nombres[i]\n",
    "    else:\n",
    "        suma_senars += nombres[i]\n",
    "\n",
    "print(\"Suma d'elements en posicions parelles:\", suma_parells)\n",
    "print(\"Suma d'elements en posicions senars:\", suma_senars)\n",
    "\n",
    "# Fixeu-vos en l'operand de sumar al que no li cal repetir el primer element a la part dreta"
   ]
  },
  {
   "cell_type": "markdown",
   "metadata": {
    "id": "1TKkvoSoIR9E"
   },
   "source": [
    "Aquesta llista de problemes i solucions ha estat preparada amb l'ajut de ChatGPT 3.5, versió 24 de maig de 2023, i revisada i adaptada per Mireia Ribera."
   ]
  }
 ],
 "metadata": {
  "colab": {
   "authorship_tag": "ABX9TyNIzBAnOPSaNas5tPmQafGh",
   "provenance": []
  },
  "kernelspec": {
   "display_name": "Python 3 (ipykernel)",
   "language": "python",
   "name": "python3"
  },
  "language_info": {
   "codemirror_mode": {
    "name": "ipython",
    "version": 3
   },
   "file_extension": ".py",
   "mimetype": "text/x-python",
   "name": "python",
   "nbconvert_exporter": "python",
   "pygments_lexer": "ipython3",
   "version": "3.9.7"
  }
 },
 "nbformat": 4,
 "nbformat_minor": 1
}
