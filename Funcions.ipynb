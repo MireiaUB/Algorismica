{
  "nbformat": 4,
  "nbformat_minor": 0,
  "metadata": {
    "kernelspec": {
      "display_name": "Python 3",
      "language": "python",
      "name": "python3"
    },
    "language_info": {
      "codemirror_mode": {
        "name": "ipython",
        "version": 3
      },
      "file_extension": ".py",
      "mimetype": "text/x-python",
      "name": "python",
      "nbconvert_exporter": "python",
      "pygments_lexer": "ipython3",
      "version": "3.8.3"
    },
    "colab": {
      "name": "Funcions.ipynb",
      "provenance": []
    }
  },
  "cells": [
    {
      "cell_type": "markdown",
      "metadata": {
        "id": "MEyK9PWh-fb9"
      },
      "source": [
        "<div id=\"capcalera\">\n",
        "<p><a href=\"https://colab.research.google.com/github/algorismica2020/algorismica2020.github.io/blob/master/notebookscolab/Funcions.ipynb\"><img style=\"margin:-10px 10px 20px 0\" width=\"150px\" align=\"right\" src=\"https://raw.githubusercontent.com/algorismica2019/problemes/master/assets/colab-badge.png?raw=1\" alt=\"Obrir a Colab\" title=\"Obrir i executar a Google Colaboratory\"></a></p>\n",
        "<p style=\"clear:both\"><img align='left' width=\"300px\" style=\"padding-right:10px;float=left\" src=\"https://raw.githubusercontent.com/algorismica2019/problemes/master/assets/al-khwarizmi.png\">Aquest notebook complementa els continguts teòrics de l'assignatura d'<strong>Algorísmica</strong> del Grau d'Enginyeria Informàtica a la <a href=\"https://mat.ub.edu\">Facultat de Matemàtiques i Informàtica</a> de la <a href=\"https://www.ub.edu\">Universitat de Barcelona</a> impartida per <em>Jordi Vitrià</em> i <em>Mireia Ribera</em></p>\n",
        "\n",
        "<p>Els problemes s'ofereixen sota llicència <a href=\"https://creativecommons.org/licenses/by-nc-nd/3.0/us/legalcode\">CC-BY-NC-ND license</a>, i el codi sota <a href=\"https://opensource.org/licenses/MIT\">Llicència MIT</a>.</p>\n",
        "\n",
        "</div>"
      ]
    },
    {
      "cell_type": "markdown",
      "metadata": {
        "id": "EzqlXodh-fb_"
      },
      "source": [
        "# <span class=\"tema\">(Python)</span> Funcions"
      ]
    },
    {
      "cell_type": "markdown",
      "metadata": {
        "id": "STmy74gU-fcA"
      },
      "source": [
        "Quan volem fer un seguit d'instruccions repetidament, les posem dins d'una funció. El codi d'una funció no s'executarà fins que la cridem explícitament. Les funcions comencen amb def, el nom de la funció i parèntesi, seguit de :. Les instruccions de dins la funció queden indentades quatre caràcters a la dreta com a mínim per indicar que pertanyen a la funció."
      ]
    },
    {
      "cell_type": "code",
      "metadata": {
        "id": "DuucCM8m-fcA"
      },
      "source": [
        "def funcio1():\n",
        "    print(\"hola\")\n",
        "    \n",
        "def funcio2():\n",
        "    print(\"a\")"
      ],
      "execution_count": null,
      "outputs": []
    },
    {
      "cell_type": "code",
      "metadata": {
        "id": "UY44GpTd-fcB",
        "outputId": "36a137fd-a3a0-499b-996c-6f31cc45df70"
      },
      "source": [
        "funcio1()\n",
        "funcio2()\n",
        "funcio1()"
      ],
      "execution_count": null,
      "outputs": [
        {
          "output_type": "stream",
          "text": [
            "hola\n",
            "a\n",
            "hola\n"
          ],
          "name": "stdout"
        }
      ]
    },
    {
      "cell_type": "markdown",
      "metadata": {
        "id": "i3DT88p9-fcC"
      },
      "source": [
        "### Paràmetres: \n",
        "\n",
        "Les funcions amb paràmetres permeten que els indiquem el valor d'algunes variables en el moment de cridar-les. Veiem un exemple d'una funció amb paràmetres i una sense"
      ]
    },
    {
      "cell_type": "code",
      "metadata": {
        "id": "uhwfgfiQ-fcC"
      },
      "source": [
        "def suma():\n",
        "    var1 = 5\n",
        "    var2 = 3\n",
        "    suma_nombres = var1 + var2\n",
        "    print(suma_nombres)"
      ],
      "execution_count": null,
      "outputs": []
    },
    {
      "cell_type": "markdown",
      "metadata": {
        "id": "m7I7Q_J0-fcD"
      },
      "source": [
        "Amb aquesta funció només puc sumar els valors 5 i 3, que són els que estan escrits en el codi."
      ]
    },
    {
      "cell_type": "code",
      "metadata": {
        "id": "tM97fft1-fcD"
      },
      "source": [
        "def suma2 (var1, var2):\n",
        "    suma_nombres = var1 + var2\n",
        "    print(suma_nombres)"
      ],
      "execution_count": null,
      "outputs": []
    },
    {
      "cell_type": "code",
      "metadata": {
        "id": "5nNbdC9T-fcE",
        "outputId": "e6a8584d-bc24-4a4c-82aa-dd3fcec8d1dd"
      },
      "source": [
        "suma2(3, 5)\n",
        "suma2(1, 2)"
      ],
      "execution_count": null,
      "outputs": [
        {
          "output_type": "stream",
          "text": [
            "8\n",
            "3\n"
          ],
          "name": "stdout"
        }
      ]
    },
    {
      "cell_type": "markdown",
      "metadata": {
        "id": "2gBaIQpB-fcE"
      },
      "source": [
        "Amb aquesta funció puc sumar qualssevol valors perquè els indico amb els paràmetres."
      ]
    },
    {
      "cell_type": "markdown",
      "metadata": {
        "id": "ITeWrkS5-fcE"
      },
      "source": [
        "### <span class=\"exercici\">Exercici 1:  Fes una funció amb dos paràmetres i que en retorni la divisió</span>"
      ]
    },
    {
      "cell_type": "code",
      "metadata": {
        "id": "L7-jqFz9-fcE"
      },
      "source": [
        "# Escriu el teu codi aquí"
      ],
      "execution_count": null,
      "outputs": []
    },
    {
      "cell_type": "markdown",
      "metadata": {
        "id": "F4ClZ5xT-fcF"
      },
      "source": [
        "### Descomposició en funcions\n",
        "\n",
        "En cursos més avançats realitzareu funcions força complexes que consistiran en molts passos. I en l'entorn laboral sovint aquestes funcions complexes repeteixen codi ja fet.\n",
        "\n",
        "Per tal de facilitar la reutilització del codi, i facilitar el manteniment i llegibilitat, es recomana descomposar les funcions en parts petites amb significat.\n",
        "\n",
        "Quan us enfronteu amb un problema, heu de mirar d'identificar aquelles parts del codi que resolen un problema i separar-les del codi principal.\n",
        "Finalment, hi haurà una funció principal, que anirà cridant aquestes funcions més petites de forma ordenada, per resoldre el problema gran."
      ]
    },
    {
      "cell_type": "markdown",
      "metadata": {
        "id": "VI5347qL-fcF"
      },
      "source": [
        "### <span class=\"exercici\">Exercici 2:  Escriu una funció a la que li passis el teu nom i l'edat i et saludi dient-te quants anys et falten per arribar a 100. Descomposa la funció en dos, i fes-ne una que donat un enter et digui quant falta per a 100.\n",
        "\n",
        "Per exemple: salutacio(\"Aina\", 25)  => Hola Aina, et falten 75 anys per arribar a 100.</span>"
      ]
    },
    {
      "cell_type": "code",
      "metadata": {
        "id": "2J4boG6c-fcF"
      },
      "source": [
        "def falta_100(n):\n",
        "    ...\n",
        "    return x\n",
        "\n",
        "Falta_100(4)"
      ],
      "execution_count": null,
      "outputs": []
    },
    {
      "cell_type": "code",
      "metadata": {
        "id": "XPCFDRkp-fcG"
      },
      "source": [
        "def quants_anys(nom,edat):\n",
        "        x = Falta_100(edat)\n",
        "        print(...)"
      ],
      "execution_count": null,
      "outputs": []
    },
    {
      "cell_type": "markdown",
      "metadata": {
        "id": "12vRhLL_-fcG"
      },
      "source": [
        "<div id=\"peu\">\n",
        "<p><a href=\"https://colab.research.google.com/github/algorismica2020/algorismica2020.github.io/blob/master/notebookscolab/Funcions.ipynb\"><img style=\"margin:-10px 10px 20px 0\" width=\"150px\" align=\"right\" src=\"https://raw.githubusercontent.com/algorismica2019/problemes/master/assets/colab-badge.png?raw=1\" alt=\"Obrir a Colab\" title=\"Obrir i executar a Google Colaboratory\"></a></p>\n",
        "</div>"
      ]
    }
  ]
}