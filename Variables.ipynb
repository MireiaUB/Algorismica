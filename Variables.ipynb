{
  "nbformat": 4,
  "nbformat_minor": 0,
  "metadata": {
    "kernelspec": {
      "display_name": "Python 3",
      "language": "python",
      "name": "python3"
    },
    "language_info": {
      "codemirror_mode": {
        "name": "ipython",
        "version": 3
      },
      "file_extension": ".py",
      "mimetype": "text/x-python",
      "name": "python",
      "nbconvert_exporter": "python",
      "pygments_lexer": "ipython3",
      "version": "3.8.3"
    },
    "colab": {
      "name": "Variables.ipynb",
      "provenance": []
    }
  },
  "cells": [
    {
      "cell_type": "markdown",
      "metadata": {
        "id": "IqMOliZ2-gDZ"
      },
      "source": [
        "\n",
        "<div id=\"capcalera\">\n",
        "<p><a href=\"https://colab.research.google.com/github/algorismica2020/algorismica2020.github.io/blob/master/notebookscolab/Variables.ipynb\"><img style=\"margin:-10px 10px 20px 0\" width=\"150px\" align=\"right\" src=\"https://raw.githubusercontent.com/algorismica2019/problemes/master/assets/colab-badge.png?raw=1\" alt=\"Obrir a Colab\" title=\"Obrir i executar a Google Colaboratory\"></a></p>\n",
        "<p style=\"clear:both\"><img align='left' width=\"300px\" style=\"padding-right:10px;float=left\" src=\"https://raw.githubusercontent.com/algorismica2019/problemes/master/assets/al-khwarizmi.png\" >Aquest notebook complementa la teoria de l'assignatura d'<strong>Algorísmica</strong> del Grau d'Enginyeria Informàtica a la <a href=\"https://mat.ub.edu\">Facultat de Matemàtiques i Informàtica</a> de la <a href=\"https://www.ub.edu\">Universitat de Barcelona</a> impartida per <em>Jordi Vitrià</em> i <em>Mireia Ribera</em></p>\n",
        "\n",
        "<p>Els problemes s'ofereixen sota llicència <a href=\"https://creativecommons.org/licenses/by-nc-nd/3.0/us/legalcode\">CC-BY-NC-ND license</a>, i el codi sota <a href=\"https://opensource.org/licenses/MIT\">Llicència MIT</a>.</p>\n",
        "\n",
        "</div>"
      ]
    },
    {
      "cell_type": "markdown",
      "metadata": {
        "id": "YNHK1SIy-gDc"
      },
      "source": [
        "# <span class=\"tema\">(Python)</span> Variables i operacions bàsiques"
      ]
    },
    {
      "cell_type": "markdown",
      "metadata": {
        "id": "aVk-mYk3-gDd"
      },
      "source": [
        "A Python també podem guardar valors en variables. Les variables seran enters, booleans o text segons els valor que els assignem."
      ]
    },
    {
      "cell_type": "code",
      "metadata": {
        "id": "ds6wXrpH-gDe"
      },
      "source": [
        "nom = \"Pere\""
      ],
      "execution_count": null,
      "outputs": []
    },
    {
      "cell_type": "code",
      "metadata": {
        "id": "hmfkjrIE-gDe"
      },
      "source": [
        "edat = 20"
      ],
      "execution_count": null,
      "outputs": []
    },
    {
      "cell_type": "code",
      "metadata": {
        "id": "swa-6chR-gDf"
      },
      "source": [
        "estudia = True"
      ],
      "execution_count": null,
      "outputs": []
    },
    {
      "cell_type": "code",
      "metadata": {
        "id": "HIPlgPVt-gDf"
      },
      "source": [
        "print(nom, \"d'edat\", edat, \"estudia:\", estudia)"
      ],
      "execution_count": null,
      "outputs": []
    },
    {
      "cell_type": "markdown",
      "metadata": {
        "id": "u_pByxQ9-gDf"
      },
      "source": [
        "### <span class=\"exercici\">Exercici 1: Escriu un text a partir de variables</span>\n",
        "\n",
        "Escriu les instruccions per escriure la frase \"La botiga FruitaMadura té 20 peres i 10 pomes, en total 30 fruites\", on \"FruitaMadura\", 20 i 10 s'han guardat prèviament en una variable, i 30 es calcula amb una suma en el moment de mostrar el resultat. "
      ]
    },
    {
      "cell_type": "code",
      "metadata": {
        "id": "cqJ1h2Wv-gDg"
      },
      "source": [
        "# Escriu aquí el codi de la solució "
      ],
      "execution_count": null,
      "outputs": []
    },
    {
      "cell_type": "markdown",
      "metadata": {
        "id": "NzkeF_Bt-gDg"
      },
      "source": [
        "## Operacions matemàtiques bàsiques\n",
        "\n",
        "Python permet executar operacions matemàtiques directament a les cel·les del notebook"
      ]
    },
    {
      "cell_type": "code",
      "metadata": {
        "id": "LxfPAI1S-gDh"
      },
      "source": [
        "4.0 / 7.0 + 3.5 * 3"
      ],
      "execution_count": null,
      "outputs": []
    },
    {
      "cell_type": "code",
      "metadata": {
        "id": "6SmsGZn5-gDh"
      },
      "source": [
        "10 % 3 + 6 / 5"
      ],
      "execution_count": null,
      "outputs": []
    },
    {
      "cell_type": "code",
      "metadata": {
        "id": "diWXXwBR-gDh"
      },
      "source": [
        "5/(3.2 + 1.6 - 4.8)"
      ],
      "execution_count": null,
      "outputs": []
    },
    {
      "cell_type": "code",
      "metadata": {
        "id": "-BqayLqP-gDi"
      },
      "source": [
        "# // és la divisió entera\n",
        "11 // 3 "
      ],
      "execution_count": null,
      "outputs": []
    },
    {
      "cell_type": "code",
      "metadata": {
        "id": "N4RZUKjx-gDi"
      },
      "source": [
        "3 * 11 // 3 + 15 % 3   "
      ],
      "execution_count": null,
      "outputs": []
    },
    {
      "cell_type": "markdown",
      "metadata": {
        "id": "pKXIqdhm-gDi"
      },
      "source": [
        "I té algunes funcions per a operacions matemàtiques més complexes:"
      ]
    },
    {
      "cell_type": "code",
      "metadata": {
        "id": "x7EXtW6j-gDi"
      },
      "source": [
        "abs(1 - 16 / 4) ** 3"
      ],
      "execution_count": null,
      "outputs": []
    },
    {
      "cell_type": "markdown",
      "metadata": {
        "id": "OVx1PeWj-gDi"
      },
      "source": [
        "Però algunes d'elles requereixen importar la llibreria math"
      ]
    },
    {
      "cell_type": "code",
      "metadata": {
        "id": "MiRXxTel-gDj"
      },
      "source": [
        "import math\n",
        "math.sqrt(16)"
      ],
      "execution_count": null,
      "outputs": []
    },
    {
      "cell_type": "markdown",
      "metadata": {
        "id": "1z0OVMHf-gDj"
      },
      "source": [
        "### <span class=\"exercici\">Exercici 2:  Fes les següents operacions en Python</span>\n",
        "\n",
        "1. $5^3$\n",
        "1. arrel quadrada de 4\n",
        "1. arrel cúbica de 5\n",
        "1. 189456 / 8 => donar el resultat i la resta\n",
        "1. (2 + 9 * 3 / 5 * 4)"
      ]
    },
    {
      "cell_type": "code",
      "metadata": {
        "id": "aLEME8ef-gDj"
      },
      "source": [
        "# 5^3\n"
      ],
      "execution_count": null,
      "outputs": []
    },
    {
      "cell_type": "code",
      "metadata": {
        "id": "rMpr1nSd-gDj"
      },
      "source": [
        "# arrel quadrada de 4\n"
      ],
      "execution_count": null,
      "outputs": []
    },
    {
      "cell_type": "code",
      "metadata": {
        "id": "k_QaASjm-gDj"
      },
      "source": [
        "# arrel cúbica de 5\n"
      ],
      "execution_count": null,
      "outputs": []
    },
    {
      "cell_type": "code",
      "metadata": {
        "id": "s4BqJyiX-gDj"
      },
      "source": [
        "# 189456 / 8 => donar el resultat i la resta\n"
      ],
      "execution_count": null,
      "outputs": []
    },
    {
      "cell_type": "code",
      "metadata": {
        "id": "5TaqU9DP-gDk"
      },
      "source": [
        "# (2 + 9 * 3 / 5 * 4)\n"
      ],
      "execution_count": null,
      "outputs": []
    },
    {
      "cell_type": "markdown",
      "metadata": {
        "id": "bC0z_L0z-gDk"
      },
      "source": [
        "<div id=\"peu\">\n",
        "<p><a href=\"https://colab.research.google.com/github/algorismica2020/algorismica2020.github.io/blob/master/notebookscolab/Variables.ipynb\"><img style=\"margin:-10px 10px 20px 0\" width=\"150px\" align=\"right\" src=\"https://raw.githubusercontent.com/algorismica2019/problemes/master/assets/colab-badge.png?raw=1\" alt=\"Obrir a Colab\" title=\"Obrir i executar a Google Colaboratory\"></a></p>\n",
        "</div>"
      ]
    }
  ]
}